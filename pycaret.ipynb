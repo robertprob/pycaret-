{
 "cells": [
  {
   "cell_type": "code",
   "execution_count": 1,
   "metadata": {},
   "outputs": [],
   "source": [
    "from pycaret.datasets import get_data"
   ]
  },
  {
   "cell_type": "code",
   "execution_count": 2,
   "metadata": {},
   "outputs": [
    {
     "data": {
      "text/html": [
       "<div>\n",
       "<style scoped>\n",
       "    .dataframe tbody tr th:only-of-type {\n",
       "        vertical-align: middle;\n",
       "    }\n",
       "\n",
       "    .dataframe tbody tr th {\n",
       "        vertical-align: top;\n",
       "    }\n",
       "\n",
       "    .dataframe thead th {\n",
       "        text-align: right;\n",
       "    }\n",
       "</style>\n",
       "<table border=\"1\" class=\"dataframe\">\n",
       "  <thead>\n",
       "    <tr style=\"text-align: right;\">\n",
       "      <th></th>\n",
       "      <th>Id</th>\n",
       "      <th>Purchase</th>\n",
       "      <th>WeekofPurchase</th>\n",
       "      <th>StoreID</th>\n",
       "      <th>PriceCH</th>\n",
       "      <th>PriceMM</th>\n",
       "      <th>DiscCH</th>\n",
       "      <th>DiscMM</th>\n",
       "      <th>SpecialCH</th>\n",
       "      <th>SpecialMM</th>\n",
       "      <th>LoyalCH</th>\n",
       "      <th>SalePriceMM</th>\n",
       "      <th>SalePriceCH</th>\n",
       "      <th>PriceDiff</th>\n",
       "      <th>Store7</th>\n",
       "      <th>PctDiscMM</th>\n",
       "      <th>PctDiscCH</th>\n",
       "      <th>ListPriceDiff</th>\n",
       "      <th>STORE</th>\n",
       "    </tr>\n",
       "  </thead>\n",
       "  <tbody>\n",
       "    <tr>\n",
       "      <th>0</th>\n",
       "      <td>1</td>\n",
       "      <td>CH</td>\n",
       "      <td>237</td>\n",
       "      <td>1</td>\n",
       "      <td>1.75</td>\n",
       "      <td>1.99</td>\n",
       "      <td>0.00</td>\n",
       "      <td>0.0</td>\n",
       "      <td>0</td>\n",
       "      <td>0</td>\n",
       "      <td>0.500000</td>\n",
       "      <td>1.99</td>\n",
       "      <td>1.75</td>\n",
       "      <td>0.24</td>\n",
       "      <td>No</td>\n",
       "      <td>0.000000</td>\n",
       "      <td>0.000000</td>\n",
       "      <td>0.24</td>\n",
       "      <td>1</td>\n",
       "    </tr>\n",
       "    <tr>\n",
       "      <th>1</th>\n",
       "      <td>2</td>\n",
       "      <td>CH</td>\n",
       "      <td>239</td>\n",
       "      <td>1</td>\n",
       "      <td>1.75</td>\n",
       "      <td>1.99</td>\n",
       "      <td>0.00</td>\n",
       "      <td>0.3</td>\n",
       "      <td>0</td>\n",
       "      <td>1</td>\n",
       "      <td>0.600000</td>\n",
       "      <td>1.69</td>\n",
       "      <td>1.75</td>\n",
       "      <td>-0.06</td>\n",
       "      <td>No</td>\n",
       "      <td>0.150754</td>\n",
       "      <td>0.000000</td>\n",
       "      <td>0.24</td>\n",
       "      <td>1</td>\n",
       "    </tr>\n",
       "    <tr>\n",
       "      <th>2</th>\n",
       "      <td>3</td>\n",
       "      <td>CH</td>\n",
       "      <td>245</td>\n",
       "      <td>1</td>\n",
       "      <td>1.86</td>\n",
       "      <td>2.09</td>\n",
       "      <td>0.17</td>\n",
       "      <td>0.0</td>\n",
       "      <td>0</td>\n",
       "      <td>0</td>\n",
       "      <td>0.680000</td>\n",
       "      <td>2.09</td>\n",
       "      <td>1.69</td>\n",
       "      <td>0.40</td>\n",
       "      <td>No</td>\n",
       "      <td>0.000000</td>\n",
       "      <td>0.091398</td>\n",
       "      <td>0.23</td>\n",
       "      <td>1</td>\n",
       "    </tr>\n",
       "    <tr>\n",
       "      <th>3</th>\n",
       "      <td>4</td>\n",
       "      <td>MM</td>\n",
       "      <td>227</td>\n",
       "      <td>1</td>\n",
       "      <td>1.69</td>\n",
       "      <td>1.69</td>\n",
       "      <td>0.00</td>\n",
       "      <td>0.0</td>\n",
       "      <td>0</td>\n",
       "      <td>0</td>\n",
       "      <td>0.400000</td>\n",
       "      <td>1.69</td>\n",
       "      <td>1.69</td>\n",
       "      <td>0.00</td>\n",
       "      <td>No</td>\n",
       "      <td>0.000000</td>\n",
       "      <td>0.000000</td>\n",
       "      <td>0.00</td>\n",
       "      <td>1</td>\n",
       "    </tr>\n",
       "    <tr>\n",
       "      <th>4</th>\n",
       "      <td>5</td>\n",
       "      <td>CH</td>\n",
       "      <td>228</td>\n",
       "      <td>7</td>\n",
       "      <td>1.69</td>\n",
       "      <td>1.69</td>\n",
       "      <td>0.00</td>\n",
       "      <td>0.0</td>\n",
       "      <td>0</td>\n",
       "      <td>0</td>\n",
       "      <td>0.956535</td>\n",
       "      <td>1.69</td>\n",
       "      <td>1.69</td>\n",
       "      <td>0.00</td>\n",
       "      <td>Yes</td>\n",
       "      <td>0.000000</td>\n",
       "      <td>0.000000</td>\n",
       "      <td>0.00</td>\n",
       "      <td>0</td>\n",
       "    </tr>\n",
       "  </tbody>\n",
       "</table>\n",
       "</div>"
      ],
      "text/plain": [
       "   Id Purchase  WeekofPurchase  StoreID  PriceCH  PriceMM  DiscCH  DiscMM  \\\n",
       "0   1       CH             237        1     1.75     1.99    0.00     0.0   \n",
       "1   2       CH             239        1     1.75     1.99    0.00     0.3   \n",
       "2   3       CH             245        1     1.86     2.09    0.17     0.0   \n",
       "3   4       MM             227        1     1.69     1.69    0.00     0.0   \n",
       "4   5       CH             228        7     1.69     1.69    0.00     0.0   \n",
       "\n",
       "   SpecialCH  SpecialMM   LoyalCH  SalePriceMM  SalePriceCH  PriceDiff Store7  \\\n",
       "0          0          0  0.500000         1.99         1.75       0.24     No   \n",
       "1          0          1  0.600000         1.69         1.75      -0.06     No   \n",
       "2          0          0  0.680000         2.09         1.69       0.40     No   \n",
       "3          0          0  0.400000         1.69         1.69       0.00     No   \n",
       "4          0          0  0.956535         1.69         1.69       0.00    Yes   \n",
       "\n",
       "   PctDiscMM  PctDiscCH  ListPriceDiff  STORE  \n",
       "0   0.000000   0.000000           0.24      1  \n",
       "1   0.150754   0.000000           0.24      1  \n",
       "2   0.000000   0.091398           0.23      1  \n",
       "3   0.000000   0.000000           0.00      1  \n",
       "4   0.000000   0.000000           0.00      0  "
      ]
     },
     "metadata": {},
     "output_type": "display_data"
    }
   ],
   "source": [
    "df=get_data('juice')"
   ]
  },
  {
   "cell_type": "code",
   "execution_count": 3,
   "metadata": {},
   "outputs": [
    {
     "data": {
      "text/html": [
       "<div>\n",
       "<style scoped>\n",
       "    .dataframe tbody tr th:only-of-type {\n",
       "        vertical-align: middle;\n",
       "    }\n",
       "\n",
       "    .dataframe tbody tr th {\n",
       "        vertical-align: top;\n",
       "    }\n",
       "\n",
       "    .dataframe thead th {\n",
       "        text-align: right;\n",
       "    }\n",
       "</style>\n",
       "<table border=\"1\" class=\"dataframe\">\n",
       "  <thead>\n",
       "    <tr style=\"text-align: right;\">\n",
       "      <th></th>\n",
       "      <th>Number of times pregnant</th>\n",
       "      <th>Plasma glucose concentration a 2 hours in an oral glucose tolerance test</th>\n",
       "      <th>Diastolic blood pressure (mm Hg)</th>\n",
       "      <th>Triceps skin fold thickness (mm)</th>\n",
       "      <th>2-Hour serum insulin (mu U/ml)</th>\n",
       "      <th>Body mass index (weight in kg/(height in m)^2)</th>\n",
       "      <th>Diabetes pedigree function</th>\n",
       "      <th>Age (years)</th>\n",
       "      <th>Class variable</th>\n",
       "    </tr>\n",
       "  </thead>\n",
       "  <tbody>\n",
       "    <tr>\n",
       "      <th>0</th>\n",
       "      <td>6</td>\n",
       "      <td>148</td>\n",
       "      <td>72</td>\n",
       "      <td>35</td>\n",
       "      <td>0</td>\n",
       "      <td>33.6</td>\n",
       "      <td>0.627</td>\n",
       "      <td>50</td>\n",
       "      <td>1</td>\n",
       "    </tr>\n",
       "    <tr>\n",
       "      <th>1</th>\n",
       "      <td>1</td>\n",
       "      <td>85</td>\n",
       "      <td>66</td>\n",
       "      <td>29</td>\n",
       "      <td>0</td>\n",
       "      <td>26.6</td>\n",
       "      <td>0.351</td>\n",
       "      <td>31</td>\n",
       "      <td>0</td>\n",
       "    </tr>\n",
       "    <tr>\n",
       "      <th>2</th>\n",
       "      <td>8</td>\n",
       "      <td>183</td>\n",
       "      <td>64</td>\n",
       "      <td>0</td>\n",
       "      <td>0</td>\n",
       "      <td>23.3</td>\n",
       "      <td>0.672</td>\n",
       "      <td>32</td>\n",
       "      <td>1</td>\n",
       "    </tr>\n",
       "    <tr>\n",
       "      <th>3</th>\n",
       "      <td>1</td>\n",
       "      <td>89</td>\n",
       "      <td>66</td>\n",
       "      <td>23</td>\n",
       "      <td>94</td>\n",
       "      <td>28.1</td>\n",
       "      <td>0.167</td>\n",
       "      <td>21</td>\n",
       "      <td>0</td>\n",
       "    </tr>\n",
       "    <tr>\n",
       "      <th>4</th>\n",
       "      <td>0</td>\n",
       "      <td>137</td>\n",
       "      <td>40</td>\n",
       "      <td>35</td>\n",
       "      <td>168</td>\n",
       "      <td>43.1</td>\n",
       "      <td>2.288</td>\n",
       "      <td>33</td>\n",
       "      <td>1</td>\n",
       "    </tr>\n",
       "  </tbody>\n",
       "</table>\n",
       "</div>"
      ],
      "text/plain": [
       "   Number of times pregnant  \\\n",
       "0                         6   \n",
       "1                         1   \n",
       "2                         8   \n",
       "3                         1   \n",
       "4                         0   \n",
       "\n",
       "   Plasma glucose concentration a 2 hours in an oral glucose tolerance test  \\\n",
       "0                                                148                          \n",
       "1                                                 85                          \n",
       "2                                                183                          \n",
       "3                                                 89                          \n",
       "4                                                137                          \n",
       "\n",
       "   Diastolic blood pressure (mm Hg)  Triceps skin fold thickness (mm)  \\\n",
       "0                                72                                35   \n",
       "1                                66                                29   \n",
       "2                                64                                 0   \n",
       "3                                66                                23   \n",
       "4                                40                                35   \n",
       "\n",
       "   2-Hour serum insulin (mu U/ml)  \\\n",
       "0                               0   \n",
       "1                               0   \n",
       "2                               0   \n",
       "3                              94   \n",
       "4                             168   \n",
       "\n",
       "   Body mass index (weight in kg/(height in m)^2)  Diabetes pedigree function  \\\n",
       "0                                            33.6                       0.627   \n",
       "1                                            26.6                       0.351   \n",
       "2                                            23.3                       0.672   \n",
       "3                                            28.1                       0.167   \n",
       "4                                            43.1                       2.288   \n",
       "\n",
       "   Age (years)  Class variable  \n",
       "0           50               1  \n",
       "1           31               0  \n",
       "2           32               1  \n",
       "3           21               0  \n",
       "4           33               1  "
      ]
     },
     "metadata": {},
     "output_type": "display_data"
    }
   ],
   "source": [
    "diabetes_df=get_data('diabetes')"
   ]
  },
  {
   "cell_type": "code",
   "execution_count": 5,
   "metadata": {},
   "outputs": [
    {
     "name": "stdout",
     "output_type": "stream",
     "text": [
      " \n",
      "Setup Succesfully Completed!\n"
     ]
    },
    {
     "data": {
      "text/html": [
       "<style  type=\"text/css\" >\n",
       "</style><table id=\"T_29ea9b3a_cfb0_11ea_81f6_b808cf1506d0\" ><thead>    <tr>        <th class=\"blank level0\" ></th>        <th class=\"col_heading level0 col0\" >Description</th>        <th class=\"col_heading level0 col1\" >Value</th>    </tr></thead><tbody>\n",
       "                <tr>\n",
       "                        <th id=\"T_29ea9b3a_cfb0_11ea_81f6_b808cf1506d0level0_row0\" class=\"row_heading level0 row0\" >0</th>\n",
       "                        <td id=\"T_29ea9b3a_cfb0_11ea_81f6_b808cf1506d0row0_col0\" class=\"data row0 col0\" >session_id</td>\n",
       "                        <td id=\"T_29ea9b3a_cfb0_11ea_81f6_b808cf1506d0row0_col1\" class=\"data row0 col1\" >7136</td>\n",
       "            </tr>\n",
       "            <tr>\n",
       "                        <th id=\"T_29ea9b3a_cfb0_11ea_81f6_b808cf1506d0level0_row1\" class=\"row_heading level0 row1\" >1</th>\n",
       "                        <td id=\"T_29ea9b3a_cfb0_11ea_81f6_b808cf1506d0row1_col0\" class=\"data row1 col0\" >Target Type</td>\n",
       "                        <td id=\"T_29ea9b3a_cfb0_11ea_81f6_b808cf1506d0row1_col1\" class=\"data row1 col1\" >Binary</td>\n",
       "            </tr>\n",
       "            <tr>\n",
       "                        <th id=\"T_29ea9b3a_cfb0_11ea_81f6_b808cf1506d0level0_row2\" class=\"row_heading level0 row2\" >2</th>\n",
       "                        <td id=\"T_29ea9b3a_cfb0_11ea_81f6_b808cf1506d0row2_col0\" class=\"data row2 col0\" >Label Encoded</td>\n",
       "                        <td id=\"T_29ea9b3a_cfb0_11ea_81f6_b808cf1506d0row2_col1\" class=\"data row2 col1\" >None</td>\n",
       "            </tr>\n",
       "            <tr>\n",
       "                        <th id=\"T_29ea9b3a_cfb0_11ea_81f6_b808cf1506d0level0_row3\" class=\"row_heading level0 row3\" >3</th>\n",
       "                        <td id=\"T_29ea9b3a_cfb0_11ea_81f6_b808cf1506d0row3_col0\" class=\"data row3 col0\" >Original Data</td>\n",
       "                        <td id=\"T_29ea9b3a_cfb0_11ea_81f6_b808cf1506d0row3_col1\" class=\"data row3 col1\" >(768, 9)</td>\n",
       "            </tr>\n",
       "            <tr>\n",
       "                        <th id=\"T_29ea9b3a_cfb0_11ea_81f6_b808cf1506d0level0_row4\" class=\"row_heading level0 row4\" >4</th>\n",
       "                        <td id=\"T_29ea9b3a_cfb0_11ea_81f6_b808cf1506d0row4_col0\" class=\"data row4 col0\" >Missing Values </td>\n",
       "                        <td id=\"T_29ea9b3a_cfb0_11ea_81f6_b808cf1506d0row4_col1\" class=\"data row4 col1\" >False</td>\n",
       "            </tr>\n",
       "            <tr>\n",
       "                        <th id=\"T_29ea9b3a_cfb0_11ea_81f6_b808cf1506d0level0_row5\" class=\"row_heading level0 row5\" >5</th>\n",
       "                        <td id=\"T_29ea9b3a_cfb0_11ea_81f6_b808cf1506d0row5_col0\" class=\"data row5 col0\" >Numeric Features </td>\n",
       "                        <td id=\"T_29ea9b3a_cfb0_11ea_81f6_b808cf1506d0row5_col1\" class=\"data row5 col1\" >7</td>\n",
       "            </tr>\n",
       "            <tr>\n",
       "                        <th id=\"T_29ea9b3a_cfb0_11ea_81f6_b808cf1506d0level0_row6\" class=\"row_heading level0 row6\" >6</th>\n",
       "                        <td id=\"T_29ea9b3a_cfb0_11ea_81f6_b808cf1506d0row6_col0\" class=\"data row6 col0\" >Categorical Features </td>\n",
       "                        <td id=\"T_29ea9b3a_cfb0_11ea_81f6_b808cf1506d0row6_col1\" class=\"data row6 col1\" >1</td>\n",
       "            </tr>\n",
       "            <tr>\n",
       "                        <th id=\"T_29ea9b3a_cfb0_11ea_81f6_b808cf1506d0level0_row7\" class=\"row_heading level0 row7\" >7</th>\n",
       "                        <td id=\"T_29ea9b3a_cfb0_11ea_81f6_b808cf1506d0row7_col0\" class=\"data row7 col0\" >Ordinal Features </td>\n",
       "                        <td id=\"T_29ea9b3a_cfb0_11ea_81f6_b808cf1506d0row7_col1\" class=\"data row7 col1\" >False</td>\n",
       "            </tr>\n",
       "            <tr>\n",
       "                        <th id=\"T_29ea9b3a_cfb0_11ea_81f6_b808cf1506d0level0_row8\" class=\"row_heading level0 row8\" >8</th>\n",
       "                        <td id=\"T_29ea9b3a_cfb0_11ea_81f6_b808cf1506d0row8_col0\" class=\"data row8 col0\" >High Cardinality Features </td>\n",
       "                        <td id=\"T_29ea9b3a_cfb0_11ea_81f6_b808cf1506d0row8_col1\" class=\"data row8 col1\" >False</td>\n",
       "            </tr>\n",
       "            <tr>\n",
       "                        <th id=\"T_29ea9b3a_cfb0_11ea_81f6_b808cf1506d0level0_row9\" class=\"row_heading level0 row9\" >9</th>\n",
       "                        <td id=\"T_29ea9b3a_cfb0_11ea_81f6_b808cf1506d0row9_col0\" class=\"data row9 col0\" >High Cardinality Method </td>\n",
       "                        <td id=\"T_29ea9b3a_cfb0_11ea_81f6_b808cf1506d0row9_col1\" class=\"data row9 col1\" >None</td>\n",
       "            </tr>\n",
       "            <tr>\n",
       "                        <th id=\"T_29ea9b3a_cfb0_11ea_81f6_b808cf1506d0level0_row10\" class=\"row_heading level0 row10\" >10</th>\n",
       "                        <td id=\"T_29ea9b3a_cfb0_11ea_81f6_b808cf1506d0row10_col0\" class=\"data row10 col0\" >Sampled Data</td>\n",
       "                        <td id=\"T_29ea9b3a_cfb0_11ea_81f6_b808cf1506d0row10_col1\" class=\"data row10 col1\" >(768, 9)</td>\n",
       "            </tr>\n",
       "            <tr>\n",
       "                        <th id=\"T_29ea9b3a_cfb0_11ea_81f6_b808cf1506d0level0_row11\" class=\"row_heading level0 row11\" >11</th>\n",
       "                        <td id=\"T_29ea9b3a_cfb0_11ea_81f6_b808cf1506d0row11_col0\" class=\"data row11 col0\" >Transformed Train Set</td>\n",
       "                        <td id=\"T_29ea9b3a_cfb0_11ea_81f6_b808cf1506d0row11_col1\" class=\"data row11 col1\" >(537, 24)</td>\n",
       "            </tr>\n",
       "            <tr>\n",
       "                        <th id=\"T_29ea9b3a_cfb0_11ea_81f6_b808cf1506d0level0_row12\" class=\"row_heading level0 row12\" >12</th>\n",
       "                        <td id=\"T_29ea9b3a_cfb0_11ea_81f6_b808cf1506d0row12_col0\" class=\"data row12 col0\" >Transformed Test Set</td>\n",
       "                        <td id=\"T_29ea9b3a_cfb0_11ea_81f6_b808cf1506d0row12_col1\" class=\"data row12 col1\" >(231, 24)</td>\n",
       "            </tr>\n",
       "            <tr>\n",
       "                        <th id=\"T_29ea9b3a_cfb0_11ea_81f6_b808cf1506d0level0_row13\" class=\"row_heading level0 row13\" >13</th>\n",
       "                        <td id=\"T_29ea9b3a_cfb0_11ea_81f6_b808cf1506d0row13_col0\" class=\"data row13 col0\" >Numeric Imputer </td>\n",
       "                        <td id=\"T_29ea9b3a_cfb0_11ea_81f6_b808cf1506d0row13_col1\" class=\"data row13 col1\" >mean</td>\n",
       "            </tr>\n",
       "            <tr>\n",
       "                        <th id=\"T_29ea9b3a_cfb0_11ea_81f6_b808cf1506d0level0_row14\" class=\"row_heading level0 row14\" >14</th>\n",
       "                        <td id=\"T_29ea9b3a_cfb0_11ea_81f6_b808cf1506d0row14_col0\" class=\"data row14 col0\" >Categorical Imputer </td>\n",
       "                        <td id=\"T_29ea9b3a_cfb0_11ea_81f6_b808cf1506d0row14_col1\" class=\"data row14 col1\" >constant</td>\n",
       "            </tr>\n",
       "            <tr>\n",
       "                        <th id=\"T_29ea9b3a_cfb0_11ea_81f6_b808cf1506d0level0_row15\" class=\"row_heading level0 row15\" >15</th>\n",
       "                        <td id=\"T_29ea9b3a_cfb0_11ea_81f6_b808cf1506d0row15_col0\" class=\"data row15 col0\" >Normalize </td>\n",
       "                        <td id=\"T_29ea9b3a_cfb0_11ea_81f6_b808cf1506d0row15_col1\" class=\"data row15 col1\" >False</td>\n",
       "            </tr>\n",
       "            <tr>\n",
       "                        <th id=\"T_29ea9b3a_cfb0_11ea_81f6_b808cf1506d0level0_row16\" class=\"row_heading level0 row16\" >16</th>\n",
       "                        <td id=\"T_29ea9b3a_cfb0_11ea_81f6_b808cf1506d0row16_col0\" class=\"data row16 col0\" >Normalize Method </td>\n",
       "                        <td id=\"T_29ea9b3a_cfb0_11ea_81f6_b808cf1506d0row16_col1\" class=\"data row16 col1\" >None</td>\n",
       "            </tr>\n",
       "            <tr>\n",
       "                        <th id=\"T_29ea9b3a_cfb0_11ea_81f6_b808cf1506d0level0_row17\" class=\"row_heading level0 row17\" >17</th>\n",
       "                        <td id=\"T_29ea9b3a_cfb0_11ea_81f6_b808cf1506d0row17_col0\" class=\"data row17 col0\" >Transformation </td>\n",
       "                        <td id=\"T_29ea9b3a_cfb0_11ea_81f6_b808cf1506d0row17_col1\" class=\"data row17 col1\" >False</td>\n",
       "            </tr>\n",
       "            <tr>\n",
       "                        <th id=\"T_29ea9b3a_cfb0_11ea_81f6_b808cf1506d0level0_row18\" class=\"row_heading level0 row18\" >18</th>\n",
       "                        <td id=\"T_29ea9b3a_cfb0_11ea_81f6_b808cf1506d0row18_col0\" class=\"data row18 col0\" >Transformation Method </td>\n",
       "                        <td id=\"T_29ea9b3a_cfb0_11ea_81f6_b808cf1506d0row18_col1\" class=\"data row18 col1\" >None</td>\n",
       "            </tr>\n",
       "            <tr>\n",
       "                        <th id=\"T_29ea9b3a_cfb0_11ea_81f6_b808cf1506d0level0_row19\" class=\"row_heading level0 row19\" >19</th>\n",
       "                        <td id=\"T_29ea9b3a_cfb0_11ea_81f6_b808cf1506d0row19_col0\" class=\"data row19 col0\" >PCA </td>\n",
       "                        <td id=\"T_29ea9b3a_cfb0_11ea_81f6_b808cf1506d0row19_col1\" class=\"data row19 col1\" >False</td>\n",
       "            </tr>\n",
       "            <tr>\n",
       "                        <th id=\"T_29ea9b3a_cfb0_11ea_81f6_b808cf1506d0level0_row20\" class=\"row_heading level0 row20\" >20</th>\n",
       "                        <td id=\"T_29ea9b3a_cfb0_11ea_81f6_b808cf1506d0row20_col0\" class=\"data row20 col0\" >PCA Method </td>\n",
       "                        <td id=\"T_29ea9b3a_cfb0_11ea_81f6_b808cf1506d0row20_col1\" class=\"data row20 col1\" >None</td>\n",
       "            </tr>\n",
       "            <tr>\n",
       "                        <th id=\"T_29ea9b3a_cfb0_11ea_81f6_b808cf1506d0level0_row21\" class=\"row_heading level0 row21\" >21</th>\n",
       "                        <td id=\"T_29ea9b3a_cfb0_11ea_81f6_b808cf1506d0row21_col0\" class=\"data row21 col0\" >PCA Components </td>\n",
       "                        <td id=\"T_29ea9b3a_cfb0_11ea_81f6_b808cf1506d0row21_col1\" class=\"data row21 col1\" >None</td>\n",
       "            </tr>\n",
       "            <tr>\n",
       "                        <th id=\"T_29ea9b3a_cfb0_11ea_81f6_b808cf1506d0level0_row22\" class=\"row_heading level0 row22\" >22</th>\n",
       "                        <td id=\"T_29ea9b3a_cfb0_11ea_81f6_b808cf1506d0row22_col0\" class=\"data row22 col0\" >Ignore Low Variance </td>\n",
       "                        <td id=\"T_29ea9b3a_cfb0_11ea_81f6_b808cf1506d0row22_col1\" class=\"data row22 col1\" >False</td>\n",
       "            </tr>\n",
       "            <tr>\n",
       "                        <th id=\"T_29ea9b3a_cfb0_11ea_81f6_b808cf1506d0level0_row23\" class=\"row_heading level0 row23\" >23</th>\n",
       "                        <td id=\"T_29ea9b3a_cfb0_11ea_81f6_b808cf1506d0row23_col0\" class=\"data row23 col0\" >Combine Rare Levels </td>\n",
       "                        <td id=\"T_29ea9b3a_cfb0_11ea_81f6_b808cf1506d0row23_col1\" class=\"data row23 col1\" >False</td>\n",
       "            </tr>\n",
       "            <tr>\n",
       "                        <th id=\"T_29ea9b3a_cfb0_11ea_81f6_b808cf1506d0level0_row24\" class=\"row_heading level0 row24\" >24</th>\n",
       "                        <td id=\"T_29ea9b3a_cfb0_11ea_81f6_b808cf1506d0row24_col0\" class=\"data row24 col0\" >Rare Level Threshold </td>\n",
       "                        <td id=\"T_29ea9b3a_cfb0_11ea_81f6_b808cf1506d0row24_col1\" class=\"data row24 col1\" >None</td>\n",
       "            </tr>\n",
       "            <tr>\n",
       "                        <th id=\"T_29ea9b3a_cfb0_11ea_81f6_b808cf1506d0level0_row25\" class=\"row_heading level0 row25\" >25</th>\n",
       "                        <td id=\"T_29ea9b3a_cfb0_11ea_81f6_b808cf1506d0row25_col0\" class=\"data row25 col0\" >Numeric Binning </td>\n",
       "                        <td id=\"T_29ea9b3a_cfb0_11ea_81f6_b808cf1506d0row25_col1\" class=\"data row25 col1\" >False</td>\n",
       "            </tr>\n",
       "            <tr>\n",
       "                        <th id=\"T_29ea9b3a_cfb0_11ea_81f6_b808cf1506d0level0_row26\" class=\"row_heading level0 row26\" >26</th>\n",
       "                        <td id=\"T_29ea9b3a_cfb0_11ea_81f6_b808cf1506d0row26_col0\" class=\"data row26 col0\" >Remove Outliers </td>\n",
       "                        <td id=\"T_29ea9b3a_cfb0_11ea_81f6_b808cf1506d0row26_col1\" class=\"data row26 col1\" >False</td>\n",
       "            </tr>\n",
       "            <tr>\n",
       "                        <th id=\"T_29ea9b3a_cfb0_11ea_81f6_b808cf1506d0level0_row27\" class=\"row_heading level0 row27\" >27</th>\n",
       "                        <td id=\"T_29ea9b3a_cfb0_11ea_81f6_b808cf1506d0row27_col0\" class=\"data row27 col0\" >Outliers Threshold </td>\n",
       "                        <td id=\"T_29ea9b3a_cfb0_11ea_81f6_b808cf1506d0row27_col1\" class=\"data row27 col1\" >None</td>\n",
       "            </tr>\n",
       "            <tr>\n",
       "                        <th id=\"T_29ea9b3a_cfb0_11ea_81f6_b808cf1506d0level0_row28\" class=\"row_heading level0 row28\" >28</th>\n",
       "                        <td id=\"T_29ea9b3a_cfb0_11ea_81f6_b808cf1506d0row28_col0\" class=\"data row28 col0\" >Remove Multicollinearity </td>\n",
       "                        <td id=\"T_29ea9b3a_cfb0_11ea_81f6_b808cf1506d0row28_col1\" class=\"data row28 col1\" >False</td>\n",
       "            </tr>\n",
       "            <tr>\n",
       "                        <th id=\"T_29ea9b3a_cfb0_11ea_81f6_b808cf1506d0level0_row29\" class=\"row_heading level0 row29\" >29</th>\n",
       "                        <td id=\"T_29ea9b3a_cfb0_11ea_81f6_b808cf1506d0row29_col0\" class=\"data row29 col0\" >Multicollinearity Threshold </td>\n",
       "                        <td id=\"T_29ea9b3a_cfb0_11ea_81f6_b808cf1506d0row29_col1\" class=\"data row29 col1\" >None</td>\n",
       "            </tr>\n",
       "            <tr>\n",
       "                        <th id=\"T_29ea9b3a_cfb0_11ea_81f6_b808cf1506d0level0_row30\" class=\"row_heading level0 row30\" >30</th>\n",
       "                        <td id=\"T_29ea9b3a_cfb0_11ea_81f6_b808cf1506d0row30_col0\" class=\"data row30 col0\" >Clustering </td>\n",
       "                        <td id=\"T_29ea9b3a_cfb0_11ea_81f6_b808cf1506d0row30_col1\" class=\"data row30 col1\" >False</td>\n",
       "            </tr>\n",
       "            <tr>\n",
       "                        <th id=\"T_29ea9b3a_cfb0_11ea_81f6_b808cf1506d0level0_row31\" class=\"row_heading level0 row31\" >31</th>\n",
       "                        <td id=\"T_29ea9b3a_cfb0_11ea_81f6_b808cf1506d0row31_col0\" class=\"data row31 col0\" >Clustering Iteration </td>\n",
       "                        <td id=\"T_29ea9b3a_cfb0_11ea_81f6_b808cf1506d0row31_col1\" class=\"data row31 col1\" >None</td>\n",
       "            </tr>\n",
       "            <tr>\n",
       "                        <th id=\"T_29ea9b3a_cfb0_11ea_81f6_b808cf1506d0level0_row32\" class=\"row_heading level0 row32\" >32</th>\n",
       "                        <td id=\"T_29ea9b3a_cfb0_11ea_81f6_b808cf1506d0row32_col0\" class=\"data row32 col0\" >Polynomial Features </td>\n",
       "                        <td id=\"T_29ea9b3a_cfb0_11ea_81f6_b808cf1506d0row32_col1\" class=\"data row32 col1\" >False</td>\n",
       "            </tr>\n",
       "            <tr>\n",
       "                        <th id=\"T_29ea9b3a_cfb0_11ea_81f6_b808cf1506d0level0_row33\" class=\"row_heading level0 row33\" >33</th>\n",
       "                        <td id=\"T_29ea9b3a_cfb0_11ea_81f6_b808cf1506d0row33_col0\" class=\"data row33 col0\" >Polynomial Degree </td>\n",
       "                        <td id=\"T_29ea9b3a_cfb0_11ea_81f6_b808cf1506d0row33_col1\" class=\"data row33 col1\" >None</td>\n",
       "            </tr>\n",
       "            <tr>\n",
       "                        <th id=\"T_29ea9b3a_cfb0_11ea_81f6_b808cf1506d0level0_row34\" class=\"row_heading level0 row34\" >34</th>\n",
       "                        <td id=\"T_29ea9b3a_cfb0_11ea_81f6_b808cf1506d0row34_col0\" class=\"data row34 col0\" >Trignometry Features </td>\n",
       "                        <td id=\"T_29ea9b3a_cfb0_11ea_81f6_b808cf1506d0row34_col1\" class=\"data row34 col1\" >False</td>\n",
       "            </tr>\n",
       "            <tr>\n",
       "                        <th id=\"T_29ea9b3a_cfb0_11ea_81f6_b808cf1506d0level0_row35\" class=\"row_heading level0 row35\" >35</th>\n",
       "                        <td id=\"T_29ea9b3a_cfb0_11ea_81f6_b808cf1506d0row35_col0\" class=\"data row35 col0\" >Polynomial Threshold </td>\n",
       "                        <td id=\"T_29ea9b3a_cfb0_11ea_81f6_b808cf1506d0row35_col1\" class=\"data row35 col1\" >None</td>\n",
       "            </tr>\n",
       "            <tr>\n",
       "                        <th id=\"T_29ea9b3a_cfb0_11ea_81f6_b808cf1506d0level0_row36\" class=\"row_heading level0 row36\" >36</th>\n",
       "                        <td id=\"T_29ea9b3a_cfb0_11ea_81f6_b808cf1506d0row36_col0\" class=\"data row36 col0\" >Group Features </td>\n",
       "                        <td id=\"T_29ea9b3a_cfb0_11ea_81f6_b808cf1506d0row36_col1\" class=\"data row36 col1\" >False</td>\n",
       "            </tr>\n",
       "            <tr>\n",
       "                        <th id=\"T_29ea9b3a_cfb0_11ea_81f6_b808cf1506d0level0_row37\" class=\"row_heading level0 row37\" >37</th>\n",
       "                        <td id=\"T_29ea9b3a_cfb0_11ea_81f6_b808cf1506d0row37_col0\" class=\"data row37 col0\" >Feature Selection </td>\n",
       "                        <td id=\"T_29ea9b3a_cfb0_11ea_81f6_b808cf1506d0row37_col1\" class=\"data row37 col1\" >False</td>\n",
       "            </tr>\n",
       "            <tr>\n",
       "                        <th id=\"T_29ea9b3a_cfb0_11ea_81f6_b808cf1506d0level0_row38\" class=\"row_heading level0 row38\" >38</th>\n",
       "                        <td id=\"T_29ea9b3a_cfb0_11ea_81f6_b808cf1506d0row38_col0\" class=\"data row38 col0\" >Features Selection Threshold </td>\n",
       "                        <td id=\"T_29ea9b3a_cfb0_11ea_81f6_b808cf1506d0row38_col1\" class=\"data row38 col1\" >None</td>\n",
       "            </tr>\n",
       "            <tr>\n",
       "                        <th id=\"T_29ea9b3a_cfb0_11ea_81f6_b808cf1506d0level0_row39\" class=\"row_heading level0 row39\" >39</th>\n",
       "                        <td id=\"T_29ea9b3a_cfb0_11ea_81f6_b808cf1506d0row39_col0\" class=\"data row39 col0\" >Feature Interaction </td>\n",
       "                        <td id=\"T_29ea9b3a_cfb0_11ea_81f6_b808cf1506d0row39_col1\" class=\"data row39 col1\" >False</td>\n",
       "            </tr>\n",
       "            <tr>\n",
       "                        <th id=\"T_29ea9b3a_cfb0_11ea_81f6_b808cf1506d0level0_row40\" class=\"row_heading level0 row40\" >40</th>\n",
       "                        <td id=\"T_29ea9b3a_cfb0_11ea_81f6_b808cf1506d0row40_col0\" class=\"data row40 col0\" >Feature Ratio </td>\n",
       "                        <td id=\"T_29ea9b3a_cfb0_11ea_81f6_b808cf1506d0row40_col1\" class=\"data row40 col1\" >False</td>\n",
       "            </tr>\n",
       "            <tr>\n",
       "                        <th id=\"T_29ea9b3a_cfb0_11ea_81f6_b808cf1506d0level0_row41\" class=\"row_heading level0 row41\" >41</th>\n",
       "                        <td id=\"T_29ea9b3a_cfb0_11ea_81f6_b808cf1506d0row41_col0\" class=\"data row41 col0\" >Interaction Threshold </td>\n",
       "                        <td id=\"T_29ea9b3a_cfb0_11ea_81f6_b808cf1506d0row41_col1\" class=\"data row41 col1\" >None</td>\n",
       "            </tr>\n",
       "    </tbody></table>"
      ],
      "text/plain": [
       "<pandas.io.formats.style.Styler at 0x1d5b2389348>"
      ]
     },
     "metadata": {},
     "output_type": "display_data"
    }
   ],
   "source": [
    "from pycaret.classification import *\n",
    "clf=setup(data=diabetes_df,target='Class variable')"
   ]
  },
  {
   "cell_type": "code",
   "execution_count": 10,
   "metadata": {},
   "outputs": [
    {
     "data": {
      "text/html": [
       "<style  type=\"text/css\" >\n",
       "    #T_b965a04c_cfb1_11ea_b40a_b808cf1506d0 th {\n",
       "          text-align: left;\n",
       "    }    #T_b965a04c_cfb1_11ea_b40a_b808cf1506d0row0_col0 {\n",
       "            text-align:  left;\n",
       "        }    #T_b965a04c_cfb1_11ea_b40a_b808cf1506d0row0_col1 {\n",
       "            background-color:  yellow;\n",
       "            text-align:  left;\n",
       "        }    #T_b965a04c_cfb1_11ea_b40a_b808cf1506d0row0_col2 {\n",
       "            : ;\n",
       "            text-align:  left;\n",
       "        }    #T_b965a04c_cfb1_11ea_b40a_b808cf1506d0row0_col3 {\n",
       "            background-color:  yellow;\n",
       "            text-align:  left;\n",
       "        }    #T_b965a04c_cfb1_11ea_b40a_b808cf1506d0row0_col4 {\n",
       "            background-color:  yellow;\n",
       "            text-align:  left;\n",
       "        }    #T_b965a04c_cfb1_11ea_b40a_b808cf1506d0row0_col5 {\n",
       "            background-color:  yellow;\n",
       "            text-align:  left;\n",
       "        }    #T_b965a04c_cfb1_11ea_b40a_b808cf1506d0row0_col6 {\n",
       "            background-color:  yellow;\n",
       "            text-align:  left;\n",
       "        }    #T_b965a04c_cfb1_11ea_b40a_b808cf1506d0row1_col0 {\n",
       "            text-align:  left;\n",
       "        }    #T_b965a04c_cfb1_11ea_b40a_b808cf1506d0row1_col1 {\n",
       "            : ;\n",
       "            text-align:  left;\n",
       "        }    #T_b965a04c_cfb1_11ea_b40a_b808cf1506d0row1_col2 {\n",
       "            : ;\n",
       "            text-align:  left;\n",
       "        }    #T_b965a04c_cfb1_11ea_b40a_b808cf1506d0row1_col3 {\n",
       "            : ;\n",
       "            text-align:  left;\n",
       "        }    #T_b965a04c_cfb1_11ea_b40a_b808cf1506d0row1_col4 {\n",
       "            : ;\n",
       "            text-align:  left;\n",
       "        }    #T_b965a04c_cfb1_11ea_b40a_b808cf1506d0row1_col5 {\n",
       "            : ;\n",
       "            text-align:  left;\n",
       "        }    #T_b965a04c_cfb1_11ea_b40a_b808cf1506d0row1_col6 {\n",
       "            : ;\n",
       "            text-align:  left;\n",
       "        }    #T_b965a04c_cfb1_11ea_b40a_b808cf1506d0row2_col0 {\n",
       "            text-align:  left;\n",
       "        }    #T_b965a04c_cfb1_11ea_b40a_b808cf1506d0row2_col1 {\n",
       "            : ;\n",
       "            text-align:  left;\n",
       "        }    #T_b965a04c_cfb1_11ea_b40a_b808cf1506d0row2_col2 {\n",
       "            background-color:  yellow;\n",
       "            text-align:  left;\n",
       "        }    #T_b965a04c_cfb1_11ea_b40a_b808cf1506d0row2_col3 {\n",
       "            : ;\n",
       "            text-align:  left;\n",
       "        }    #T_b965a04c_cfb1_11ea_b40a_b808cf1506d0row2_col4 {\n",
       "            : ;\n",
       "            text-align:  left;\n",
       "        }    #T_b965a04c_cfb1_11ea_b40a_b808cf1506d0row2_col5 {\n",
       "            : ;\n",
       "            text-align:  left;\n",
       "        }    #T_b965a04c_cfb1_11ea_b40a_b808cf1506d0row2_col6 {\n",
       "            : ;\n",
       "            text-align:  left;\n",
       "        }    #T_b965a04c_cfb1_11ea_b40a_b808cf1506d0row3_col0 {\n",
       "            text-align:  left;\n",
       "        }    #T_b965a04c_cfb1_11ea_b40a_b808cf1506d0row3_col1 {\n",
       "            : ;\n",
       "            text-align:  left;\n",
       "        }    #T_b965a04c_cfb1_11ea_b40a_b808cf1506d0row3_col2 {\n",
       "            : ;\n",
       "            text-align:  left;\n",
       "        }    #T_b965a04c_cfb1_11ea_b40a_b808cf1506d0row3_col3 {\n",
       "            : ;\n",
       "            text-align:  left;\n",
       "        }    #T_b965a04c_cfb1_11ea_b40a_b808cf1506d0row3_col4 {\n",
       "            : ;\n",
       "            text-align:  left;\n",
       "        }    #T_b965a04c_cfb1_11ea_b40a_b808cf1506d0row3_col5 {\n",
       "            : ;\n",
       "            text-align:  left;\n",
       "        }    #T_b965a04c_cfb1_11ea_b40a_b808cf1506d0row3_col6 {\n",
       "            : ;\n",
       "            text-align:  left;\n",
       "        }    #T_b965a04c_cfb1_11ea_b40a_b808cf1506d0row4_col0 {\n",
       "            text-align:  left;\n",
       "        }    #T_b965a04c_cfb1_11ea_b40a_b808cf1506d0row4_col1 {\n",
       "            : ;\n",
       "            text-align:  left;\n",
       "        }    #T_b965a04c_cfb1_11ea_b40a_b808cf1506d0row4_col2 {\n",
       "            : ;\n",
       "            text-align:  left;\n",
       "        }    #T_b965a04c_cfb1_11ea_b40a_b808cf1506d0row4_col3 {\n",
       "            : ;\n",
       "            text-align:  left;\n",
       "        }    #T_b965a04c_cfb1_11ea_b40a_b808cf1506d0row4_col4 {\n",
       "            : ;\n",
       "            text-align:  left;\n",
       "        }    #T_b965a04c_cfb1_11ea_b40a_b808cf1506d0row4_col5 {\n",
       "            : ;\n",
       "            text-align:  left;\n",
       "        }    #T_b965a04c_cfb1_11ea_b40a_b808cf1506d0row4_col6 {\n",
       "            : ;\n",
       "            text-align:  left;\n",
       "        }    #T_b965a04c_cfb1_11ea_b40a_b808cf1506d0row5_col0 {\n",
       "            text-align:  left;\n",
       "        }    #T_b965a04c_cfb1_11ea_b40a_b808cf1506d0row5_col1 {\n",
       "            : ;\n",
       "            text-align:  left;\n",
       "        }    #T_b965a04c_cfb1_11ea_b40a_b808cf1506d0row5_col2 {\n",
       "            : ;\n",
       "            text-align:  left;\n",
       "        }    #T_b965a04c_cfb1_11ea_b40a_b808cf1506d0row5_col3 {\n",
       "            : ;\n",
       "            text-align:  left;\n",
       "        }    #T_b965a04c_cfb1_11ea_b40a_b808cf1506d0row5_col4 {\n",
       "            : ;\n",
       "            text-align:  left;\n",
       "        }    #T_b965a04c_cfb1_11ea_b40a_b808cf1506d0row5_col5 {\n",
       "            : ;\n",
       "            text-align:  left;\n",
       "        }    #T_b965a04c_cfb1_11ea_b40a_b808cf1506d0row5_col6 {\n",
       "            : ;\n",
       "            text-align:  left;\n",
       "        }    #T_b965a04c_cfb1_11ea_b40a_b808cf1506d0row6_col0 {\n",
       "            text-align:  left;\n",
       "        }    #T_b965a04c_cfb1_11ea_b40a_b808cf1506d0row6_col1 {\n",
       "            : ;\n",
       "            text-align:  left;\n",
       "        }    #T_b965a04c_cfb1_11ea_b40a_b808cf1506d0row6_col2 {\n",
       "            : ;\n",
       "            text-align:  left;\n",
       "        }    #T_b965a04c_cfb1_11ea_b40a_b808cf1506d0row6_col3 {\n",
       "            : ;\n",
       "            text-align:  left;\n",
       "        }    #T_b965a04c_cfb1_11ea_b40a_b808cf1506d0row6_col4 {\n",
       "            : ;\n",
       "            text-align:  left;\n",
       "        }    #T_b965a04c_cfb1_11ea_b40a_b808cf1506d0row6_col5 {\n",
       "            : ;\n",
       "            text-align:  left;\n",
       "        }    #T_b965a04c_cfb1_11ea_b40a_b808cf1506d0row6_col6 {\n",
       "            : ;\n",
       "            text-align:  left;\n",
       "        }    #T_b965a04c_cfb1_11ea_b40a_b808cf1506d0row7_col0 {\n",
       "            text-align:  left;\n",
       "        }    #T_b965a04c_cfb1_11ea_b40a_b808cf1506d0row7_col1 {\n",
       "            : ;\n",
       "            text-align:  left;\n",
       "        }    #T_b965a04c_cfb1_11ea_b40a_b808cf1506d0row7_col2 {\n",
       "            : ;\n",
       "            text-align:  left;\n",
       "        }    #T_b965a04c_cfb1_11ea_b40a_b808cf1506d0row7_col3 {\n",
       "            : ;\n",
       "            text-align:  left;\n",
       "        }    #T_b965a04c_cfb1_11ea_b40a_b808cf1506d0row7_col4 {\n",
       "            : ;\n",
       "            text-align:  left;\n",
       "        }    #T_b965a04c_cfb1_11ea_b40a_b808cf1506d0row7_col5 {\n",
       "            : ;\n",
       "            text-align:  left;\n",
       "        }    #T_b965a04c_cfb1_11ea_b40a_b808cf1506d0row7_col6 {\n",
       "            : ;\n",
       "            text-align:  left;\n",
       "        }    #T_b965a04c_cfb1_11ea_b40a_b808cf1506d0row8_col0 {\n",
       "            text-align:  left;\n",
       "        }    #T_b965a04c_cfb1_11ea_b40a_b808cf1506d0row8_col1 {\n",
       "            : ;\n",
       "            text-align:  left;\n",
       "        }    #T_b965a04c_cfb1_11ea_b40a_b808cf1506d0row8_col2 {\n",
       "            : ;\n",
       "            text-align:  left;\n",
       "        }    #T_b965a04c_cfb1_11ea_b40a_b808cf1506d0row8_col3 {\n",
       "            : ;\n",
       "            text-align:  left;\n",
       "        }    #T_b965a04c_cfb1_11ea_b40a_b808cf1506d0row8_col4 {\n",
       "            : ;\n",
       "            text-align:  left;\n",
       "        }    #T_b965a04c_cfb1_11ea_b40a_b808cf1506d0row8_col5 {\n",
       "            : ;\n",
       "            text-align:  left;\n",
       "        }    #T_b965a04c_cfb1_11ea_b40a_b808cf1506d0row8_col6 {\n",
       "            : ;\n",
       "            text-align:  left;\n",
       "        }    #T_b965a04c_cfb1_11ea_b40a_b808cf1506d0row9_col0 {\n",
       "            text-align:  left;\n",
       "        }    #T_b965a04c_cfb1_11ea_b40a_b808cf1506d0row9_col1 {\n",
       "            : ;\n",
       "            text-align:  left;\n",
       "        }    #T_b965a04c_cfb1_11ea_b40a_b808cf1506d0row9_col2 {\n",
       "            : ;\n",
       "            text-align:  left;\n",
       "        }    #T_b965a04c_cfb1_11ea_b40a_b808cf1506d0row9_col3 {\n",
       "            : ;\n",
       "            text-align:  left;\n",
       "        }    #T_b965a04c_cfb1_11ea_b40a_b808cf1506d0row9_col4 {\n",
       "            : ;\n",
       "            text-align:  left;\n",
       "        }    #T_b965a04c_cfb1_11ea_b40a_b808cf1506d0row9_col5 {\n",
       "            : ;\n",
       "            text-align:  left;\n",
       "        }    #T_b965a04c_cfb1_11ea_b40a_b808cf1506d0row9_col6 {\n",
       "            : ;\n",
       "            text-align:  left;\n",
       "        }    #T_b965a04c_cfb1_11ea_b40a_b808cf1506d0row10_col0 {\n",
       "            text-align:  left;\n",
       "        }    #T_b965a04c_cfb1_11ea_b40a_b808cf1506d0row10_col1 {\n",
       "            : ;\n",
       "            text-align:  left;\n",
       "        }    #T_b965a04c_cfb1_11ea_b40a_b808cf1506d0row10_col2 {\n",
       "            : ;\n",
       "            text-align:  left;\n",
       "        }    #T_b965a04c_cfb1_11ea_b40a_b808cf1506d0row10_col3 {\n",
       "            : ;\n",
       "            text-align:  left;\n",
       "        }    #T_b965a04c_cfb1_11ea_b40a_b808cf1506d0row10_col4 {\n",
       "            : ;\n",
       "            text-align:  left;\n",
       "        }    #T_b965a04c_cfb1_11ea_b40a_b808cf1506d0row10_col5 {\n",
       "            : ;\n",
       "            text-align:  left;\n",
       "        }    #T_b965a04c_cfb1_11ea_b40a_b808cf1506d0row10_col6 {\n",
       "            : ;\n",
       "            text-align:  left;\n",
       "        }    #T_b965a04c_cfb1_11ea_b40a_b808cf1506d0row11_col0 {\n",
       "            text-align:  left;\n",
       "        }    #T_b965a04c_cfb1_11ea_b40a_b808cf1506d0row11_col1 {\n",
       "            : ;\n",
       "            text-align:  left;\n",
       "        }    #T_b965a04c_cfb1_11ea_b40a_b808cf1506d0row11_col2 {\n",
       "            : ;\n",
       "            text-align:  left;\n",
       "        }    #T_b965a04c_cfb1_11ea_b40a_b808cf1506d0row11_col3 {\n",
       "            : ;\n",
       "            text-align:  left;\n",
       "        }    #T_b965a04c_cfb1_11ea_b40a_b808cf1506d0row11_col4 {\n",
       "            : ;\n",
       "            text-align:  left;\n",
       "        }    #T_b965a04c_cfb1_11ea_b40a_b808cf1506d0row11_col5 {\n",
       "            : ;\n",
       "            text-align:  left;\n",
       "        }    #T_b965a04c_cfb1_11ea_b40a_b808cf1506d0row11_col6 {\n",
       "            : ;\n",
       "            text-align:  left;\n",
       "        }    #T_b965a04c_cfb1_11ea_b40a_b808cf1506d0row12_col0 {\n",
       "            text-align:  left;\n",
       "        }    #T_b965a04c_cfb1_11ea_b40a_b808cf1506d0row12_col1 {\n",
       "            : ;\n",
       "            text-align:  left;\n",
       "        }    #T_b965a04c_cfb1_11ea_b40a_b808cf1506d0row12_col2 {\n",
       "            : ;\n",
       "            text-align:  left;\n",
       "        }    #T_b965a04c_cfb1_11ea_b40a_b808cf1506d0row12_col3 {\n",
       "            : ;\n",
       "            text-align:  left;\n",
       "        }    #T_b965a04c_cfb1_11ea_b40a_b808cf1506d0row12_col4 {\n",
       "            : ;\n",
       "            text-align:  left;\n",
       "        }    #T_b965a04c_cfb1_11ea_b40a_b808cf1506d0row12_col5 {\n",
       "            : ;\n",
       "            text-align:  left;\n",
       "        }    #T_b965a04c_cfb1_11ea_b40a_b808cf1506d0row12_col6 {\n",
       "            : ;\n",
       "            text-align:  left;\n",
       "        }    #T_b965a04c_cfb1_11ea_b40a_b808cf1506d0row13_col0 {\n",
       "            text-align:  left;\n",
       "        }    #T_b965a04c_cfb1_11ea_b40a_b808cf1506d0row13_col1 {\n",
       "            : ;\n",
       "            text-align:  left;\n",
       "        }    #T_b965a04c_cfb1_11ea_b40a_b808cf1506d0row13_col2 {\n",
       "            : ;\n",
       "            text-align:  left;\n",
       "        }    #T_b965a04c_cfb1_11ea_b40a_b808cf1506d0row13_col3 {\n",
       "            : ;\n",
       "            text-align:  left;\n",
       "        }    #T_b965a04c_cfb1_11ea_b40a_b808cf1506d0row13_col4 {\n",
       "            : ;\n",
       "            text-align:  left;\n",
       "        }    #T_b965a04c_cfb1_11ea_b40a_b808cf1506d0row13_col5 {\n",
       "            : ;\n",
       "            text-align:  left;\n",
       "        }    #T_b965a04c_cfb1_11ea_b40a_b808cf1506d0row13_col6 {\n",
       "            : ;\n",
       "            text-align:  left;\n",
       "        }    #T_b965a04c_cfb1_11ea_b40a_b808cf1506d0row14_col0 {\n",
       "            text-align:  left;\n",
       "        }    #T_b965a04c_cfb1_11ea_b40a_b808cf1506d0row14_col1 {\n",
       "            : ;\n",
       "            text-align:  left;\n",
       "        }    #T_b965a04c_cfb1_11ea_b40a_b808cf1506d0row14_col2 {\n",
       "            : ;\n",
       "            text-align:  left;\n",
       "        }    #T_b965a04c_cfb1_11ea_b40a_b808cf1506d0row14_col3 {\n",
       "            : ;\n",
       "            text-align:  left;\n",
       "        }    #T_b965a04c_cfb1_11ea_b40a_b808cf1506d0row14_col4 {\n",
       "            : ;\n",
       "            text-align:  left;\n",
       "        }    #T_b965a04c_cfb1_11ea_b40a_b808cf1506d0row14_col5 {\n",
       "            : ;\n",
       "            text-align:  left;\n",
       "        }    #T_b965a04c_cfb1_11ea_b40a_b808cf1506d0row14_col6 {\n",
       "            : ;\n",
       "            text-align:  left;\n",
       "        }</style><table id=\"T_b965a04c_cfb1_11ea_b40a_b808cf1506d0\" ><thead>    <tr>        <th class=\"blank level0\" ></th>        <th class=\"col_heading level0 col0\" >Model</th>        <th class=\"col_heading level0 col1\" >Accuracy</th>        <th class=\"col_heading level0 col2\" >AUC</th>        <th class=\"col_heading level0 col3\" >Recall</th>        <th class=\"col_heading level0 col4\" >Prec.</th>        <th class=\"col_heading level0 col5\" >F1</th>        <th class=\"col_heading level0 col6\" >Kappa</th>    </tr></thead><tbody>\n",
       "                <tr>\n",
       "                        <th id=\"T_b965a04c_cfb1_11ea_b40a_b808cf1506d0level0_row0\" class=\"row_heading level0 row0\" >0</th>\n",
       "                        <td id=\"T_b965a04c_cfb1_11ea_b40a_b808cf1506d0row0_col0\" class=\"data row0 col0\" >CatBoost Classifier</td>\n",
       "                        <td id=\"T_b965a04c_cfb1_11ea_b40a_b808cf1506d0row0_col1\" class=\"data row0 col1\" >0.774700</td>\n",
       "                        <td id=\"T_b965a04c_cfb1_11ea_b40a_b808cf1506d0row0_col2\" class=\"data row0 col2\" >0.824000</td>\n",
       "                        <td id=\"T_b965a04c_cfb1_11ea_b40a_b808cf1506d0row0_col3\" class=\"data row0 col3\" >0.599100</td>\n",
       "                        <td id=\"T_b965a04c_cfb1_11ea_b40a_b808cf1506d0row0_col4\" class=\"data row0 col4\" >0.708500</td>\n",
       "                        <td id=\"T_b965a04c_cfb1_11ea_b40a_b808cf1506d0row0_col5\" class=\"data row0 col5\" >0.642700</td>\n",
       "                        <td id=\"T_b965a04c_cfb1_11ea_b40a_b808cf1506d0row0_col6\" class=\"data row0 col6\" >0.481800</td>\n",
       "            </tr>\n",
       "            <tr>\n",
       "                        <th id=\"T_b965a04c_cfb1_11ea_b40a_b808cf1506d0level0_row1\" class=\"row_heading level0 row1\" >1</th>\n",
       "                        <td id=\"T_b965a04c_cfb1_11ea_b40a_b808cf1506d0row1_col0\" class=\"data row1 col0\" >Gradient Boosting Classifier</td>\n",
       "                        <td id=\"T_b965a04c_cfb1_11ea_b40a_b808cf1506d0row1_col1\" class=\"data row1 col1\" >0.758100</td>\n",
       "                        <td id=\"T_b965a04c_cfb1_11ea_b40a_b808cf1506d0row1_col2\" class=\"data row1 col2\" >0.828700</td>\n",
       "                        <td id=\"T_b965a04c_cfb1_11ea_b40a_b808cf1506d0row1_col3\" class=\"data row1 col3\" >0.588900</td>\n",
       "                        <td id=\"T_b965a04c_cfb1_11ea_b40a_b808cf1506d0row1_col4\" class=\"data row1 col4\" >0.675300</td>\n",
       "                        <td id=\"T_b965a04c_cfb1_11ea_b40a_b808cf1506d0row1_col5\" class=\"data row1 col5\" >0.619700</td>\n",
       "                        <td id=\"T_b965a04c_cfb1_11ea_b40a_b808cf1506d0row1_col6\" class=\"data row1 col6\" >0.446500</td>\n",
       "            </tr>\n",
       "            <tr>\n",
       "                        <th id=\"T_b965a04c_cfb1_11ea_b40a_b808cf1506d0level0_row2\" class=\"row_heading level0 row2\" >2</th>\n",
       "                        <td id=\"T_b965a04c_cfb1_11ea_b40a_b808cf1506d0row2_col0\" class=\"data row2 col0\" >Extreme Gradient Boosting</td>\n",
       "                        <td id=\"T_b965a04c_cfb1_11ea_b40a_b808cf1506d0row2_col1\" class=\"data row2 col1\" >0.756100</td>\n",
       "                        <td id=\"T_b965a04c_cfb1_11ea_b40a_b808cf1506d0row2_col2\" class=\"data row2 col2\" >0.836300</td>\n",
       "                        <td id=\"T_b965a04c_cfb1_11ea_b40a_b808cf1506d0row2_col3\" class=\"data row2 col3\" >0.583600</td>\n",
       "                        <td id=\"T_b965a04c_cfb1_11ea_b40a_b808cf1506d0row2_col4\" class=\"data row2 col4\" >0.674200</td>\n",
       "                        <td id=\"T_b965a04c_cfb1_11ea_b40a_b808cf1506d0row2_col5\" class=\"data row2 col5\" >0.615200</td>\n",
       "                        <td id=\"T_b965a04c_cfb1_11ea_b40a_b808cf1506d0row2_col6\" class=\"data row2 col6\" >0.441000</td>\n",
       "            </tr>\n",
       "            <tr>\n",
       "                        <th id=\"T_b965a04c_cfb1_11ea_b40a_b808cf1506d0level0_row3\" class=\"row_heading level0 row3\" >3</th>\n",
       "                        <td id=\"T_b965a04c_cfb1_11ea_b40a_b808cf1506d0row3_col0\" class=\"data row3 col0\" >Logistic Regression</td>\n",
       "                        <td id=\"T_b965a04c_cfb1_11ea_b40a_b808cf1506d0row3_col1\" class=\"data row3 col1\" >0.752300</td>\n",
       "                        <td id=\"T_b965a04c_cfb1_11ea_b40a_b808cf1506d0row3_col2\" class=\"data row3 col2\" >0.800600</td>\n",
       "                        <td id=\"T_b965a04c_cfb1_11ea_b40a_b808cf1506d0row3_col3\" class=\"data row3 col3\" >0.557000</td>\n",
       "                        <td id=\"T_b965a04c_cfb1_11ea_b40a_b808cf1506d0row3_col4\" class=\"data row3 col4\" >0.678600</td>\n",
       "                        <td id=\"T_b965a04c_cfb1_11ea_b40a_b808cf1506d0row3_col5\" class=\"data row3 col5\" >0.603700</td>\n",
       "                        <td id=\"T_b965a04c_cfb1_11ea_b40a_b808cf1506d0row3_col6\" class=\"data row3 col6\" >0.428600</td>\n",
       "            </tr>\n",
       "            <tr>\n",
       "                        <th id=\"T_b965a04c_cfb1_11ea_b40a_b808cf1506d0level0_row4\" class=\"row_heading level0 row4\" >4</th>\n",
       "                        <td id=\"T_b965a04c_cfb1_11ea_b40a_b808cf1506d0row4_col0\" class=\"data row4 col0\" >Ridge Classifier</td>\n",
       "                        <td id=\"T_b965a04c_cfb1_11ea_b40a_b808cf1506d0row4_col1\" class=\"data row4 col1\" >0.752200</td>\n",
       "                        <td id=\"T_b965a04c_cfb1_11ea_b40a_b808cf1506d0row4_col2\" class=\"data row4 col2\" >0.000000</td>\n",
       "                        <td id=\"T_b965a04c_cfb1_11ea_b40a_b808cf1506d0row4_col3\" class=\"data row4 col3\" >0.561100</td>\n",
       "                        <td id=\"T_b965a04c_cfb1_11ea_b40a_b808cf1506d0row4_col4\" class=\"data row4 col4\" >0.678000</td>\n",
       "                        <td id=\"T_b965a04c_cfb1_11ea_b40a_b808cf1506d0row4_col5\" class=\"data row4 col5\" >0.603000</td>\n",
       "                        <td id=\"T_b965a04c_cfb1_11ea_b40a_b808cf1506d0row4_col6\" class=\"data row4 col6\" >0.428100</td>\n",
       "            </tr>\n",
       "            <tr>\n",
       "                        <th id=\"T_b965a04c_cfb1_11ea_b40a_b808cf1506d0level0_row5\" class=\"row_heading level0 row5\" >5</th>\n",
       "                        <td id=\"T_b965a04c_cfb1_11ea_b40a_b808cf1506d0row5_col0\" class=\"data row5 col0\" >Linear Discriminant Analysis</td>\n",
       "                        <td id=\"T_b965a04c_cfb1_11ea_b40a_b808cf1506d0row5_col1\" class=\"data row5 col1\" >0.748500</td>\n",
       "                        <td id=\"T_b965a04c_cfb1_11ea_b40a_b808cf1506d0row5_col2\" class=\"data row5 col2\" >0.812900</td>\n",
       "                        <td id=\"T_b965a04c_cfb1_11ea_b40a_b808cf1506d0row5_col3\" class=\"data row5 col3\" >0.555800</td>\n",
       "                        <td id=\"T_b965a04c_cfb1_11ea_b40a_b808cf1506d0row5_col4\" class=\"data row5 col4\" >0.667800</td>\n",
       "                        <td id=\"T_b965a04c_cfb1_11ea_b40a_b808cf1506d0row5_col5\" class=\"data row5 col5\" >0.597800</td>\n",
       "                        <td id=\"T_b965a04c_cfb1_11ea_b40a_b808cf1506d0row5_col6\" class=\"data row5 col6\" >0.419800</td>\n",
       "            </tr>\n",
       "            <tr>\n",
       "                        <th id=\"T_b965a04c_cfb1_11ea_b40a_b808cf1506d0level0_row6\" class=\"row_heading level0 row6\" >6</th>\n",
       "                        <td id=\"T_b965a04c_cfb1_11ea_b40a_b808cf1506d0row6_col0\" class=\"data row6 col0\" >Random Forest Classifier</td>\n",
       "                        <td id=\"T_b965a04c_cfb1_11ea_b40a_b808cf1506d0row6_col1\" class=\"data row6 col1\" >0.743100</td>\n",
       "                        <td id=\"T_b965a04c_cfb1_11ea_b40a_b808cf1506d0row6_col2\" class=\"data row6 col2\" >0.785200</td>\n",
       "                        <td id=\"T_b965a04c_cfb1_11ea_b40a_b808cf1506d0row6_col3\" class=\"data row6 col3\" >0.476300</td>\n",
       "                        <td id=\"T_b965a04c_cfb1_11ea_b40a_b808cf1506d0row6_col4\" class=\"data row6 col4\" >0.684900</td>\n",
       "                        <td id=\"T_b965a04c_cfb1_11ea_b40a_b808cf1506d0row6_col5\" class=\"data row6 col5\" >0.555900</td>\n",
       "                        <td id=\"T_b965a04c_cfb1_11ea_b40a_b808cf1506d0row6_col6\" class=\"data row6 col6\" >0.386700</td>\n",
       "            </tr>\n",
       "            <tr>\n",
       "                        <th id=\"T_b965a04c_cfb1_11ea_b40a_b808cf1506d0level0_row7\" class=\"row_heading level0 row7\" >7</th>\n",
       "                        <td id=\"T_b965a04c_cfb1_11ea_b40a_b808cf1506d0row7_col0\" class=\"data row7 col0\" >Light Gradient Boosting Machine</td>\n",
       "                        <td id=\"T_b965a04c_cfb1_11ea_b40a_b808cf1506d0row7_col1\" class=\"data row7 col1\" >0.742800</td>\n",
       "                        <td id=\"T_b965a04c_cfb1_11ea_b40a_b808cf1506d0row7_col2\" class=\"data row7 col2\" >0.800500</td>\n",
       "                        <td id=\"T_b965a04c_cfb1_11ea_b40a_b808cf1506d0row7_col3\" class=\"data row7 col3\" >0.582200</td>\n",
       "                        <td id=\"T_b965a04c_cfb1_11ea_b40a_b808cf1506d0row7_col4\" class=\"data row7 col4\" >0.638900</td>\n",
       "                        <td id=\"T_b965a04c_cfb1_11ea_b40a_b808cf1506d0row7_col5\" class=\"data row7 col5\" >0.604600</td>\n",
       "                        <td id=\"T_b965a04c_cfb1_11ea_b40a_b808cf1506d0row7_col6\" class=\"data row7 col6\" >0.416300</td>\n",
       "            </tr>\n",
       "            <tr>\n",
       "                        <th id=\"T_b965a04c_cfb1_11ea_b40a_b808cf1506d0level0_row8\" class=\"row_heading level0 row8\" >8</th>\n",
       "                        <td id=\"T_b965a04c_cfb1_11ea_b40a_b808cf1506d0row8_col0\" class=\"data row8 col0\" >Extra Trees Classifier</td>\n",
       "                        <td id=\"T_b965a04c_cfb1_11ea_b40a_b808cf1506d0row8_col1\" class=\"data row8 col1\" >0.740900</td>\n",
       "                        <td id=\"T_b965a04c_cfb1_11ea_b40a_b808cf1506d0row8_col2\" class=\"data row8 col2\" >0.799600</td>\n",
       "                        <td id=\"T_b965a04c_cfb1_11ea_b40a_b808cf1506d0row8_col3\" class=\"data row8 col3\" >0.517000</td>\n",
       "                        <td id=\"T_b965a04c_cfb1_11ea_b40a_b808cf1506d0row8_col4\" class=\"data row8 col4\" >0.650900</td>\n",
       "                        <td id=\"T_b965a04c_cfb1_11ea_b40a_b808cf1506d0row8_col5\" class=\"data row8 col5\" >0.569100</td>\n",
       "                        <td id=\"T_b965a04c_cfb1_11ea_b40a_b808cf1506d0row8_col6\" class=\"data row8 col6\" >0.391400</td>\n",
       "            </tr>\n",
       "            <tr>\n",
       "                        <th id=\"T_b965a04c_cfb1_11ea_b40a_b808cf1506d0level0_row9\" class=\"row_heading level0 row9\" >9</th>\n",
       "                        <td id=\"T_b965a04c_cfb1_11ea_b40a_b808cf1506d0row9_col0\" class=\"data row9 col0\" >Ada Boost Classifier</td>\n",
       "                        <td id=\"T_b965a04c_cfb1_11ea_b40a_b808cf1506d0row9_col1\" class=\"data row9 col1\" >0.739200</td>\n",
       "                        <td id=\"T_b965a04c_cfb1_11ea_b40a_b808cf1506d0row9_col2\" class=\"data row9 col2\" >0.804400</td>\n",
       "                        <td id=\"T_b965a04c_cfb1_11ea_b40a_b808cf1506d0row9_col3\" class=\"data row9 col3\" >0.583000</td>\n",
       "                        <td id=\"T_b965a04c_cfb1_11ea_b40a_b808cf1506d0row9_col4\" class=\"data row9 col4\" >0.636900</td>\n",
       "                        <td id=\"T_b965a04c_cfb1_11ea_b40a_b808cf1506d0row9_col5\" class=\"data row9 col5\" >0.600000</td>\n",
       "                        <td id=\"T_b965a04c_cfb1_11ea_b40a_b808cf1506d0row9_col6\" class=\"data row9 col6\" >0.410000</td>\n",
       "            </tr>\n",
       "            <tr>\n",
       "                        <th id=\"T_b965a04c_cfb1_11ea_b40a_b808cf1506d0level0_row10\" class=\"row_heading level0 row10\" >10</th>\n",
       "                        <td id=\"T_b965a04c_cfb1_11ea_b40a_b808cf1506d0row10_col0\" class=\"data row10 col0\" >Decision Tree Classifier</td>\n",
       "                        <td id=\"T_b965a04c_cfb1_11ea_b40a_b808cf1506d0row10_col1\" class=\"data row10 col1\" >0.714800</td>\n",
       "                        <td id=\"T_b965a04c_cfb1_11ea_b40a_b808cf1506d0row10_col2\" class=\"data row10 col2\" >0.685100</td>\n",
       "                        <td id=\"T_b965a04c_cfb1_11ea_b40a_b808cf1506d0row10_col3\" class=\"data row10 col3\" >0.587400</td>\n",
       "                        <td id=\"T_b965a04c_cfb1_11ea_b40a_b808cf1506d0row10_col4\" class=\"data row10 col4\" >0.591500</td>\n",
       "                        <td id=\"T_b965a04c_cfb1_11ea_b40a_b808cf1506d0row10_col5\" class=\"data row10 col5\" >0.587900</td>\n",
       "                        <td id=\"T_b965a04c_cfb1_11ea_b40a_b808cf1506d0row10_col6\" class=\"data row10 col6\" >0.370300</td>\n",
       "            </tr>\n",
       "            <tr>\n",
       "                        <th id=\"T_b965a04c_cfb1_11ea_b40a_b808cf1506d0level0_row11\" class=\"row_heading level0 row11\" >11</th>\n",
       "                        <td id=\"T_b965a04c_cfb1_11ea_b40a_b808cf1506d0row11_col0\" class=\"data row11 col0\" >K Neighbors Classifier</td>\n",
       "                        <td id=\"T_b965a04c_cfb1_11ea_b40a_b808cf1506d0row11_col1\" class=\"data row11 col1\" >0.705500</td>\n",
       "                        <td id=\"T_b965a04c_cfb1_11ea_b40a_b808cf1506d0row11_col2\" class=\"data row11 col2\" >0.732500</td>\n",
       "                        <td id=\"T_b965a04c_cfb1_11ea_b40a_b808cf1506d0row11_col3\" class=\"data row11 col3\" >0.506400</td>\n",
       "                        <td id=\"T_b965a04c_cfb1_11ea_b40a_b808cf1506d0row11_col4\" class=\"data row11 col4\" >0.593600</td>\n",
       "                        <td id=\"T_b965a04c_cfb1_11ea_b40a_b808cf1506d0row11_col5\" class=\"data row11 col5\" >0.543400</td>\n",
       "                        <td id=\"T_b965a04c_cfb1_11ea_b40a_b808cf1506d0row11_col6\" class=\"data row11 col6\" >0.328600</td>\n",
       "            </tr>\n",
       "            <tr>\n",
       "                        <th id=\"T_b965a04c_cfb1_11ea_b40a_b808cf1506d0level0_row12\" class=\"row_heading level0 row12\" >12</th>\n",
       "                        <td id=\"T_b965a04c_cfb1_11ea_b40a_b808cf1506d0row12_col0\" class=\"data row12 col0\" >Naive Bayes</td>\n",
       "                        <td id=\"T_b965a04c_cfb1_11ea_b40a_b808cf1506d0row12_col1\" class=\"data row12 col1\" >0.688900</td>\n",
       "                        <td id=\"T_b965a04c_cfb1_11ea_b40a_b808cf1506d0row12_col2\" class=\"data row12 col2\" >0.740300</td>\n",
       "                        <td id=\"T_b965a04c_cfb1_11ea_b40a_b808cf1506d0row12_col3\" class=\"data row12 col3\" >0.305300</td>\n",
       "                        <td id=\"T_b965a04c_cfb1_11ea_b40a_b808cf1506d0row12_col4\" class=\"data row12 col4\" >0.621200</td>\n",
       "                        <td id=\"T_b965a04c_cfb1_11ea_b40a_b808cf1506d0row12_col5\" class=\"data row12 col5\" >0.399600</td>\n",
       "                        <td id=\"T_b965a04c_cfb1_11ea_b40a_b808cf1506d0row12_col6\" class=\"data row12 col6\" >0.223900</td>\n",
       "            </tr>\n",
       "            <tr>\n",
       "                        <th id=\"T_b965a04c_cfb1_11ea_b40a_b808cf1506d0level0_row13\" class=\"row_heading level0 row13\" >13</th>\n",
       "                        <td id=\"T_b965a04c_cfb1_11ea_b40a_b808cf1506d0row13_col0\" class=\"data row13 col0\" >Quadratic Discriminant Analysis</td>\n",
       "                        <td id=\"T_b965a04c_cfb1_11ea_b40a_b808cf1506d0row13_col1\" class=\"data row13 col1\" >0.597200</td>\n",
       "                        <td id=\"T_b965a04c_cfb1_11ea_b40a_b808cf1506d0row13_col2\" class=\"data row13 col2\" >0.553600</td>\n",
       "                        <td id=\"T_b965a04c_cfb1_11ea_b40a_b808cf1506d0row13_col3\" class=\"data row13 col3\" >0.427200</td>\n",
       "                        <td id=\"T_b965a04c_cfb1_11ea_b40a_b808cf1506d0row13_col4\" class=\"data row13 col4\" >0.312600</td>\n",
       "                        <td id=\"T_b965a04c_cfb1_11ea_b40a_b808cf1506d0row13_col5\" class=\"data row13 col5\" >0.325900</td>\n",
       "                        <td id=\"T_b965a04c_cfb1_11ea_b40a_b808cf1506d0row13_col6\" class=\"data row13 col6\" >0.108000</td>\n",
       "            </tr>\n",
       "            <tr>\n",
       "                        <th id=\"T_b965a04c_cfb1_11ea_b40a_b808cf1506d0level0_row14\" class=\"row_heading level0 row14\" >14</th>\n",
       "                        <td id=\"T_b965a04c_cfb1_11ea_b40a_b808cf1506d0row14_col0\" class=\"data row14 col0\" >SVM - Linear Kernel</td>\n",
       "                        <td id=\"T_b965a04c_cfb1_11ea_b40a_b808cf1506d0row14_col1\" class=\"data row14 col1\" >0.544000</td>\n",
       "                        <td id=\"T_b965a04c_cfb1_11ea_b40a_b808cf1506d0row14_col2\" class=\"data row14 col2\" >0.000000</td>\n",
       "                        <td id=\"T_b965a04c_cfb1_11ea_b40a_b808cf1506d0row14_col3\" class=\"data row14 col3\" >0.489200</td>\n",
       "                        <td id=\"T_b965a04c_cfb1_11ea_b40a_b808cf1506d0row14_col4\" class=\"data row14 col4\" >0.373300</td>\n",
       "                        <td id=\"T_b965a04c_cfb1_11ea_b40a_b808cf1506d0row14_col5\" class=\"data row14 col5\" >0.322300</td>\n",
       "                        <td id=\"T_b965a04c_cfb1_11ea_b40a_b808cf1506d0row14_col6\" class=\"data row14 col6\" >0.052100</td>\n",
       "            </tr>\n",
       "    </tbody></table>"
      ],
      "text/plain": [
       "<pandas.io.formats.style.Styler at 0x1d5b7deb948>"
      ]
     },
     "execution_count": 10,
     "metadata": {},
     "output_type": "execute_result"
    }
   ],
   "source": [
    "compare_models()"
   ]
  },
  {
   "cell_type": "code",
   "execution_count": 8,
   "metadata": {},
   "outputs": [
    {
     "data": {
      "text/plain": [
       "0    500\n",
       "1    268\n",
       "Name: Class variable, dtype: int64"
      ]
     },
     "execution_count": 8,
     "metadata": {},
     "output_type": "execute_result"
    }
   ],
   "source": [
    "diabetes_df['Class variable'].value_counts()"
   ]
  },
  {
   "cell_type": "code",
   "execution_count": 9,
   "metadata": {},
   "outputs": [
    {
     "data": {
      "text/html": [
       "<div>\n",
       "<style scoped>\n",
       "    .dataframe tbody tr th:only-of-type {\n",
       "        vertical-align: middle;\n",
       "    }\n",
       "\n",
       "    .dataframe tbody tr th {\n",
       "        vertical-align: top;\n",
       "    }\n",
       "\n",
       "    .dataframe thead th {\n",
       "        text-align: right;\n",
       "    }\n",
       "</style>\n",
       "<table border=\"1\" class=\"dataframe\">\n",
       "  <thead>\n",
       "    <tr style=\"text-align: right;\">\n",
       "      <th></th>\n",
       "      <th>crim</th>\n",
       "      <th>zn</th>\n",
       "      <th>indus</th>\n",
       "      <th>chas</th>\n",
       "      <th>nox</th>\n",
       "      <th>rm</th>\n",
       "      <th>age</th>\n",
       "      <th>dis</th>\n",
       "      <th>rad</th>\n",
       "      <th>tax</th>\n",
       "      <th>ptratio</th>\n",
       "      <th>black</th>\n",
       "      <th>lstat</th>\n",
       "      <th>medv</th>\n",
       "    </tr>\n",
       "  </thead>\n",
       "  <tbody>\n",
       "    <tr>\n",
       "      <th>0</th>\n",
       "      <td>0.00632</td>\n",
       "      <td>18.0</td>\n",
       "      <td>2.31</td>\n",
       "      <td>0</td>\n",
       "      <td>0.538</td>\n",
       "      <td>6.575</td>\n",
       "      <td>65.2</td>\n",
       "      <td>4.0900</td>\n",
       "      <td>1</td>\n",
       "      <td>296</td>\n",
       "      <td>15.3</td>\n",
       "      <td>396.90</td>\n",
       "      <td>4.98</td>\n",
       "      <td>24.0</td>\n",
       "    </tr>\n",
       "    <tr>\n",
       "      <th>1</th>\n",
       "      <td>0.02731</td>\n",
       "      <td>0.0</td>\n",
       "      <td>7.07</td>\n",
       "      <td>0</td>\n",
       "      <td>0.469</td>\n",
       "      <td>6.421</td>\n",
       "      <td>78.9</td>\n",
       "      <td>4.9671</td>\n",
       "      <td>2</td>\n",
       "      <td>242</td>\n",
       "      <td>17.8</td>\n",
       "      <td>396.90</td>\n",
       "      <td>9.14</td>\n",
       "      <td>21.6</td>\n",
       "    </tr>\n",
       "    <tr>\n",
       "      <th>2</th>\n",
       "      <td>0.02729</td>\n",
       "      <td>0.0</td>\n",
       "      <td>7.07</td>\n",
       "      <td>0</td>\n",
       "      <td>0.469</td>\n",
       "      <td>7.185</td>\n",
       "      <td>61.1</td>\n",
       "      <td>4.9671</td>\n",
       "      <td>2</td>\n",
       "      <td>242</td>\n",
       "      <td>17.8</td>\n",
       "      <td>392.83</td>\n",
       "      <td>4.03</td>\n",
       "      <td>34.7</td>\n",
       "    </tr>\n",
       "    <tr>\n",
       "      <th>3</th>\n",
       "      <td>0.03237</td>\n",
       "      <td>0.0</td>\n",
       "      <td>2.18</td>\n",
       "      <td>0</td>\n",
       "      <td>0.458</td>\n",
       "      <td>6.998</td>\n",
       "      <td>45.8</td>\n",
       "      <td>6.0622</td>\n",
       "      <td>3</td>\n",
       "      <td>222</td>\n",
       "      <td>18.7</td>\n",
       "      <td>394.63</td>\n",
       "      <td>2.94</td>\n",
       "      <td>33.4</td>\n",
       "    </tr>\n",
       "    <tr>\n",
       "      <th>4</th>\n",
       "      <td>0.06905</td>\n",
       "      <td>0.0</td>\n",
       "      <td>2.18</td>\n",
       "      <td>0</td>\n",
       "      <td>0.458</td>\n",
       "      <td>7.147</td>\n",
       "      <td>54.2</td>\n",
       "      <td>6.0622</td>\n",
       "      <td>3</td>\n",
       "      <td>222</td>\n",
       "      <td>18.7</td>\n",
       "      <td>396.90</td>\n",
       "      <td>5.33</td>\n",
       "      <td>36.2</td>\n",
       "    </tr>\n",
       "  </tbody>\n",
       "</table>\n",
       "</div>"
      ],
      "text/plain": [
       "      crim    zn  indus  chas    nox     rm   age     dis  rad  tax  ptratio  \\\n",
       "0  0.00632  18.0   2.31     0  0.538  6.575  65.2  4.0900    1  296     15.3   \n",
       "1  0.02731   0.0   7.07     0  0.469  6.421  78.9  4.9671    2  242     17.8   \n",
       "2  0.02729   0.0   7.07     0  0.469  7.185  61.1  4.9671    2  242     17.8   \n",
       "3  0.03237   0.0   2.18     0  0.458  6.998  45.8  6.0622    3  222     18.7   \n",
       "4  0.06905   0.0   2.18     0  0.458  7.147  54.2  6.0622    3  222     18.7   \n",
       "\n",
       "    black  lstat  medv  \n",
       "0  396.90   4.98  24.0  \n",
       "1  396.90   9.14  21.6  \n",
       "2  392.83   4.03  34.7  \n",
       "3  394.63   2.94  33.4  \n",
       "4  396.90   5.33  36.2  "
      ]
     },
     "metadata": {},
     "output_type": "display_data"
    }
   ],
   "source": [
    "boston_df=get_data('boston')"
   ]
  },
  {
   "cell_type": "code",
   "execution_count": 11,
   "metadata": {},
   "outputs": [
    {
     "name": "stdout",
     "output_type": "stream",
     "text": [
      " \n",
      "Setup Succesfully Completed!\n"
     ]
    },
    {
     "data": {
      "text/html": [
       "<style  type=\"text/css\" >\n",
       "</style><table id=\"T_075ec6c2_cfb2_11ea_97ec_b808cf1506d0\" ><thead>    <tr>        <th class=\"blank level0\" ></th>        <th class=\"col_heading level0 col0\" >Description</th>        <th class=\"col_heading level0 col1\" >Value</th>    </tr></thead><tbody>\n",
       "                <tr>\n",
       "                        <th id=\"T_075ec6c2_cfb2_11ea_97ec_b808cf1506d0level0_row0\" class=\"row_heading level0 row0\" >0</th>\n",
       "                        <td id=\"T_075ec6c2_cfb2_11ea_97ec_b808cf1506d0row0_col0\" class=\"data row0 col0\" >session_id</td>\n",
       "                        <td id=\"T_075ec6c2_cfb2_11ea_97ec_b808cf1506d0row0_col1\" class=\"data row0 col1\" >4917</td>\n",
       "            </tr>\n",
       "            <tr>\n",
       "                        <th id=\"T_075ec6c2_cfb2_11ea_97ec_b808cf1506d0level0_row1\" class=\"row_heading level0 row1\" >1</th>\n",
       "                        <td id=\"T_075ec6c2_cfb2_11ea_97ec_b808cf1506d0row1_col0\" class=\"data row1 col0\" >Transform Target </td>\n",
       "                        <td id=\"T_075ec6c2_cfb2_11ea_97ec_b808cf1506d0row1_col1\" class=\"data row1 col1\" >False</td>\n",
       "            </tr>\n",
       "            <tr>\n",
       "                        <th id=\"T_075ec6c2_cfb2_11ea_97ec_b808cf1506d0level0_row2\" class=\"row_heading level0 row2\" >2</th>\n",
       "                        <td id=\"T_075ec6c2_cfb2_11ea_97ec_b808cf1506d0row2_col0\" class=\"data row2 col0\" >Transform Target Method</td>\n",
       "                        <td id=\"T_075ec6c2_cfb2_11ea_97ec_b808cf1506d0row2_col1\" class=\"data row2 col1\" >None</td>\n",
       "            </tr>\n",
       "            <tr>\n",
       "                        <th id=\"T_075ec6c2_cfb2_11ea_97ec_b808cf1506d0level0_row3\" class=\"row_heading level0 row3\" >3</th>\n",
       "                        <td id=\"T_075ec6c2_cfb2_11ea_97ec_b808cf1506d0row3_col0\" class=\"data row3 col0\" >Original Data</td>\n",
       "                        <td id=\"T_075ec6c2_cfb2_11ea_97ec_b808cf1506d0row3_col1\" class=\"data row3 col1\" >(506, 14)</td>\n",
       "            </tr>\n",
       "            <tr>\n",
       "                        <th id=\"T_075ec6c2_cfb2_11ea_97ec_b808cf1506d0level0_row4\" class=\"row_heading level0 row4\" >4</th>\n",
       "                        <td id=\"T_075ec6c2_cfb2_11ea_97ec_b808cf1506d0row4_col0\" class=\"data row4 col0\" >Missing Values </td>\n",
       "                        <td id=\"T_075ec6c2_cfb2_11ea_97ec_b808cf1506d0row4_col1\" class=\"data row4 col1\" >False</td>\n",
       "            </tr>\n",
       "            <tr>\n",
       "                        <th id=\"T_075ec6c2_cfb2_11ea_97ec_b808cf1506d0level0_row5\" class=\"row_heading level0 row5\" >5</th>\n",
       "                        <td id=\"T_075ec6c2_cfb2_11ea_97ec_b808cf1506d0row5_col0\" class=\"data row5 col0\" >Numeric Features </td>\n",
       "                        <td id=\"T_075ec6c2_cfb2_11ea_97ec_b808cf1506d0row5_col1\" class=\"data row5 col1\" >11</td>\n",
       "            </tr>\n",
       "            <tr>\n",
       "                        <th id=\"T_075ec6c2_cfb2_11ea_97ec_b808cf1506d0level0_row6\" class=\"row_heading level0 row6\" >6</th>\n",
       "                        <td id=\"T_075ec6c2_cfb2_11ea_97ec_b808cf1506d0row6_col0\" class=\"data row6 col0\" >Categorical Features </td>\n",
       "                        <td id=\"T_075ec6c2_cfb2_11ea_97ec_b808cf1506d0row6_col1\" class=\"data row6 col1\" >2</td>\n",
       "            </tr>\n",
       "            <tr>\n",
       "                        <th id=\"T_075ec6c2_cfb2_11ea_97ec_b808cf1506d0level0_row7\" class=\"row_heading level0 row7\" >7</th>\n",
       "                        <td id=\"T_075ec6c2_cfb2_11ea_97ec_b808cf1506d0row7_col0\" class=\"data row7 col0\" >Ordinal Features </td>\n",
       "                        <td id=\"T_075ec6c2_cfb2_11ea_97ec_b808cf1506d0row7_col1\" class=\"data row7 col1\" >False</td>\n",
       "            </tr>\n",
       "            <tr>\n",
       "                        <th id=\"T_075ec6c2_cfb2_11ea_97ec_b808cf1506d0level0_row8\" class=\"row_heading level0 row8\" >8</th>\n",
       "                        <td id=\"T_075ec6c2_cfb2_11ea_97ec_b808cf1506d0row8_col0\" class=\"data row8 col0\" >High Cardinality Features </td>\n",
       "                        <td id=\"T_075ec6c2_cfb2_11ea_97ec_b808cf1506d0row8_col1\" class=\"data row8 col1\" >False</td>\n",
       "            </tr>\n",
       "            <tr>\n",
       "                        <th id=\"T_075ec6c2_cfb2_11ea_97ec_b808cf1506d0level0_row9\" class=\"row_heading level0 row9\" >9</th>\n",
       "                        <td id=\"T_075ec6c2_cfb2_11ea_97ec_b808cf1506d0row9_col0\" class=\"data row9 col0\" >High Cardinality Method </td>\n",
       "                        <td id=\"T_075ec6c2_cfb2_11ea_97ec_b808cf1506d0row9_col1\" class=\"data row9 col1\" >None</td>\n",
       "            </tr>\n",
       "            <tr>\n",
       "                        <th id=\"T_075ec6c2_cfb2_11ea_97ec_b808cf1506d0level0_row10\" class=\"row_heading level0 row10\" >10</th>\n",
       "                        <td id=\"T_075ec6c2_cfb2_11ea_97ec_b808cf1506d0row10_col0\" class=\"data row10 col0\" >Sampled Data</td>\n",
       "                        <td id=\"T_075ec6c2_cfb2_11ea_97ec_b808cf1506d0row10_col1\" class=\"data row10 col1\" >(506, 14)</td>\n",
       "            </tr>\n",
       "            <tr>\n",
       "                        <th id=\"T_075ec6c2_cfb2_11ea_97ec_b808cf1506d0level0_row11\" class=\"row_heading level0 row11\" >11</th>\n",
       "                        <td id=\"T_075ec6c2_cfb2_11ea_97ec_b808cf1506d0row11_col0\" class=\"data row11 col0\" >Transformed Train Set</td>\n",
       "                        <td id=\"T_075ec6c2_cfb2_11ea_97ec_b808cf1506d0row11_col1\" class=\"data row11 col1\" >(354, 21)</td>\n",
       "            </tr>\n",
       "            <tr>\n",
       "                        <th id=\"T_075ec6c2_cfb2_11ea_97ec_b808cf1506d0level0_row12\" class=\"row_heading level0 row12\" >12</th>\n",
       "                        <td id=\"T_075ec6c2_cfb2_11ea_97ec_b808cf1506d0row12_col0\" class=\"data row12 col0\" >Transformed Test Set</td>\n",
       "                        <td id=\"T_075ec6c2_cfb2_11ea_97ec_b808cf1506d0row12_col1\" class=\"data row12 col1\" >(152, 21)</td>\n",
       "            </tr>\n",
       "            <tr>\n",
       "                        <th id=\"T_075ec6c2_cfb2_11ea_97ec_b808cf1506d0level0_row13\" class=\"row_heading level0 row13\" >13</th>\n",
       "                        <td id=\"T_075ec6c2_cfb2_11ea_97ec_b808cf1506d0row13_col0\" class=\"data row13 col0\" >Numeric Imputer </td>\n",
       "                        <td id=\"T_075ec6c2_cfb2_11ea_97ec_b808cf1506d0row13_col1\" class=\"data row13 col1\" >mean</td>\n",
       "            </tr>\n",
       "            <tr>\n",
       "                        <th id=\"T_075ec6c2_cfb2_11ea_97ec_b808cf1506d0level0_row14\" class=\"row_heading level0 row14\" >14</th>\n",
       "                        <td id=\"T_075ec6c2_cfb2_11ea_97ec_b808cf1506d0row14_col0\" class=\"data row14 col0\" >Categorical Imputer </td>\n",
       "                        <td id=\"T_075ec6c2_cfb2_11ea_97ec_b808cf1506d0row14_col1\" class=\"data row14 col1\" >constant</td>\n",
       "            </tr>\n",
       "            <tr>\n",
       "                        <th id=\"T_075ec6c2_cfb2_11ea_97ec_b808cf1506d0level0_row15\" class=\"row_heading level0 row15\" >15</th>\n",
       "                        <td id=\"T_075ec6c2_cfb2_11ea_97ec_b808cf1506d0row15_col0\" class=\"data row15 col0\" >Normalize </td>\n",
       "                        <td id=\"T_075ec6c2_cfb2_11ea_97ec_b808cf1506d0row15_col1\" class=\"data row15 col1\" >False</td>\n",
       "            </tr>\n",
       "            <tr>\n",
       "                        <th id=\"T_075ec6c2_cfb2_11ea_97ec_b808cf1506d0level0_row16\" class=\"row_heading level0 row16\" >16</th>\n",
       "                        <td id=\"T_075ec6c2_cfb2_11ea_97ec_b808cf1506d0row16_col0\" class=\"data row16 col0\" >Normalize Method </td>\n",
       "                        <td id=\"T_075ec6c2_cfb2_11ea_97ec_b808cf1506d0row16_col1\" class=\"data row16 col1\" >None</td>\n",
       "            </tr>\n",
       "            <tr>\n",
       "                        <th id=\"T_075ec6c2_cfb2_11ea_97ec_b808cf1506d0level0_row17\" class=\"row_heading level0 row17\" >17</th>\n",
       "                        <td id=\"T_075ec6c2_cfb2_11ea_97ec_b808cf1506d0row17_col0\" class=\"data row17 col0\" >Transformation </td>\n",
       "                        <td id=\"T_075ec6c2_cfb2_11ea_97ec_b808cf1506d0row17_col1\" class=\"data row17 col1\" >False</td>\n",
       "            </tr>\n",
       "            <tr>\n",
       "                        <th id=\"T_075ec6c2_cfb2_11ea_97ec_b808cf1506d0level0_row18\" class=\"row_heading level0 row18\" >18</th>\n",
       "                        <td id=\"T_075ec6c2_cfb2_11ea_97ec_b808cf1506d0row18_col0\" class=\"data row18 col0\" >Transformation Method </td>\n",
       "                        <td id=\"T_075ec6c2_cfb2_11ea_97ec_b808cf1506d0row18_col1\" class=\"data row18 col1\" >None</td>\n",
       "            </tr>\n",
       "            <tr>\n",
       "                        <th id=\"T_075ec6c2_cfb2_11ea_97ec_b808cf1506d0level0_row19\" class=\"row_heading level0 row19\" >19</th>\n",
       "                        <td id=\"T_075ec6c2_cfb2_11ea_97ec_b808cf1506d0row19_col0\" class=\"data row19 col0\" >PCA </td>\n",
       "                        <td id=\"T_075ec6c2_cfb2_11ea_97ec_b808cf1506d0row19_col1\" class=\"data row19 col1\" >False</td>\n",
       "            </tr>\n",
       "            <tr>\n",
       "                        <th id=\"T_075ec6c2_cfb2_11ea_97ec_b808cf1506d0level0_row20\" class=\"row_heading level0 row20\" >20</th>\n",
       "                        <td id=\"T_075ec6c2_cfb2_11ea_97ec_b808cf1506d0row20_col0\" class=\"data row20 col0\" >PCA Method </td>\n",
       "                        <td id=\"T_075ec6c2_cfb2_11ea_97ec_b808cf1506d0row20_col1\" class=\"data row20 col1\" >None</td>\n",
       "            </tr>\n",
       "            <tr>\n",
       "                        <th id=\"T_075ec6c2_cfb2_11ea_97ec_b808cf1506d0level0_row21\" class=\"row_heading level0 row21\" >21</th>\n",
       "                        <td id=\"T_075ec6c2_cfb2_11ea_97ec_b808cf1506d0row21_col0\" class=\"data row21 col0\" >PCA Components </td>\n",
       "                        <td id=\"T_075ec6c2_cfb2_11ea_97ec_b808cf1506d0row21_col1\" class=\"data row21 col1\" >None</td>\n",
       "            </tr>\n",
       "            <tr>\n",
       "                        <th id=\"T_075ec6c2_cfb2_11ea_97ec_b808cf1506d0level0_row22\" class=\"row_heading level0 row22\" >22</th>\n",
       "                        <td id=\"T_075ec6c2_cfb2_11ea_97ec_b808cf1506d0row22_col0\" class=\"data row22 col0\" >Ignore Low Variance </td>\n",
       "                        <td id=\"T_075ec6c2_cfb2_11ea_97ec_b808cf1506d0row22_col1\" class=\"data row22 col1\" >False</td>\n",
       "            </tr>\n",
       "            <tr>\n",
       "                        <th id=\"T_075ec6c2_cfb2_11ea_97ec_b808cf1506d0level0_row23\" class=\"row_heading level0 row23\" >23</th>\n",
       "                        <td id=\"T_075ec6c2_cfb2_11ea_97ec_b808cf1506d0row23_col0\" class=\"data row23 col0\" >Combine Rare Levels </td>\n",
       "                        <td id=\"T_075ec6c2_cfb2_11ea_97ec_b808cf1506d0row23_col1\" class=\"data row23 col1\" >False</td>\n",
       "            </tr>\n",
       "            <tr>\n",
       "                        <th id=\"T_075ec6c2_cfb2_11ea_97ec_b808cf1506d0level0_row24\" class=\"row_heading level0 row24\" >24</th>\n",
       "                        <td id=\"T_075ec6c2_cfb2_11ea_97ec_b808cf1506d0row24_col0\" class=\"data row24 col0\" >Rare Level Threshold </td>\n",
       "                        <td id=\"T_075ec6c2_cfb2_11ea_97ec_b808cf1506d0row24_col1\" class=\"data row24 col1\" >None</td>\n",
       "            </tr>\n",
       "            <tr>\n",
       "                        <th id=\"T_075ec6c2_cfb2_11ea_97ec_b808cf1506d0level0_row25\" class=\"row_heading level0 row25\" >25</th>\n",
       "                        <td id=\"T_075ec6c2_cfb2_11ea_97ec_b808cf1506d0row25_col0\" class=\"data row25 col0\" >Numeric Binning </td>\n",
       "                        <td id=\"T_075ec6c2_cfb2_11ea_97ec_b808cf1506d0row25_col1\" class=\"data row25 col1\" >False</td>\n",
       "            </tr>\n",
       "            <tr>\n",
       "                        <th id=\"T_075ec6c2_cfb2_11ea_97ec_b808cf1506d0level0_row26\" class=\"row_heading level0 row26\" >26</th>\n",
       "                        <td id=\"T_075ec6c2_cfb2_11ea_97ec_b808cf1506d0row26_col0\" class=\"data row26 col0\" >Remove Outliers </td>\n",
       "                        <td id=\"T_075ec6c2_cfb2_11ea_97ec_b808cf1506d0row26_col1\" class=\"data row26 col1\" >False</td>\n",
       "            </tr>\n",
       "            <tr>\n",
       "                        <th id=\"T_075ec6c2_cfb2_11ea_97ec_b808cf1506d0level0_row27\" class=\"row_heading level0 row27\" >27</th>\n",
       "                        <td id=\"T_075ec6c2_cfb2_11ea_97ec_b808cf1506d0row27_col0\" class=\"data row27 col0\" >Outliers Threshold </td>\n",
       "                        <td id=\"T_075ec6c2_cfb2_11ea_97ec_b808cf1506d0row27_col1\" class=\"data row27 col1\" >None</td>\n",
       "            </tr>\n",
       "            <tr>\n",
       "                        <th id=\"T_075ec6c2_cfb2_11ea_97ec_b808cf1506d0level0_row28\" class=\"row_heading level0 row28\" >28</th>\n",
       "                        <td id=\"T_075ec6c2_cfb2_11ea_97ec_b808cf1506d0row28_col0\" class=\"data row28 col0\" >Remove Multicollinearity </td>\n",
       "                        <td id=\"T_075ec6c2_cfb2_11ea_97ec_b808cf1506d0row28_col1\" class=\"data row28 col1\" >False</td>\n",
       "            </tr>\n",
       "            <tr>\n",
       "                        <th id=\"T_075ec6c2_cfb2_11ea_97ec_b808cf1506d0level0_row29\" class=\"row_heading level0 row29\" >29</th>\n",
       "                        <td id=\"T_075ec6c2_cfb2_11ea_97ec_b808cf1506d0row29_col0\" class=\"data row29 col0\" >Multicollinearity Threshold </td>\n",
       "                        <td id=\"T_075ec6c2_cfb2_11ea_97ec_b808cf1506d0row29_col1\" class=\"data row29 col1\" >None</td>\n",
       "            </tr>\n",
       "            <tr>\n",
       "                        <th id=\"T_075ec6c2_cfb2_11ea_97ec_b808cf1506d0level0_row30\" class=\"row_heading level0 row30\" >30</th>\n",
       "                        <td id=\"T_075ec6c2_cfb2_11ea_97ec_b808cf1506d0row30_col0\" class=\"data row30 col0\" >Clustering </td>\n",
       "                        <td id=\"T_075ec6c2_cfb2_11ea_97ec_b808cf1506d0row30_col1\" class=\"data row30 col1\" >False</td>\n",
       "            </tr>\n",
       "            <tr>\n",
       "                        <th id=\"T_075ec6c2_cfb2_11ea_97ec_b808cf1506d0level0_row31\" class=\"row_heading level0 row31\" >31</th>\n",
       "                        <td id=\"T_075ec6c2_cfb2_11ea_97ec_b808cf1506d0row31_col0\" class=\"data row31 col0\" >Clustering Iteration </td>\n",
       "                        <td id=\"T_075ec6c2_cfb2_11ea_97ec_b808cf1506d0row31_col1\" class=\"data row31 col1\" >None</td>\n",
       "            </tr>\n",
       "            <tr>\n",
       "                        <th id=\"T_075ec6c2_cfb2_11ea_97ec_b808cf1506d0level0_row32\" class=\"row_heading level0 row32\" >32</th>\n",
       "                        <td id=\"T_075ec6c2_cfb2_11ea_97ec_b808cf1506d0row32_col0\" class=\"data row32 col0\" >Polynomial Features </td>\n",
       "                        <td id=\"T_075ec6c2_cfb2_11ea_97ec_b808cf1506d0row32_col1\" class=\"data row32 col1\" >False</td>\n",
       "            </tr>\n",
       "            <tr>\n",
       "                        <th id=\"T_075ec6c2_cfb2_11ea_97ec_b808cf1506d0level0_row33\" class=\"row_heading level0 row33\" >33</th>\n",
       "                        <td id=\"T_075ec6c2_cfb2_11ea_97ec_b808cf1506d0row33_col0\" class=\"data row33 col0\" >Polynomial Degree </td>\n",
       "                        <td id=\"T_075ec6c2_cfb2_11ea_97ec_b808cf1506d0row33_col1\" class=\"data row33 col1\" >None</td>\n",
       "            </tr>\n",
       "            <tr>\n",
       "                        <th id=\"T_075ec6c2_cfb2_11ea_97ec_b808cf1506d0level0_row34\" class=\"row_heading level0 row34\" >34</th>\n",
       "                        <td id=\"T_075ec6c2_cfb2_11ea_97ec_b808cf1506d0row34_col0\" class=\"data row34 col0\" >Trignometry Features </td>\n",
       "                        <td id=\"T_075ec6c2_cfb2_11ea_97ec_b808cf1506d0row34_col1\" class=\"data row34 col1\" >False</td>\n",
       "            </tr>\n",
       "            <tr>\n",
       "                        <th id=\"T_075ec6c2_cfb2_11ea_97ec_b808cf1506d0level0_row35\" class=\"row_heading level0 row35\" >35</th>\n",
       "                        <td id=\"T_075ec6c2_cfb2_11ea_97ec_b808cf1506d0row35_col0\" class=\"data row35 col0\" >Polynomial Threshold </td>\n",
       "                        <td id=\"T_075ec6c2_cfb2_11ea_97ec_b808cf1506d0row35_col1\" class=\"data row35 col1\" >None</td>\n",
       "            </tr>\n",
       "            <tr>\n",
       "                        <th id=\"T_075ec6c2_cfb2_11ea_97ec_b808cf1506d0level0_row36\" class=\"row_heading level0 row36\" >36</th>\n",
       "                        <td id=\"T_075ec6c2_cfb2_11ea_97ec_b808cf1506d0row36_col0\" class=\"data row36 col0\" >Group Features </td>\n",
       "                        <td id=\"T_075ec6c2_cfb2_11ea_97ec_b808cf1506d0row36_col1\" class=\"data row36 col1\" >False</td>\n",
       "            </tr>\n",
       "            <tr>\n",
       "                        <th id=\"T_075ec6c2_cfb2_11ea_97ec_b808cf1506d0level0_row37\" class=\"row_heading level0 row37\" >37</th>\n",
       "                        <td id=\"T_075ec6c2_cfb2_11ea_97ec_b808cf1506d0row37_col0\" class=\"data row37 col0\" >Feature Selection </td>\n",
       "                        <td id=\"T_075ec6c2_cfb2_11ea_97ec_b808cf1506d0row37_col1\" class=\"data row37 col1\" >False</td>\n",
       "            </tr>\n",
       "            <tr>\n",
       "                        <th id=\"T_075ec6c2_cfb2_11ea_97ec_b808cf1506d0level0_row38\" class=\"row_heading level0 row38\" >38</th>\n",
       "                        <td id=\"T_075ec6c2_cfb2_11ea_97ec_b808cf1506d0row38_col0\" class=\"data row38 col0\" >Features Selection Threshold </td>\n",
       "                        <td id=\"T_075ec6c2_cfb2_11ea_97ec_b808cf1506d0row38_col1\" class=\"data row38 col1\" >None</td>\n",
       "            </tr>\n",
       "            <tr>\n",
       "                        <th id=\"T_075ec6c2_cfb2_11ea_97ec_b808cf1506d0level0_row39\" class=\"row_heading level0 row39\" >39</th>\n",
       "                        <td id=\"T_075ec6c2_cfb2_11ea_97ec_b808cf1506d0row39_col0\" class=\"data row39 col0\" >Feature Interaction </td>\n",
       "                        <td id=\"T_075ec6c2_cfb2_11ea_97ec_b808cf1506d0row39_col1\" class=\"data row39 col1\" >False</td>\n",
       "            </tr>\n",
       "            <tr>\n",
       "                        <th id=\"T_075ec6c2_cfb2_11ea_97ec_b808cf1506d0level0_row40\" class=\"row_heading level0 row40\" >40</th>\n",
       "                        <td id=\"T_075ec6c2_cfb2_11ea_97ec_b808cf1506d0row40_col0\" class=\"data row40 col0\" >Feature Ratio </td>\n",
       "                        <td id=\"T_075ec6c2_cfb2_11ea_97ec_b808cf1506d0row40_col1\" class=\"data row40 col1\" >False</td>\n",
       "            </tr>\n",
       "            <tr>\n",
       "                        <th id=\"T_075ec6c2_cfb2_11ea_97ec_b808cf1506d0level0_row41\" class=\"row_heading level0 row41\" >41</th>\n",
       "                        <td id=\"T_075ec6c2_cfb2_11ea_97ec_b808cf1506d0row41_col0\" class=\"data row41 col0\" >Interaction Threshold </td>\n",
       "                        <td id=\"T_075ec6c2_cfb2_11ea_97ec_b808cf1506d0row41_col1\" class=\"data row41 col1\" >None</td>\n",
       "            </tr>\n",
       "    </tbody></table>"
      ],
      "text/plain": [
       "<pandas.io.formats.style.Styler at 0x1d5b90a6888>"
      ]
     },
     "metadata": {},
     "output_type": "display_data"
    }
   ],
   "source": [
    "from pycaret.regression import *\n",
    "reg=setup(data=boston_df,target='medv')"
   ]
  },
  {
   "cell_type": "code",
   "execution_count": 13,
   "metadata": {},
   "outputs": [
    {
     "data": {
      "text/html": [
       "<style  type=\"text/css\" >\n",
       "    #T_4ebb16a6_cfb2_11ea_b9e6_b808cf1506d0 th {\n",
       "          text-align: left;\n",
       "    }    #T_4ebb16a6_cfb2_11ea_b9e6_b808cf1506d0row0_col0 {\n",
       "            text-align:  left;\n",
       "        }    #T_4ebb16a6_cfb2_11ea_b9e6_b808cf1506d0row0_col1 {\n",
       "            : ;\n",
       "            text-align:  left;\n",
       "        }    #T_4ebb16a6_cfb2_11ea_b9e6_b808cf1506d0row0_col2 {\n",
       "            background-color:  yellow;\n",
       "            text-align:  left;\n",
       "        }    #T_4ebb16a6_cfb2_11ea_b9e6_b808cf1506d0row0_col3 {\n",
       "            background-color:  yellow;\n",
       "            text-align:  left;\n",
       "        }    #T_4ebb16a6_cfb2_11ea_b9e6_b808cf1506d0row0_col4 {\n",
       "            text-align:  left;\n",
       "        }    #T_4ebb16a6_cfb2_11ea_b9e6_b808cf1506d0row0_col5 {\n",
       "            background-color:  yellow;\n",
       "            text-align:  left;\n",
       "        }    #T_4ebb16a6_cfb2_11ea_b9e6_b808cf1506d0row0_col6 {\n",
       "            : ;\n",
       "            text-align:  left;\n",
       "        }    #T_4ebb16a6_cfb2_11ea_b9e6_b808cf1506d0row1_col0 {\n",
       "            text-align:  left;\n",
       "        }    #T_4ebb16a6_cfb2_11ea_b9e6_b808cf1506d0row1_col1 {\n",
       "            background-color:  yellow;\n",
       "            text-align:  left;\n",
       "        }    #T_4ebb16a6_cfb2_11ea_b9e6_b808cf1506d0row1_col2 {\n",
       "            : ;\n",
       "            text-align:  left;\n",
       "        }    #T_4ebb16a6_cfb2_11ea_b9e6_b808cf1506d0row1_col3 {\n",
       "            : ;\n",
       "            text-align:  left;\n",
       "        }    #T_4ebb16a6_cfb2_11ea_b9e6_b808cf1506d0row1_col4 {\n",
       "            text-align:  left;\n",
       "        }    #T_4ebb16a6_cfb2_11ea_b9e6_b808cf1506d0row1_col5 {\n",
       "            : ;\n",
       "            text-align:  left;\n",
       "        }    #T_4ebb16a6_cfb2_11ea_b9e6_b808cf1506d0row1_col6 {\n",
       "            background-color:  yellow;\n",
       "            text-align:  left;\n",
       "        }    #T_4ebb16a6_cfb2_11ea_b9e6_b808cf1506d0row2_col0 {\n",
       "            text-align:  left;\n",
       "        }    #T_4ebb16a6_cfb2_11ea_b9e6_b808cf1506d0row2_col1 {\n",
       "            : ;\n",
       "            text-align:  left;\n",
       "        }    #T_4ebb16a6_cfb2_11ea_b9e6_b808cf1506d0row2_col2 {\n",
       "            : ;\n",
       "            text-align:  left;\n",
       "        }    #T_4ebb16a6_cfb2_11ea_b9e6_b808cf1506d0row2_col3 {\n",
       "            : ;\n",
       "            text-align:  left;\n",
       "        }    #T_4ebb16a6_cfb2_11ea_b9e6_b808cf1506d0row2_col4 {\n",
       "            text-align:  left;\n",
       "        }    #T_4ebb16a6_cfb2_11ea_b9e6_b808cf1506d0row2_col5 {\n",
       "            : ;\n",
       "            text-align:  left;\n",
       "        }    #T_4ebb16a6_cfb2_11ea_b9e6_b808cf1506d0row2_col6 {\n",
       "            : ;\n",
       "            text-align:  left;\n",
       "        }    #T_4ebb16a6_cfb2_11ea_b9e6_b808cf1506d0row3_col0 {\n",
       "            text-align:  left;\n",
       "        }    #T_4ebb16a6_cfb2_11ea_b9e6_b808cf1506d0row3_col1 {\n",
       "            : ;\n",
       "            text-align:  left;\n",
       "        }    #T_4ebb16a6_cfb2_11ea_b9e6_b808cf1506d0row3_col2 {\n",
       "            : ;\n",
       "            text-align:  left;\n",
       "        }    #T_4ebb16a6_cfb2_11ea_b9e6_b808cf1506d0row3_col3 {\n",
       "            : ;\n",
       "            text-align:  left;\n",
       "        }    #T_4ebb16a6_cfb2_11ea_b9e6_b808cf1506d0row3_col4 {\n",
       "            text-align:  left;\n",
       "        }    #T_4ebb16a6_cfb2_11ea_b9e6_b808cf1506d0row3_col5 {\n",
       "            : ;\n",
       "            text-align:  left;\n",
       "        }    #T_4ebb16a6_cfb2_11ea_b9e6_b808cf1506d0row3_col6 {\n",
       "            : ;\n",
       "            text-align:  left;\n",
       "        }    #T_4ebb16a6_cfb2_11ea_b9e6_b808cf1506d0row4_col0 {\n",
       "            text-align:  left;\n",
       "        }    #T_4ebb16a6_cfb2_11ea_b9e6_b808cf1506d0row4_col1 {\n",
       "            : ;\n",
       "            text-align:  left;\n",
       "        }    #T_4ebb16a6_cfb2_11ea_b9e6_b808cf1506d0row4_col2 {\n",
       "            : ;\n",
       "            text-align:  left;\n",
       "        }    #T_4ebb16a6_cfb2_11ea_b9e6_b808cf1506d0row4_col3 {\n",
       "            : ;\n",
       "            text-align:  left;\n",
       "        }    #T_4ebb16a6_cfb2_11ea_b9e6_b808cf1506d0row4_col4 {\n",
       "            text-align:  left;\n",
       "        }    #T_4ebb16a6_cfb2_11ea_b9e6_b808cf1506d0row4_col5 {\n",
       "            : ;\n",
       "            text-align:  left;\n",
       "        }    #T_4ebb16a6_cfb2_11ea_b9e6_b808cf1506d0row4_col6 {\n",
       "            : ;\n",
       "            text-align:  left;\n",
       "        }    #T_4ebb16a6_cfb2_11ea_b9e6_b808cf1506d0row5_col0 {\n",
       "            text-align:  left;\n",
       "        }    #T_4ebb16a6_cfb2_11ea_b9e6_b808cf1506d0row5_col1 {\n",
       "            : ;\n",
       "            text-align:  left;\n",
       "        }    #T_4ebb16a6_cfb2_11ea_b9e6_b808cf1506d0row5_col2 {\n",
       "            : ;\n",
       "            text-align:  left;\n",
       "        }    #T_4ebb16a6_cfb2_11ea_b9e6_b808cf1506d0row5_col3 {\n",
       "            : ;\n",
       "            text-align:  left;\n",
       "        }    #T_4ebb16a6_cfb2_11ea_b9e6_b808cf1506d0row5_col4 {\n",
       "            text-align:  left;\n",
       "        }    #T_4ebb16a6_cfb2_11ea_b9e6_b808cf1506d0row5_col5 {\n",
       "            : ;\n",
       "            text-align:  left;\n",
       "        }    #T_4ebb16a6_cfb2_11ea_b9e6_b808cf1506d0row5_col6 {\n",
       "            : ;\n",
       "            text-align:  left;\n",
       "        }    #T_4ebb16a6_cfb2_11ea_b9e6_b808cf1506d0row6_col0 {\n",
       "            text-align:  left;\n",
       "        }    #T_4ebb16a6_cfb2_11ea_b9e6_b808cf1506d0row6_col1 {\n",
       "            : ;\n",
       "            text-align:  left;\n",
       "        }    #T_4ebb16a6_cfb2_11ea_b9e6_b808cf1506d0row6_col2 {\n",
       "            : ;\n",
       "            text-align:  left;\n",
       "        }    #T_4ebb16a6_cfb2_11ea_b9e6_b808cf1506d0row6_col3 {\n",
       "            : ;\n",
       "            text-align:  left;\n",
       "        }    #T_4ebb16a6_cfb2_11ea_b9e6_b808cf1506d0row6_col4 {\n",
       "            text-align:  left;\n",
       "        }    #T_4ebb16a6_cfb2_11ea_b9e6_b808cf1506d0row6_col5 {\n",
       "            : ;\n",
       "            text-align:  left;\n",
       "        }    #T_4ebb16a6_cfb2_11ea_b9e6_b808cf1506d0row6_col6 {\n",
       "            : ;\n",
       "            text-align:  left;\n",
       "        }    #T_4ebb16a6_cfb2_11ea_b9e6_b808cf1506d0row7_col0 {\n",
       "            text-align:  left;\n",
       "        }    #T_4ebb16a6_cfb2_11ea_b9e6_b808cf1506d0row7_col1 {\n",
       "            : ;\n",
       "            text-align:  left;\n",
       "        }    #T_4ebb16a6_cfb2_11ea_b9e6_b808cf1506d0row7_col2 {\n",
       "            : ;\n",
       "            text-align:  left;\n",
       "        }    #T_4ebb16a6_cfb2_11ea_b9e6_b808cf1506d0row7_col3 {\n",
       "            : ;\n",
       "            text-align:  left;\n",
       "        }    #T_4ebb16a6_cfb2_11ea_b9e6_b808cf1506d0row7_col4 {\n",
       "            text-align:  left;\n",
       "        }    #T_4ebb16a6_cfb2_11ea_b9e6_b808cf1506d0row7_col5 {\n",
       "            : ;\n",
       "            text-align:  left;\n",
       "        }    #T_4ebb16a6_cfb2_11ea_b9e6_b808cf1506d0row7_col6 {\n",
       "            : ;\n",
       "            text-align:  left;\n",
       "        }    #T_4ebb16a6_cfb2_11ea_b9e6_b808cf1506d0row8_col0 {\n",
       "            text-align:  left;\n",
       "        }    #T_4ebb16a6_cfb2_11ea_b9e6_b808cf1506d0row8_col1 {\n",
       "            : ;\n",
       "            text-align:  left;\n",
       "        }    #T_4ebb16a6_cfb2_11ea_b9e6_b808cf1506d0row8_col2 {\n",
       "            : ;\n",
       "            text-align:  left;\n",
       "        }    #T_4ebb16a6_cfb2_11ea_b9e6_b808cf1506d0row8_col3 {\n",
       "            : ;\n",
       "            text-align:  left;\n",
       "        }    #T_4ebb16a6_cfb2_11ea_b9e6_b808cf1506d0row8_col4 {\n",
       "            text-align:  left;\n",
       "        }    #T_4ebb16a6_cfb2_11ea_b9e6_b808cf1506d0row8_col5 {\n",
       "            : ;\n",
       "            text-align:  left;\n",
       "        }    #T_4ebb16a6_cfb2_11ea_b9e6_b808cf1506d0row8_col6 {\n",
       "            : ;\n",
       "            text-align:  left;\n",
       "        }    #T_4ebb16a6_cfb2_11ea_b9e6_b808cf1506d0row9_col0 {\n",
       "            text-align:  left;\n",
       "        }    #T_4ebb16a6_cfb2_11ea_b9e6_b808cf1506d0row9_col1 {\n",
       "            : ;\n",
       "            text-align:  left;\n",
       "        }    #T_4ebb16a6_cfb2_11ea_b9e6_b808cf1506d0row9_col2 {\n",
       "            : ;\n",
       "            text-align:  left;\n",
       "        }    #T_4ebb16a6_cfb2_11ea_b9e6_b808cf1506d0row9_col3 {\n",
       "            : ;\n",
       "            text-align:  left;\n",
       "        }    #T_4ebb16a6_cfb2_11ea_b9e6_b808cf1506d0row9_col4 {\n",
       "            text-align:  left;\n",
       "        }    #T_4ebb16a6_cfb2_11ea_b9e6_b808cf1506d0row9_col5 {\n",
       "            : ;\n",
       "            text-align:  left;\n",
       "        }    #T_4ebb16a6_cfb2_11ea_b9e6_b808cf1506d0row9_col6 {\n",
       "            : ;\n",
       "            text-align:  left;\n",
       "        }    #T_4ebb16a6_cfb2_11ea_b9e6_b808cf1506d0row10_col0 {\n",
       "            text-align:  left;\n",
       "        }    #T_4ebb16a6_cfb2_11ea_b9e6_b808cf1506d0row10_col1 {\n",
       "            : ;\n",
       "            text-align:  left;\n",
       "        }    #T_4ebb16a6_cfb2_11ea_b9e6_b808cf1506d0row10_col2 {\n",
       "            : ;\n",
       "            text-align:  left;\n",
       "        }    #T_4ebb16a6_cfb2_11ea_b9e6_b808cf1506d0row10_col3 {\n",
       "            : ;\n",
       "            text-align:  left;\n",
       "        }    #T_4ebb16a6_cfb2_11ea_b9e6_b808cf1506d0row10_col4 {\n",
       "            text-align:  left;\n",
       "        }    #T_4ebb16a6_cfb2_11ea_b9e6_b808cf1506d0row10_col5 {\n",
       "            : ;\n",
       "            text-align:  left;\n",
       "        }    #T_4ebb16a6_cfb2_11ea_b9e6_b808cf1506d0row10_col6 {\n",
       "            : ;\n",
       "            text-align:  left;\n",
       "        }    #T_4ebb16a6_cfb2_11ea_b9e6_b808cf1506d0row11_col0 {\n",
       "            text-align:  left;\n",
       "        }    #T_4ebb16a6_cfb2_11ea_b9e6_b808cf1506d0row11_col1 {\n",
       "            : ;\n",
       "            text-align:  left;\n",
       "        }    #T_4ebb16a6_cfb2_11ea_b9e6_b808cf1506d0row11_col2 {\n",
       "            : ;\n",
       "            text-align:  left;\n",
       "        }    #T_4ebb16a6_cfb2_11ea_b9e6_b808cf1506d0row11_col3 {\n",
       "            : ;\n",
       "            text-align:  left;\n",
       "        }    #T_4ebb16a6_cfb2_11ea_b9e6_b808cf1506d0row11_col4 {\n",
       "            text-align:  left;\n",
       "        }    #T_4ebb16a6_cfb2_11ea_b9e6_b808cf1506d0row11_col5 {\n",
       "            : ;\n",
       "            text-align:  left;\n",
       "        }    #T_4ebb16a6_cfb2_11ea_b9e6_b808cf1506d0row11_col6 {\n",
       "            : ;\n",
       "            text-align:  left;\n",
       "        }    #T_4ebb16a6_cfb2_11ea_b9e6_b808cf1506d0row12_col0 {\n",
       "            text-align:  left;\n",
       "        }    #T_4ebb16a6_cfb2_11ea_b9e6_b808cf1506d0row12_col1 {\n",
       "            : ;\n",
       "            text-align:  left;\n",
       "        }    #T_4ebb16a6_cfb2_11ea_b9e6_b808cf1506d0row12_col2 {\n",
       "            : ;\n",
       "            text-align:  left;\n",
       "        }    #T_4ebb16a6_cfb2_11ea_b9e6_b808cf1506d0row12_col3 {\n",
       "            : ;\n",
       "            text-align:  left;\n",
       "        }    #T_4ebb16a6_cfb2_11ea_b9e6_b808cf1506d0row12_col4 {\n",
       "            text-align:  left;\n",
       "        }    #T_4ebb16a6_cfb2_11ea_b9e6_b808cf1506d0row12_col5 {\n",
       "            : ;\n",
       "            text-align:  left;\n",
       "        }    #T_4ebb16a6_cfb2_11ea_b9e6_b808cf1506d0row12_col6 {\n",
       "            : ;\n",
       "            text-align:  left;\n",
       "        }    #T_4ebb16a6_cfb2_11ea_b9e6_b808cf1506d0row13_col0 {\n",
       "            text-align:  left;\n",
       "        }    #T_4ebb16a6_cfb2_11ea_b9e6_b808cf1506d0row13_col1 {\n",
       "            : ;\n",
       "            text-align:  left;\n",
       "        }    #T_4ebb16a6_cfb2_11ea_b9e6_b808cf1506d0row13_col2 {\n",
       "            : ;\n",
       "            text-align:  left;\n",
       "        }    #T_4ebb16a6_cfb2_11ea_b9e6_b808cf1506d0row13_col3 {\n",
       "            : ;\n",
       "            text-align:  left;\n",
       "        }    #T_4ebb16a6_cfb2_11ea_b9e6_b808cf1506d0row13_col4 {\n",
       "            text-align:  left;\n",
       "        }    #T_4ebb16a6_cfb2_11ea_b9e6_b808cf1506d0row13_col5 {\n",
       "            : ;\n",
       "            text-align:  left;\n",
       "        }    #T_4ebb16a6_cfb2_11ea_b9e6_b808cf1506d0row13_col6 {\n",
       "            : ;\n",
       "            text-align:  left;\n",
       "        }    #T_4ebb16a6_cfb2_11ea_b9e6_b808cf1506d0row14_col0 {\n",
       "            text-align:  left;\n",
       "        }    #T_4ebb16a6_cfb2_11ea_b9e6_b808cf1506d0row14_col1 {\n",
       "            : ;\n",
       "            text-align:  left;\n",
       "        }    #T_4ebb16a6_cfb2_11ea_b9e6_b808cf1506d0row14_col2 {\n",
       "            : ;\n",
       "            text-align:  left;\n",
       "        }    #T_4ebb16a6_cfb2_11ea_b9e6_b808cf1506d0row14_col3 {\n",
       "            : ;\n",
       "            text-align:  left;\n",
       "        }    #T_4ebb16a6_cfb2_11ea_b9e6_b808cf1506d0row14_col4 {\n",
       "            text-align:  left;\n",
       "        }    #T_4ebb16a6_cfb2_11ea_b9e6_b808cf1506d0row14_col5 {\n",
       "            : ;\n",
       "            text-align:  left;\n",
       "        }    #T_4ebb16a6_cfb2_11ea_b9e6_b808cf1506d0row14_col6 {\n",
       "            : ;\n",
       "            text-align:  left;\n",
       "        }    #T_4ebb16a6_cfb2_11ea_b9e6_b808cf1506d0row15_col0 {\n",
       "            text-align:  left;\n",
       "        }    #T_4ebb16a6_cfb2_11ea_b9e6_b808cf1506d0row15_col1 {\n",
       "            : ;\n",
       "            text-align:  left;\n",
       "        }    #T_4ebb16a6_cfb2_11ea_b9e6_b808cf1506d0row15_col2 {\n",
       "            : ;\n",
       "            text-align:  left;\n",
       "        }    #T_4ebb16a6_cfb2_11ea_b9e6_b808cf1506d0row15_col3 {\n",
       "            : ;\n",
       "            text-align:  left;\n",
       "        }    #T_4ebb16a6_cfb2_11ea_b9e6_b808cf1506d0row15_col4 {\n",
       "            text-align:  left;\n",
       "        }    #T_4ebb16a6_cfb2_11ea_b9e6_b808cf1506d0row15_col5 {\n",
       "            : ;\n",
       "            text-align:  left;\n",
       "        }    #T_4ebb16a6_cfb2_11ea_b9e6_b808cf1506d0row15_col6 {\n",
       "            : ;\n",
       "            text-align:  left;\n",
       "        }    #T_4ebb16a6_cfb2_11ea_b9e6_b808cf1506d0row16_col0 {\n",
       "            text-align:  left;\n",
       "        }    #T_4ebb16a6_cfb2_11ea_b9e6_b808cf1506d0row16_col1 {\n",
       "            : ;\n",
       "            text-align:  left;\n",
       "        }    #T_4ebb16a6_cfb2_11ea_b9e6_b808cf1506d0row16_col2 {\n",
       "            : ;\n",
       "            text-align:  left;\n",
       "        }    #T_4ebb16a6_cfb2_11ea_b9e6_b808cf1506d0row16_col3 {\n",
       "            : ;\n",
       "            text-align:  left;\n",
       "        }    #T_4ebb16a6_cfb2_11ea_b9e6_b808cf1506d0row16_col4 {\n",
       "            text-align:  left;\n",
       "        }    #T_4ebb16a6_cfb2_11ea_b9e6_b808cf1506d0row16_col5 {\n",
       "            : ;\n",
       "            text-align:  left;\n",
       "        }    #T_4ebb16a6_cfb2_11ea_b9e6_b808cf1506d0row16_col6 {\n",
       "            : ;\n",
       "            text-align:  left;\n",
       "        }    #T_4ebb16a6_cfb2_11ea_b9e6_b808cf1506d0row17_col0 {\n",
       "            text-align:  left;\n",
       "        }    #T_4ebb16a6_cfb2_11ea_b9e6_b808cf1506d0row17_col1 {\n",
       "            : ;\n",
       "            text-align:  left;\n",
       "        }    #T_4ebb16a6_cfb2_11ea_b9e6_b808cf1506d0row17_col2 {\n",
       "            : ;\n",
       "            text-align:  left;\n",
       "        }    #T_4ebb16a6_cfb2_11ea_b9e6_b808cf1506d0row17_col3 {\n",
       "            : ;\n",
       "            text-align:  left;\n",
       "        }    #T_4ebb16a6_cfb2_11ea_b9e6_b808cf1506d0row17_col4 {\n",
       "            text-align:  left;\n",
       "        }    #T_4ebb16a6_cfb2_11ea_b9e6_b808cf1506d0row17_col5 {\n",
       "            : ;\n",
       "            text-align:  left;\n",
       "        }    #T_4ebb16a6_cfb2_11ea_b9e6_b808cf1506d0row17_col6 {\n",
       "            : ;\n",
       "            text-align:  left;\n",
       "        }    #T_4ebb16a6_cfb2_11ea_b9e6_b808cf1506d0row18_col0 {\n",
       "            text-align:  left;\n",
       "        }    #T_4ebb16a6_cfb2_11ea_b9e6_b808cf1506d0row18_col1 {\n",
       "            : ;\n",
       "            text-align:  left;\n",
       "        }    #T_4ebb16a6_cfb2_11ea_b9e6_b808cf1506d0row18_col2 {\n",
       "            : ;\n",
       "            text-align:  left;\n",
       "        }    #T_4ebb16a6_cfb2_11ea_b9e6_b808cf1506d0row18_col3 {\n",
       "            : ;\n",
       "            text-align:  left;\n",
       "        }    #T_4ebb16a6_cfb2_11ea_b9e6_b808cf1506d0row18_col4 {\n",
       "            text-align:  left;\n",
       "        }    #T_4ebb16a6_cfb2_11ea_b9e6_b808cf1506d0row18_col5 {\n",
       "            : ;\n",
       "            text-align:  left;\n",
       "        }    #T_4ebb16a6_cfb2_11ea_b9e6_b808cf1506d0row18_col6 {\n",
       "            : ;\n",
       "            text-align:  left;\n",
       "        }    #T_4ebb16a6_cfb2_11ea_b9e6_b808cf1506d0row19_col0 {\n",
       "            text-align:  left;\n",
       "        }    #T_4ebb16a6_cfb2_11ea_b9e6_b808cf1506d0row19_col1 {\n",
       "            : ;\n",
       "            text-align:  left;\n",
       "        }    #T_4ebb16a6_cfb2_11ea_b9e6_b808cf1506d0row19_col2 {\n",
       "            : ;\n",
       "            text-align:  left;\n",
       "        }    #T_4ebb16a6_cfb2_11ea_b9e6_b808cf1506d0row19_col3 {\n",
       "            : ;\n",
       "            text-align:  left;\n",
       "        }    #T_4ebb16a6_cfb2_11ea_b9e6_b808cf1506d0row19_col4 {\n",
       "            text-align:  left;\n",
       "        }    #T_4ebb16a6_cfb2_11ea_b9e6_b808cf1506d0row19_col5 {\n",
       "            : ;\n",
       "            text-align:  left;\n",
       "        }    #T_4ebb16a6_cfb2_11ea_b9e6_b808cf1506d0row19_col6 {\n",
       "            : ;\n",
       "            text-align:  left;\n",
       "        }    #T_4ebb16a6_cfb2_11ea_b9e6_b808cf1506d0row20_col0 {\n",
       "            text-align:  left;\n",
       "        }    #T_4ebb16a6_cfb2_11ea_b9e6_b808cf1506d0row20_col1 {\n",
       "            : ;\n",
       "            text-align:  left;\n",
       "        }    #T_4ebb16a6_cfb2_11ea_b9e6_b808cf1506d0row20_col2 {\n",
       "            : ;\n",
       "            text-align:  left;\n",
       "        }    #T_4ebb16a6_cfb2_11ea_b9e6_b808cf1506d0row20_col3 {\n",
       "            : ;\n",
       "            text-align:  left;\n",
       "        }    #T_4ebb16a6_cfb2_11ea_b9e6_b808cf1506d0row20_col4 {\n",
       "            text-align:  left;\n",
       "        }    #T_4ebb16a6_cfb2_11ea_b9e6_b808cf1506d0row20_col5 {\n",
       "            : ;\n",
       "            text-align:  left;\n",
       "        }    #T_4ebb16a6_cfb2_11ea_b9e6_b808cf1506d0row20_col6 {\n",
       "            : ;\n",
       "            text-align:  left;\n",
       "        }    #T_4ebb16a6_cfb2_11ea_b9e6_b808cf1506d0row21_col0 {\n",
       "            text-align:  left;\n",
       "        }    #T_4ebb16a6_cfb2_11ea_b9e6_b808cf1506d0row21_col1 {\n",
       "            : ;\n",
       "            text-align:  left;\n",
       "        }    #T_4ebb16a6_cfb2_11ea_b9e6_b808cf1506d0row21_col2 {\n",
       "            : ;\n",
       "            text-align:  left;\n",
       "        }    #T_4ebb16a6_cfb2_11ea_b9e6_b808cf1506d0row21_col3 {\n",
       "            : ;\n",
       "            text-align:  left;\n",
       "        }    #T_4ebb16a6_cfb2_11ea_b9e6_b808cf1506d0row21_col4 {\n",
       "            text-align:  left;\n",
       "        }    #T_4ebb16a6_cfb2_11ea_b9e6_b808cf1506d0row21_col5 {\n",
       "            : ;\n",
       "            text-align:  left;\n",
       "        }    #T_4ebb16a6_cfb2_11ea_b9e6_b808cf1506d0row21_col6 {\n",
       "            : ;\n",
       "            text-align:  left;\n",
       "        }</style><table id=\"T_4ebb16a6_cfb2_11ea_b9e6_b808cf1506d0\" ><thead>    <tr>        <th class=\"blank level0\" ></th>        <th class=\"col_heading level0 col0\" >Model</th>        <th class=\"col_heading level0 col1\" >MAE</th>        <th class=\"col_heading level0 col2\" >MSE</th>        <th class=\"col_heading level0 col3\" >RMSE</th>        <th class=\"col_heading level0 col4\" >R2</th>        <th class=\"col_heading level0 col5\" >RMSLE</th>        <th class=\"col_heading level0 col6\" >MAPE</th>    </tr></thead><tbody>\n",
       "                <tr>\n",
       "                        <th id=\"T_4ebb16a6_cfb2_11ea_b9e6_b808cf1506d0level0_row0\" class=\"row_heading level0 row0\" >0</th>\n",
       "                        <td id=\"T_4ebb16a6_cfb2_11ea_b9e6_b808cf1506d0row0_col0\" class=\"data row0 col0\" >Extra Trees Regressor</td>\n",
       "                        <td id=\"T_4ebb16a6_cfb2_11ea_b9e6_b808cf1506d0row0_col1\" class=\"data row0 col1\" >2.101500</td>\n",
       "                        <td id=\"T_4ebb16a6_cfb2_11ea_b9e6_b808cf1506d0row0_col2\" class=\"data row0 col2\" >10.602700</td>\n",
       "                        <td id=\"T_4ebb16a6_cfb2_11ea_b9e6_b808cf1506d0row0_col3\" class=\"data row0 col3\" >3.072600</td>\n",
       "                        <td id=\"T_4ebb16a6_cfb2_11ea_b9e6_b808cf1506d0row0_col4\" class=\"data row0 col4\" >0.869300</td>\n",
       "                        <td id=\"T_4ebb16a6_cfb2_11ea_b9e6_b808cf1506d0row0_col5\" class=\"data row0 col5\" >0.138000</td>\n",
       "                        <td id=\"T_4ebb16a6_cfb2_11ea_b9e6_b808cf1506d0row0_col6\" class=\"data row0 col6\" >0.106200</td>\n",
       "            </tr>\n",
       "            <tr>\n",
       "                        <th id=\"T_4ebb16a6_cfb2_11ea_b9e6_b808cf1506d0level0_row1\" class=\"row_heading level0 row1\" >1</th>\n",
       "                        <td id=\"T_4ebb16a6_cfb2_11ea_b9e6_b808cf1506d0row1_col0\" class=\"data row1 col0\" >CatBoost Regressor</td>\n",
       "                        <td id=\"T_4ebb16a6_cfb2_11ea_b9e6_b808cf1506d0row1_col1\" class=\"data row1 col1\" >2.077200</td>\n",
       "                        <td id=\"T_4ebb16a6_cfb2_11ea_b9e6_b808cf1506d0row1_col2\" class=\"data row1 col2\" >10.920500</td>\n",
       "                        <td id=\"T_4ebb16a6_cfb2_11ea_b9e6_b808cf1506d0row1_col3\" class=\"data row1 col3\" >3.136700</td>\n",
       "                        <td id=\"T_4ebb16a6_cfb2_11ea_b9e6_b808cf1506d0row1_col4\" class=\"data row1 col4\" >0.868300</td>\n",
       "                        <td id=\"T_4ebb16a6_cfb2_11ea_b9e6_b808cf1506d0row1_col5\" class=\"data row1 col5\" >0.139000</td>\n",
       "                        <td id=\"T_4ebb16a6_cfb2_11ea_b9e6_b808cf1506d0row1_col6\" class=\"data row1 col6\" >0.103500</td>\n",
       "            </tr>\n",
       "            <tr>\n",
       "                        <th id=\"T_4ebb16a6_cfb2_11ea_b9e6_b808cf1506d0level0_row2\" class=\"row_heading level0 row2\" >2</th>\n",
       "                        <td id=\"T_4ebb16a6_cfb2_11ea_b9e6_b808cf1506d0row2_col0\" class=\"data row2 col0\" >Gradient Boosting Regressor</td>\n",
       "                        <td id=\"T_4ebb16a6_cfb2_11ea_b9e6_b808cf1506d0row2_col1\" class=\"data row2 col1\" >2.302300</td>\n",
       "                        <td id=\"T_4ebb16a6_cfb2_11ea_b9e6_b808cf1506d0row2_col2\" class=\"data row2 col2\" >11.226500</td>\n",
       "                        <td id=\"T_4ebb16a6_cfb2_11ea_b9e6_b808cf1506d0row2_col3\" class=\"data row2 col3\" >3.207900</td>\n",
       "                        <td id=\"T_4ebb16a6_cfb2_11ea_b9e6_b808cf1506d0row2_col4\" class=\"data row2 col4\" >0.860700</td>\n",
       "                        <td id=\"T_4ebb16a6_cfb2_11ea_b9e6_b808cf1506d0row2_col5\" class=\"data row2 col5\" >0.146200</td>\n",
       "                        <td id=\"T_4ebb16a6_cfb2_11ea_b9e6_b808cf1506d0row2_col6\" class=\"data row2 col6\" >0.117800</td>\n",
       "            </tr>\n",
       "            <tr>\n",
       "                        <th id=\"T_4ebb16a6_cfb2_11ea_b9e6_b808cf1506d0level0_row3\" class=\"row_heading level0 row3\" >3</th>\n",
       "                        <td id=\"T_4ebb16a6_cfb2_11ea_b9e6_b808cf1506d0row3_col0\" class=\"data row3 col0\" >Extreme Gradient Boosting</td>\n",
       "                        <td id=\"T_4ebb16a6_cfb2_11ea_b9e6_b808cf1506d0row3_col1\" class=\"data row3 col1\" >2.379300</td>\n",
       "                        <td id=\"T_4ebb16a6_cfb2_11ea_b9e6_b808cf1506d0row3_col2\" class=\"data row3 col2\" >12.904500</td>\n",
       "                        <td id=\"T_4ebb16a6_cfb2_11ea_b9e6_b808cf1506d0row3_col3\" class=\"data row3 col3\" >3.419500</td>\n",
       "                        <td id=\"T_4ebb16a6_cfb2_11ea_b9e6_b808cf1506d0row3_col4\" class=\"data row3 col4\" >0.837400</td>\n",
       "                        <td id=\"T_4ebb16a6_cfb2_11ea_b9e6_b808cf1506d0row3_col5\" class=\"data row3 col5\" >0.153000</td>\n",
       "                        <td id=\"T_4ebb16a6_cfb2_11ea_b9e6_b808cf1506d0row3_col6\" class=\"data row3 col6\" >0.120900</td>\n",
       "            </tr>\n",
       "            <tr>\n",
       "                        <th id=\"T_4ebb16a6_cfb2_11ea_b9e6_b808cf1506d0level0_row4\" class=\"row_heading level0 row4\" >4</th>\n",
       "                        <td id=\"T_4ebb16a6_cfb2_11ea_b9e6_b808cf1506d0row4_col0\" class=\"data row4 col0\" >Random Forest</td>\n",
       "                        <td id=\"T_4ebb16a6_cfb2_11ea_b9e6_b808cf1506d0row4_col1\" class=\"data row4 col1\" >2.360700</td>\n",
       "                        <td id=\"T_4ebb16a6_cfb2_11ea_b9e6_b808cf1506d0row4_col2\" class=\"data row4 col2\" >13.948900</td>\n",
       "                        <td id=\"T_4ebb16a6_cfb2_11ea_b9e6_b808cf1506d0row4_col3\" class=\"data row4 col3\" >3.526600</td>\n",
       "                        <td id=\"T_4ebb16a6_cfb2_11ea_b9e6_b808cf1506d0row4_col4\" class=\"data row4 col4\" >0.827400</td>\n",
       "                        <td id=\"T_4ebb16a6_cfb2_11ea_b9e6_b808cf1506d0row4_col5\" class=\"data row4 col5\" >0.153100</td>\n",
       "                        <td id=\"T_4ebb16a6_cfb2_11ea_b9e6_b808cf1506d0row4_col6\" class=\"data row4 col6\" >0.118200</td>\n",
       "            </tr>\n",
       "            <tr>\n",
       "                        <th id=\"T_4ebb16a6_cfb2_11ea_b9e6_b808cf1506d0level0_row5\" class=\"row_heading level0 row5\" >5</th>\n",
       "                        <td id=\"T_4ebb16a6_cfb2_11ea_b9e6_b808cf1506d0row5_col0\" class=\"data row5 col0\" >Light Gradient Boosting Machine</td>\n",
       "                        <td id=\"T_4ebb16a6_cfb2_11ea_b9e6_b808cf1506d0row5_col1\" class=\"data row5 col1\" >2.469100</td>\n",
       "                        <td id=\"T_4ebb16a6_cfb2_11ea_b9e6_b808cf1506d0row5_col2\" class=\"data row5 col2\" >14.239500</td>\n",
       "                        <td id=\"T_4ebb16a6_cfb2_11ea_b9e6_b808cf1506d0row5_col3\" class=\"data row5 col3\" >3.622200</td>\n",
       "                        <td id=\"T_4ebb16a6_cfb2_11ea_b9e6_b808cf1506d0row5_col4\" class=\"data row5 col4\" >0.826300</td>\n",
       "                        <td id=\"T_4ebb16a6_cfb2_11ea_b9e6_b808cf1506d0row5_col5\" class=\"data row5 col5\" >0.157600</td>\n",
       "                        <td id=\"T_4ebb16a6_cfb2_11ea_b9e6_b808cf1506d0row5_col6\" class=\"data row5 col6\" >0.122200</td>\n",
       "            </tr>\n",
       "            <tr>\n",
       "                        <th id=\"T_4ebb16a6_cfb2_11ea_b9e6_b808cf1506d0level0_row6\" class=\"row_heading level0 row6\" >6</th>\n",
       "                        <td id=\"T_4ebb16a6_cfb2_11ea_b9e6_b808cf1506d0row6_col0\" class=\"data row6 col0\" >AdaBoost Regressor</td>\n",
       "                        <td id=\"T_4ebb16a6_cfb2_11ea_b9e6_b808cf1506d0row6_col1\" class=\"data row6 col1\" >2.783600</td>\n",
       "                        <td id=\"T_4ebb16a6_cfb2_11ea_b9e6_b808cf1506d0row6_col2\" class=\"data row6 col2\" >16.641700</td>\n",
       "                        <td id=\"T_4ebb16a6_cfb2_11ea_b9e6_b808cf1506d0row6_col3\" class=\"data row6 col3\" >3.894100</td>\n",
       "                        <td id=\"T_4ebb16a6_cfb2_11ea_b9e6_b808cf1506d0row6_col4\" class=\"data row6 col4\" >0.798200</td>\n",
       "                        <td id=\"T_4ebb16a6_cfb2_11ea_b9e6_b808cf1506d0row6_col5\" class=\"data row6 col5\" >0.184500</td>\n",
       "                        <td id=\"T_4ebb16a6_cfb2_11ea_b9e6_b808cf1506d0row6_col6\" class=\"data row6 col6\" >0.149100</td>\n",
       "            </tr>\n",
       "            <tr>\n",
       "                        <th id=\"T_4ebb16a6_cfb2_11ea_b9e6_b808cf1506d0level0_row7\" class=\"row_heading level0 row7\" >7</th>\n",
       "                        <td id=\"T_4ebb16a6_cfb2_11ea_b9e6_b808cf1506d0row7_col0\" class=\"data row7 col0\" >Linear Regression</td>\n",
       "                        <td id=\"T_4ebb16a6_cfb2_11ea_b9e6_b808cf1506d0row7_col1\" class=\"data row7 col1\" >3.325000</td>\n",
       "                        <td id=\"T_4ebb16a6_cfb2_11ea_b9e6_b808cf1506d0row7_col2\" class=\"data row7 col2\" >22.790800</td>\n",
       "                        <td id=\"T_4ebb16a6_cfb2_11ea_b9e6_b808cf1506d0row7_col3\" class=\"data row7 col3\" >4.681300</td>\n",
       "                        <td id=\"T_4ebb16a6_cfb2_11ea_b9e6_b808cf1506d0row7_col4\" class=\"data row7 col4\" >0.715300</td>\n",
       "                        <td id=\"T_4ebb16a6_cfb2_11ea_b9e6_b808cf1506d0row7_col5\" class=\"data row7 col5\" >0.227000</td>\n",
       "                        <td id=\"T_4ebb16a6_cfb2_11ea_b9e6_b808cf1506d0row7_col6\" class=\"data row7 col6\" >0.171100</td>\n",
       "            </tr>\n",
       "            <tr>\n",
       "                        <th id=\"T_4ebb16a6_cfb2_11ea_b9e6_b808cf1506d0level0_row8\" class=\"row_heading level0 row8\" >8</th>\n",
       "                        <td id=\"T_4ebb16a6_cfb2_11ea_b9e6_b808cf1506d0row8_col0\" class=\"data row8 col0\" >Least Angle Regression</td>\n",
       "                        <td id=\"T_4ebb16a6_cfb2_11ea_b9e6_b808cf1506d0row8_col1\" class=\"data row8 col1\" >3.334800</td>\n",
       "                        <td id=\"T_4ebb16a6_cfb2_11ea_b9e6_b808cf1506d0row8_col2\" class=\"data row8 col2\" >22.807900</td>\n",
       "                        <td id=\"T_4ebb16a6_cfb2_11ea_b9e6_b808cf1506d0row8_col3\" class=\"data row8 col3\" >4.683100</td>\n",
       "                        <td id=\"T_4ebb16a6_cfb2_11ea_b9e6_b808cf1506d0row8_col4\" class=\"data row8 col4\" >0.715100</td>\n",
       "                        <td id=\"T_4ebb16a6_cfb2_11ea_b9e6_b808cf1506d0row8_col5\" class=\"data row8 col5\" >0.226900</td>\n",
       "                        <td id=\"T_4ebb16a6_cfb2_11ea_b9e6_b808cf1506d0row8_col6\" class=\"data row8 col6\" >0.171700</td>\n",
       "            </tr>\n",
       "            <tr>\n",
       "                        <th id=\"T_4ebb16a6_cfb2_11ea_b9e6_b808cf1506d0level0_row9\" class=\"row_heading level0 row9\" >9</th>\n",
       "                        <td id=\"T_4ebb16a6_cfb2_11ea_b9e6_b808cf1506d0row9_col0\" class=\"data row9 col0\" >Ridge Regression</td>\n",
       "                        <td id=\"T_4ebb16a6_cfb2_11ea_b9e6_b808cf1506d0row9_col1\" class=\"data row9 col1\" >3.299100</td>\n",
       "                        <td id=\"T_4ebb16a6_cfb2_11ea_b9e6_b808cf1506d0row9_col2\" class=\"data row9 col2\" >22.989500</td>\n",
       "                        <td id=\"T_4ebb16a6_cfb2_11ea_b9e6_b808cf1506d0row9_col3\" class=\"data row9 col3\" >4.702000</td>\n",
       "                        <td id=\"T_4ebb16a6_cfb2_11ea_b9e6_b808cf1506d0row9_col4\" class=\"data row9 col4\" >0.713600</td>\n",
       "                        <td id=\"T_4ebb16a6_cfb2_11ea_b9e6_b808cf1506d0row9_col5\" class=\"data row9 col5\" >0.231100</td>\n",
       "                        <td id=\"T_4ebb16a6_cfb2_11ea_b9e6_b808cf1506d0row9_col6\" class=\"data row9 col6\" >0.170600</td>\n",
       "            </tr>\n",
       "            <tr>\n",
       "                        <th id=\"T_4ebb16a6_cfb2_11ea_b9e6_b808cf1506d0level0_row10\" class=\"row_heading level0 row10\" >10</th>\n",
       "                        <td id=\"T_4ebb16a6_cfb2_11ea_b9e6_b808cf1506d0row10_col0\" class=\"data row10 col0\" >Bayesian Ridge</td>\n",
       "                        <td id=\"T_4ebb16a6_cfb2_11ea_b9e6_b808cf1506d0row10_col1\" class=\"data row10 col1\" >3.313100</td>\n",
       "                        <td id=\"T_4ebb16a6_cfb2_11ea_b9e6_b808cf1506d0row10_col2\" class=\"data row10 col2\" >23.546500</td>\n",
       "                        <td id=\"T_4ebb16a6_cfb2_11ea_b9e6_b808cf1506d0row10_col3\" class=\"data row10 col3\" >4.761600</td>\n",
       "                        <td id=\"T_4ebb16a6_cfb2_11ea_b9e6_b808cf1506d0row10_col4\" class=\"data row10 col4\" >0.707600</td>\n",
       "                        <td id=\"T_4ebb16a6_cfb2_11ea_b9e6_b808cf1506d0row10_col5\" class=\"data row10 col5\" >0.235600</td>\n",
       "                        <td id=\"T_4ebb16a6_cfb2_11ea_b9e6_b808cf1506d0row10_col6\" class=\"data row10 col6\" >0.171100</td>\n",
       "            </tr>\n",
       "            <tr>\n",
       "                        <th id=\"T_4ebb16a6_cfb2_11ea_b9e6_b808cf1506d0level0_row11\" class=\"row_heading level0 row11\" >11</th>\n",
       "                        <td id=\"T_4ebb16a6_cfb2_11ea_b9e6_b808cf1506d0row11_col0\" class=\"data row11 col0\" >Random Sample Consensus</td>\n",
       "                        <td id=\"T_4ebb16a6_cfb2_11ea_b9e6_b808cf1506d0row11_col1\" class=\"data row11 col1\" >3.151600</td>\n",
       "                        <td id=\"T_4ebb16a6_cfb2_11ea_b9e6_b808cf1506d0row11_col2\" class=\"data row11 col2\" >24.794200</td>\n",
       "                        <td id=\"T_4ebb16a6_cfb2_11ea_b9e6_b808cf1506d0row11_col3\" class=\"data row11 col3\" >4.753900</td>\n",
       "                        <td id=\"T_4ebb16a6_cfb2_11ea_b9e6_b808cf1506d0row11_col4\" class=\"data row11 col4\" >0.706600</td>\n",
       "                        <td id=\"T_4ebb16a6_cfb2_11ea_b9e6_b808cf1506d0row11_col5\" class=\"data row11 col5\" >0.247000</td>\n",
       "                        <td id=\"T_4ebb16a6_cfb2_11ea_b9e6_b808cf1506d0row11_col6\" class=\"data row11 col6\" >0.157900</td>\n",
       "            </tr>\n",
       "            <tr>\n",
       "                        <th id=\"T_4ebb16a6_cfb2_11ea_b9e6_b808cf1506d0level0_row12\" class=\"row_heading level0 row12\" >12</th>\n",
       "                        <td id=\"T_4ebb16a6_cfb2_11ea_b9e6_b808cf1506d0row12_col0\" class=\"data row12 col0\" >TheilSen Regressor</td>\n",
       "                        <td id=\"T_4ebb16a6_cfb2_11ea_b9e6_b808cf1506d0row12_col1\" class=\"data row12 col1\" >3.287000</td>\n",
       "                        <td id=\"T_4ebb16a6_cfb2_11ea_b9e6_b808cf1506d0row12_col2\" class=\"data row12 col2\" >24.836300</td>\n",
       "                        <td id=\"T_4ebb16a6_cfb2_11ea_b9e6_b808cf1506d0row12_col3\" class=\"data row12 col3\" >4.815300</td>\n",
       "                        <td id=\"T_4ebb16a6_cfb2_11ea_b9e6_b808cf1506d0row12_col4\" class=\"data row12 col4\" >0.699500</td>\n",
       "                        <td id=\"T_4ebb16a6_cfb2_11ea_b9e6_b808cf1506d0row12_col5\" class=\"data row12 col5\" >0.244900</td>\n",
       "                        <td id=\"T_4ebb16a6_cfb2_11ea_b9e6_b808cf1506d0row12_col6\" class=\"data row12 col6\" >0.164500</td>\n",
       "            </tr>\n",
       "            <tr>\n",
       "                        <th id=\"T_4ebb16a6_cfb2_11ea_b9e6_b808cf1506d0level0_row13\" class=\"row_heading level0 row13\" >13</th>\n",
       "                        <td id=\"T_4ebb16a6_cfb2_11ea_b9e6_b808cf1506d0row13_col0\" class=\"data row13 col0\" >Decision Tree</td>\n",
       "                        <td id=\"T_4ebb16a6_cfb2_11ea_b9e6_b808cf1506d0row13_col1\" class=\"data row13 col1\" >3.153400</td>\n",
       "                        <td id=\"T_4ebb16a6_cfb2_11ea_b9e6_b808cf1506d0row13_col2\" class=\"data row13 col2\" >25.835800</td>\n",
       "                        <td id=\"T_4ebb16a6_cfb2_11ea_b9e6_b808cf1506d0row13_col3\" class=\"data row13 col3\" >4.724400</td>\n",
       "                        <td id=\"T_4ebb16a6_cfb2_11ea_b9e6_b808cf1506d0row13_col4\" class=\"data row13 col4\" >0.666800</td>\n",
       "                        <td id=\"T_4ebb16a6_cfb2_11ea_b9e6_b808cf1506d0row13_col5\" class=\"data row13 col5\" >0.205600</td>\n",
       "                        <td id=\"T_4ebb16a6_cfb2_11ea_b9e6_b808cf1506d0row13_col6\" class=\"data row13 col6\" >0.155300</td>\n",
       "            </tr>\n",
       "            <tr>\n",
       "                        <th id=\"T_4ebb16a6_cfb2_11ea_b9e6_b808cf1506d0level0_row14\" class=\"row_heading level0 row14\" >14</th>\n",
       "                        <td id=\"T_4ebb16a6_cfb2_11ea_b9e6_b808cf1506d0row14_col0\" class=\"data row14 col0\" >Elastic Net</td>\n",
       "                        <td id=\"T_4ebb16a6_cfb2_11ea_b9e6_b808cf1506d0row14_col1\" class=\"data row14 col1\" >3.655500</td>\n",
       "                        <td id=\"T_4ebb16a6_cfb2_11ea_b9e6_b808cf1506d0row14_col2\" class=\"data row14 col2\" >27.642500</td>\n",
       "                        <td id=\"T_4ebb16a6_cfb2_11ea_b9e6_b808cf1506d0row14_col3\" class=\"data row14 col3\" >5.169100</td>\n",
       "                        <td id=\"T_4ebb16a6_cfb2_11ea_b9e6_b808cf1506d0row14_col4\" class=\"data row14 col4\" >0.661100</td>\n",
       "                        <td id=\"T_4ebb16a6_cfb2_11ea_b9e6_b808cf1506d0row14_col5\" class=\"data row14 col5\" >0.244800</td>\n",
       "                        <td id=\"T_4ebb16a6_cfb2_11ea_b9e6_b808cf1506d0row14_col6\" class=\"data row14 col6\" >0.179100</td>\n",
       "            </tr>\n",
       "            <tr>\n",
       "                        <th id=\"T_4ebb16a6_cfb2_11ea_b9e6_b808cf1506d0level0_row15\" class=\"row_heading level0 row15\" >15</th>\n",
       "                        <td id=\"T_4ebb16a6_cfb2_11ea_b9e6_b808cf1506d0row15_col0\" class=\"data row15 col0\" >Huber Regressor</td>\n",
       "                        <td id=\"T_4ebb16a6_cfb2_11ea_b9e6_b808cf1506d0row15_col1\" class=\"data row15 col1\" >3.549900</td>\n",
       "                        <td id=\"T_4ebb16a6_cfb2_11ea_b9e6_b808cf1506d0row15_col2\" class=\"data row15 col2\" >29.037800</td>\n",
       "                        <td id=\"T_4ebb16a6_cfb2_11ea_b9e6_b808cf1506d0row15_col3\" class=\"data row15 col3\" >5.198400</td>\n",
       "                        <td id=\"T_4ebb16a6_cfb2_11ea_b9e6_b808cf1506d0row15_col4\" class=\"data row15 col4\" >0.651600</td>\n",
       "                        <td id=\"T_4ebb16a6_cfb2_11ea_b9e6_b808cf1506d0row15_col5\" class=\"data row15 col5\" >0.251600</td>\n",
       "                        <td id=\"T_4ebb16a6_cfb2_11ea_b9e6_b808cf1506d0row15_col6\" class=\"data row15 col6\" >0.176500</td>\n",
       "            </tr>\n",
       "            <tr>\n",
       "                        <th id=\"T_4ebb16a6_cfb2_11ea_b9e6_b808cf1506d0level0_row16\" class=\"row_heading level0 row16\" >16</th>\n",
       "                        <td id=\"T_4ebb16a6_cfb2_11ea_b9e6_b808cf1506d0row16_col0\" class=\"data row16 col0\" >Lasso Regression</td>\n",
       "                        <td id=\"T_4ebb16a6_cfb2_11ea_b9e6_b808cf1506d0row16_col1\" class=\"data row16 col1\" >3.707600</td>\n",
       "                        <td id=\"T_4ebb16a6_cfb2_11ea_b9e6_b808cf1506d0row16_col2\" class=\"data row16 col2\" >28.496200</td>\n",
       "                        <td id=\"T_4ebb16a6_cfb2_11ea_b9e6_b808cf1506d0row16_col3\" class=\"data row16 col3\" >5.247800</td>\n",
       "                        <td id=\"T_4ebb16a6_cfb2_11ea_b9e6_b808cf1506d0row16_col4\" class=\"data row16 col4\" >0.651200</td>\n",
       "                        <td id=\"T_4ebb16a6_cfb2_11ea_b9e6_b808cf1506d0row16_col5\" class=\"data row16 col5\" >0.243200</td>\n",
       "                        <td id=\"T_4ebb16a6_cfb2_11ea_b9e6_b808cf1506d0row16_col6\" class=\"data row16 col6\" >0.180800</td>\n",
       "            </tr>\n",
       "            <tr>\n",
       "                        <th id=\"T_4ebb16a6_cfb2_11ea_b9e6_b808cf1506d0level0_row17\" class=\"row_heading level0 row17\" >17</th>\n",
       "                        <td id=\"T_4ebb16a6_cfb2_11ea_b9e6_b808cf1506d0row17_col0\" class=\"data row17 col0\" >Orthogonal Matching Pursuit</td>\n",
       "                        <td id=\"T_4ebb16a6_cfb2_11ea_b9e6_b808cf1506d0row17_col1\" class=\"data row17 col1\" >4.015900</td>\n",
       "                        <td id=\"T_4ebb16a6_cfb2_11ea_b9e6_b808cf1506d0row17_col2\" class=\"data row17 col2\" >32.441900</td>\n",
       "                        <td id=\"T_4ebb16a6_cfb2_11ea_b9e6_b808cf1506d0row17_col3\" class=\"data row17 col3\" >5.571600</td>\n",
       "                        <td id=\"T_4ebb16a6_cfb2_11ea_b9e6_b808cf1506d0row17_col4\" class=\"data row17 col4\" >0.602800</td>\n",
       "                        <td id=\"T_4ebb16a6_cfb2_11ea_b9e6_b808cf1506d0row17_col5\" class=\"data row17 col5\" >0.308900</td>\n",
       "                        <td id=\"T_4ebb16a6_cfb2_11ea_b9e6_b808cf1506d0row17_col6\" class=\"data row17 col6\" >0.204500</td>\n",
       "            </tr>\n",
       "            <tr>\n",
       "                        <th id=\"T_4ebb16a6_cfb2_11ea_b9e6_b808cf1506d0level0_row18\" class=\"row_heading level0 row18\" >18</th>\n",
       "                        <td id=\"T_4ebb16a6_cfb2_11ea_b9e6_b808cf1506d0row18_col0\" class=\"data row18 col0\" >K Neighbors Regressor</td>\n",
       "                        <td id=\"T_4ebb16a6_cfb2_11ea_b9e6_b808cf1506d0row18_col1\" class=\"data row18 col1\" >4.338700</td>\n",
       "                        <td id=\"T_4ebb16a6_cfb2_11ea_b9e6_b808cf1506d0row18_col2\" class=\"data row18 col2\" >43.664700</td>\n",
       "                        <td id=\"T_4ebb16a6_cfb2_11ea_b9e6_b808cf1506d0row18_col3\" class=\"data row18 col3\" >6.447800</td>\n",
       "                        <td id=\"T_4ebb16a6_cfb2_11ea_b9e6_b808cf1506d0row18_col4\" class=\"data row18 col4\" >0.468400</td>\n",
       "                        <td id=\"T_4ebb16a6_cfb2_11ea_b9e6_b808cf1506d0row18_col5\" class=\"data row18 col5\" >0.251900</td>\n",
       "                        <td id=\"T_4ebb16a6_cfb2_11ea_b9e6_b808cf1506d0row18_col6\" class=\"data row18 col6\" >0.205600</td>\n",
       "            </tr>\n",
       "            <tr>\n",
       "                        <th id=\"T_4ebb16a6_cfb2_11ea_b9e6_b808cf1506d0level0_row19\" class=\"row_heading level0 row19\" >19</th>\n",
       "                        <td id=\"T_4ebb16a6_cfb2_11ea_b9e6_b808cf1506d0row19_col0\" class=\"data row19 col0\" >Support Vector Machine</td>\n",
       "                        <td id=\"T_4ebb16a6_cfb2_11ea_b9e6_b808cf1506d0row19_col1\" class=\"data row19 col1\" >5.246900</td>\n",
       "                        <td id=\"T_4ebb16a6_cfb2_11ea_b9e6_b808cf1506d0row19_col2\" class=\"data row19 col2\" >67.586400</td>\n",
       "                        <td id=\"T_4ebb16a6_cfb2_11ea_b9e6_b808cf1506d0row19_col3\" class=\"data row19 col3\" >7.981200</td>\n",
       "                        <td id=\"T_4ebb16a6_cfb2_11ea_b9e6_b808cf1506d0row19_col4\" class=\"data row19 col4\" >0.202600</td>\n",
       "                        <td id=\"T_4ebb16a6_cfb2_11ea_b9e6_b808cf1506d0row19_col5\" class=\"data row19 col5\" >0.310200</td>\n",
       "                        <td id=\"T_4ebb16a6_cfb2_11ea_b9e6_b808cf1506d0row19_col6\" class=\"data row19 col6\" >0.236400</td>\n",
       "            </tr>\n",
       "            <tr>\n",
       "                        <th id=\"T_4ebb16a6_cfb2_11ea_b9e6_b808cf1506d0level0_row20\" class=\"row_heading level0 row20\" >20</th>\n",
       "                        <td id=\"T_4ebb16a6_cfb2_11ea_b9e6_b808cf1506d0row20_col0\" class=\"data row20 col0\" >Lasso Least Angle Regression</td>\n",
       "                        <td id=\"T_4ebb16a6_cfb2_11ea_b9e6_b808cf1506d0row20_col1\" class=\"data row20 col1\" >6.551100</td>\n",
       "                        <td id=\"T_4ebb16a6_cfb2_11ea_b9e6_b808cf1506d0row20_col2\" class=\"data row20 col2\" >84.259500</td>\n",
       "                        <td id=\"T_4ebb16a6_cfb2_11ea_b9e6_b808cf1506d0row20_col3\" class=\"data row20 col3\" >9.110300</td>\n",
       "                        <td id=\"T_4ebb16a6_cfb2_11ea_b9e6_b808cf1506d0row20_col4\" class=\"data row20 col4\" >-0.046100</td>\n",
       "                        <td id=\"T_4ebb16a6_cfb2_11ea_b9e6_b808cf1506d0row20_col5\" class=\"data row20 col5\" >0.395700</td>\n",
       "                        <td id=\"T_4ebb16a6_cfb2_11ea_b9e6_b808cf1506d0row20_col6\" class=\"data row20 col6\" >0.365200</td>\n",
       "            </tr>\n",
       "            <tr>\n",
       "                        <th id=\"T_4ebb16a6_cfb2_11ea_b9e6_b808cf1506d0level0_row21\" class=\"row_heading level0 row21\" >21</th>\n",
       "                        <td id=\"T_4ebb16a6_cfb2_11ea_b9e6_b808cf1506d0row21_col0\" class=\"data row21 col0\" >Passive Aggressive Regressor</td>\n",
       "                        <td id=\"T_4ebb16a6_cfb2_11ea_b9e6_b808cf1506d0row21_col1\" class=\"data row21 col1\" >7.170800</td>\n",
       "                        <td id=\"T_4ebb16a6_cfb2_11ea_b9e6_b808cf1506d0row21_col2\" class=\"data row21 col2\" >100.302100</td>\n",
       "                        <td id=\"T_4ebb16a6_cfb2_11ea_b9e6_b808cf1506d0row21_col3\" class=\"data row21 col3\" >9.426500</td>\n",
       "                        <td id=\"T_4ebb16a6_cfb2_11ea_b9e6_b808cf1506d0row21_col4\" class=\"data row21 col4\" >-0.154500</td>\n",
       "                        <td id=\"T_4ebb16a6_cfb2_11ea_b9e6_b808cf1506d0row21_col5\" class=\"data row21 col5\" >0.513600</td>\n",
       "                        <td id=\"T_4ebb16a6_cfb2_11ea_b9e6_b808cf1506d0row21_col6\" class=\"data row21 col6\" >0.370800</td>\n",
       "            </tr>\n",
       "    </tbody></table>"
      ],
      "text/plain": [
       "<pandas.io.formats.style.Styler at 0x1d5b800e908>"
      ]
     },
     "execution_count": 13,
     "metadata": {},
     "output_type": "execute_result"
    }
   ],
   "source": [
    "compare_models()"
   ]
  },
  {
   "cell_type": "code",
   "execution_count": 14,
   "metadata": {},
   "outputs": [
    {
     "data": {
      "text/html": [
       "<div>\n",
       "<style scoped>\n",
       "    .dataframe tbody tr th:only-of-type {\n",
       "        vertical-align: middle;\n",
       "    }\n",
       "\n",
       "    .dataframe tbody tr th {\n",
       "        vertical-align: top;\n",
       "    }\n",
       "\n",
       "    .dataframe thead th {\n",
       "        text-align: right;\n",
       "    }\n",
       "</style>\n",
       "<table border=\"1\" class=\"dataframe\">\n",
       "  <thead>\n",
       "    <tr style=\"text-align: right;\">\n",
       "      <th></th>\n",
       "      <th>MAE</th>\n",
       "      <th>MSE</th>\n",
       "      <th>RMSE</th>\n",
       "      <th>R2</th>\n",
       "      <th>RMSLE</th>\n",
       "      <th>MAPE</th>\n",
       "    </tr>\n",
       "  </thead>\n",
       "  <tbody>\n",
       "    <tr>\n",
       "      <th>0</th>\n",
       "      <td>1.8549</td>\n",
       "      <td>5.6926</td>\n",
       "      <td>2.3859</td>\n",
       "      <td>0.9250</td>\n",
       "      <td>0.1338</td>\n",
       "      <td>0.1093</td>\n",
       "    </tr>\n",
       "    <tr>\n",
       "      <th>1</th>\n",
       "      <td>2.4566</td>\n",
       "      <td>12.4685</td>\n",
       "      <td>3.5311</td>\n",
       "      <td>0.8880</td>\n",
       "      <td>0.1426</td>\n",
       "      <td>0.1111</td>\n",
       "    </tr>\n",
       "    <tr>\n",
       "      <th>2</th>\n",
       "      <td>2.3051</td>\n",
       "      <td>11.1593</td>\n",
       "      <td>3.3406</td>\n",
       "      <td>0.8357</td>\n",
       "      <td>0.1518</td>\n",
       "      <td>0.1177</td>\n",
       "    </tr>\n",
       "    <tr>\n",
       "      <th>3</th>\n",
       "      <td>2.0254</td>\n",
       "      <td>8.2730</td>\n",
       "      <td>2.8763</td>\n",
       "      <td>0.9100</td>\n",
       "      <td>0.1125</td>\n",
       "      <td>0.0924</td>\n",
       "    </tr>\n",
       "    <tr>\n",
       "      <th>4</th>\n",
       "      <td>1.5274</td>\n",
       "      <td>4.9652</td>\n",
       "      <td>2.2283</td>\n",
       "      <td>0.9492</td>\n",
       "      <td>0.1035</td>\n",
       "      <td>0.0745</td>\n",
       "    </tr>\n",
       "    <tr>\n",
       "      <th>5</th>\n",
       "      <td>2.9911</td>\n",
       "      <td>34.1211</td>\n",
       "      <td>5.8413</td>\n",
       "      <td>0.6818</td>\n",
       "      <td>0.2174</td>\n",
       "      <td>0.1278</td>\n",
       "    </tr>\n",
       "    <tr>\n",
       "      <th>6</th>\n",
       "      <td>1.6862</td>\n",
       "      <td>5.1360</td>\n",
       "      <td>2.2663</td>\n",
       "      <td>0.9268</td>\n",
       "      <td>0.1127</td>\n",
       "      <td>0.0884</td>\n",
       "    </tr>\n",
       "    <tr>\n",
       "      <th>7</th>\n",
       "      <td>2.0849</td>\n",
       "      <td>12.4616</td>\n",
       "      <td>3.5301</td>\n",
       "      <td>0.8244</td>\n",
       "      <td>0.1296</td>\n",
       "      <td>0.0925</td>\n",
       "    </tr>\n",
       "    <tr>\n",
       "      <th>8</th>\n",
       "      <td>2.3127</td>\n",
       "      <td>10.2140</td>\n",
       "      <td>3.1959</td>\n",
       "      <td>0.8335</td>\n",
       "      <td>0.1759</td>\n",
       "      <td>0.1356</td>\n",
       "    </tr>\n",
       "    <tr>\n",
       "      <th>9</th>\n",
       "      <td>1.5278</td>\n",
       "      <td>4.7141</td>\n",
       "      <td>2.1712</td>\n",
       "      <td>0.9084</td>\n",
       "      <td>0.1105</td>\n",
       "      <td>0.0858</td>\n",
       "    </tr>\n",
       "    <tr>\n",
       "      <th>Mean</th>\n",
       "      <td>2.0772</td>\n",
       "      <td>10.9205</td>\n",
       "      <td>3.1367</td>\n",
       "      <td>0.8683</td>\n",
       "      <td>0.1390</td>\n",
       "      <td>0.1035</td>\n",
       "    </tr>\n",
       "    <tr>\n",
       "      <th>SD</th>\n",
       "      <td>0.4354</td>\n",
       "      <td>8.2788</td>\n",
       "      <td>1.0400</td>\n",
       "      <td>0.0748</td>\n",
       "      <td>0.0336</td>\n",
       "      <td>0.0188</td>\n",
       "    </tr>\n",
       "  </tbody>\n",
       "</table>\n",
       "</div>"
      ],
      "text/plain": [
       "         MAE      MSE    RMSE      R2   RMSLE    MAPE\n",
       "0     1.8549   5.6926  2.3859  0.9250  0.1338  0.1093\n",
       "1     2.4566  12.4685  3.5311  0.8880  0.1426  0.1111\n",
       "2     2.3051  11.1593  3.3406  0.8357  0.1518  0.1177\n",
       "3     2.0254   8.2730  2.8763  0.9100  0.1125  0.0924\n",
       "4     1.5274   4.9652  2.2283  0.9492  0.1035  0.0745\n",
       "5     2.9911  34.1211  5.8413  0.6818  0.2174  0.1278\n",
       "6     1.6862   5.1360  2.2663  0.9268  0.1127  0.0884\n",
       "7     2.0849  12.4616  3.5301  0.8244  0.1296  0.0925\n",
       "8     2.3127  10.2140  3.1959  0.8335  0.1759  0.1356\n",
       "9     1.5278   4.7141  2.1712  0.9084  0.1105  0.0858\n",
       "Mean  2.0772  10.9205  3.1367  0.8683  0.1390  0.1035\n",
       "SD    0.4354   8.2788  1.0400  0.0748  0.0336  0.0188"
      ]
     },
     "metadata": {},
     "output_type": "display_data"
    }
   ],
   "source": [
    "reg_model=create_model('catboost')"
   ]
  },
  {
   "cell_type": "code",
   "execution_count": 17,
   "metadata": {},
   "outputs": [
    {
     "data": {
      "text/plain": [
       "<bound method CatBoostRegressor.predict of <catboost.core.CatBoostRegressor object at 0x000001D5B9428B88>>"
      ]
     },
     "execution_count": 17,
     "metadata": {},
     "output_type": "execute_result"
    }
   ],
   "source": [
    "reg_model.predict"
   ]
  },
  {
   "cell_type": "code",
   "execution_count": 20,
   "metadata": {},
   "outputs": [
    {
     "data": {
      "text/html": [
       "<div>\n",
       "<style scoped>\n",
       "    .dataframe tbody tr th:only-of-type {\n",
       "        vertical-align: middle;\n",
       "    }\n",
       "\n",
       "    .dataframe tbody tr th {\n",
       "        vertical-align: top;\n",
       "    }\n",
       "\n",
       "    .dataframe thead th {\n",
       "        text-align: right;\n",
       "    }\n",
       "</style>\n",
       "<table border=\"1\" class=\"dataframe\">\n",
       "  <thead>\n",
       "    <tr style=\"text-align: right;\">\n",
       "      <th></th>\n",
       "      <th>MAE</th>\n",
       "      <th>MSE</th>\n",
       "      <th>RMSE</th>\n",
       "      <th>R2</th>\n",
       "      <th>RMSLE</th>\n",
       "      <th>MAPE</th>\n",
       "    </tr>\n",
       "  </thead>\n",
       "  <tbody>\n",
       "    <tr>\n",
       "      <th>0</th>\n",
       "      <td>1.7105</td>\n",
       "      <td>5.7416</td>\n",
       "      <td>2.3962</td>\n",
       "      <td>0.9244</td>\n",
       "      <td>0.1367</td>\n",
       "      <td>0.1033</td>\n",
       "    </tr>\n",
       "    <tr>\n",
       "      <th>1</th>\n",
       "      <td>2.5932</td>\n",
       "      <td>14.4604</td>\n",
       "      <td>3.8027</td>\n",
       "      <td>0.8701</td>\n",
       "      <td>0.1550</td>\n",
       "      <td>0.1177</td>\n",
       "    </tr>\n",
       "    <tr>\n",
       "      <th>2</th>\n",
       "      <td>2.1132</td>\n",
       "      <td>9.8976</td>\n",
       "      <td>3.1460</td>\n",
       "      <td>0.8543</td>\n",
       "      <td>0.1455</td>\n",
       "      <td>0.1094</td>\n",
       "    </tr>\n",
       "    <tr>\n",
       "      <th>3</th>\n",
       "      <td>2.1548</td>\n",
       "      <td>9.3199</td>\n",
       "      <td>3.0529</td>\n",
       "      <td>0.8986</td>\n",
       "      <td>0.1156</td>\n",
       "      <td>0.0958</td>\n",
       "    </tr>\n",
       "    <tr>\n",
       "      <th>4</th>\n",
       "      <td>1.4598</td>\n",
       "      <td>4.3387</td>\n",
       "      <td>2.0830</td>\n",
       "      <td>0.9556</td>\n",
       "      <td>0.0981</td>\n",
       "      <td>0.0710</td>\n",
       "    </tr>\n",
       "    <tr>\n",
       "      <th>5</th>\n",
       "      <td>2.9133</td>\n",
       "      <td>30.0418</td>\n",
       "      <td>5.4810</td>\n",
       "      <td>0.7198</td>\n",
       "      <td>0.2036</td>\n",
       "      <td>0.1261</td>\n",
       "    </tr>\n",
       "    <tr>\n",
       "      <th>6</th>\n",
       "      <td>1.6256</td>\n",
       "      <td>5.1126</td>\n",
       "      <td>2.2611</td>\n",
       "      <td>0.9271</td>\n",
       "      <td>0.1039</td>\n",
       "      <td>0.0817</td>\n",
       "    </tr>\n",
       "    <tr>\n",
       "      <th>7</th>\n",
       "      <td>2.0549</td>\n",
       "      <td>11.1432</td>\n",
       "      <td>3.3381</td>\n",
       "      <td>0.8430</td>\n",
       "      <td>0.1203</td>\n",
       "      <td>0.0917</td>\n",
       "    </tr>\n",
       "    <tr>\n",
       "      <th>8</th>\n",
       "      <td>1.8260</td>\n",
       "      <td>5.3451</td>\n",
       "      <td>2.3119</td>\n",
       "      <td>0.9129</td>\n",
       "      <td>0.1283</td>\n",
       "      <td>0.0981</td>\n",
       "    </tr>\n",
       "    <tr>\n",
       "      <th>9</th>\n",
       "      <td>1.4484</td>\n",
       "      <td>4.0102</td>\n",
       "      <td>2.0025</td>\n",
       "      <td>0.9220</td>\n",
       "      <td>0.1011</td>\n",
       "      <td>0.0818</td>\n",
       "    </tr>\n",
       "    <tr>\n",
       "      <th>Mean</th>\n",
       "      <td>1.9900</td>\n",
       "      <td>9.9411</td>\n",
       "      <td>2.9875</td>\n",
       "      <td>0.8828</td>\n",
       "      <td>0.1308</td>\n",
       "      <td>0.0977</td>\n",
       "    </tr>\n",
       "    <tr>\n",
       "      <th>SD</th>\n",
       "      <td>0.4555</td>\n",
       "      <td>7.4494</td>\n",
       "      <td>1.0078</td>\n",
       "      <td>0.0639</td>\n",
       "      <td>0.0303</td>\n",
       "      <td>0.0163</td>\n",
       "    </tr>\n",
       "  </tbody>\n",
       "</table>\n",
       "</div>"
      ],
      "text/plain": [
       "         MAE      MSE    RMSE      R2   RMSLE    MAPE\n",
       "0     1.7105   5.7416  2.3962  0.9244  0.1367  0.1033\n",
       "1     2.5932  14.4604  3.8027  0.8701  0.1550  0.1177\n",
       "2     2.1132   9.8976  3.1460  0.8543  0.1455  0.1094\n",
       "3     2.1548   9.3199  3.0529  0.8986  0.1156  0.0958\n",
       "4     1.4598   4.3387  2.0830  0.9556  0.0981  0.0710\n",
       "5     2.9133  30.0418  5.4810  0.7198  0.2036  0.1261\n",
       "6     1.6256   5.1126  2.2611  0.9271  0.1039  0.0817\n",
       "7     2.0549  11.1432  3.3381  0.8430  0.1203  0.0917\n",
       "8     1.8260   5.3451  2.3119  0.9129  0.1283  0.0981\n",
       "9     1.4484   4.0102  2.0025  0.9220  0.1011  0.0818\n",
       "Mean  1.9900   9.9411  2.9875  0.8828  0.1308  0.0977\n",
       "SD    0.4555   7.4494  1.0078  0.0639  0.0303  0.0163"
      ]
     },
     "metadata": {},
     "output_type": "display_data"
    }
   ],
   "source": [
    "#reg_model_hypertune=tune_model('catboost',n_iter=50, optimize='mae')"
   ]
  },
  {
   "cell_type": "code",
   "execution_count": 24,
   "metadata": {},
   "outputs": [
    {
     "ename": "TypeError",
     "evalue": "'str' object is not callable",
     "output_type": "error",
     "traceback": [
      "\u001b[1;31m---------------------------------------------------------------------------\u001b[0m",
      "\u001b[1;31mTypeError\u001b[0m                                 Traceback (most recent call last)",
      "\u001b[1;32m<ipython-input-24-31ecda685ad8>\u001b[0m in \u001b[0;36m<module>\u001b[1;34m\u001b[0m\n\u001b[1;32m----> 1\u001b[1;33m \u001b[0mjewellery\u001b[0m\u001b[1;33m=\u001b[0m\u001b[0mget_data\u001b[0m\u001b[1;33m(\u001b[0m\u001b[1;34m'jewellery'\u001b[0m\u001b[1;33m)\u001b[0m\u001b[1;33m\u001b[0m\u001b[1;33m\u001b[0m\u001b[0m\n\u001b[0m\u001b[0;32m      2\u001b[0m \u001b[1;33m\u001b[0m\u001b[0m\n\u001b[0;32m      3\u001b[0m \u001b[1;31m#from pycaret_clustering import *\u001b[0m\u001b[1;33m\u001b[0m\u001b[1;33m\u001b[0m\u001b[1;33m\u001b[0m\u001b[0m\n",
      "\u001b[1;31mTypeError\u001b[0m: 'str' object is not callable"
     ]
    }
   ],
   "source": [
    "#jewellery=get_data('jewellery')\n",
    "\n",
    "#from pycaret_clustering import *"
   ]
  },
  {
   "cell_type": "code",
   "execution_count": 30,
   "metadata": {},
   "outputs": [],
   "source": [
    "#jewelley_df=get_data('jewellery')"
   ]
  },
  {
   "cell_type": "code",
   "execution_count": 31,
   "metadata": {},
   "outputs": [],
   "source": [
    "from pycaret.datasets import get_data"
   ]
  },
  {
   "cell_type": "code",
   "execution_count": 33,
   "metadata": {},
   "outputs": [
    {
     "data": {
      "text/html": [
       "<div>\n",
       "<style scoped>\n",
       "    .dataframe tbody tr th:only-of-type {\n",
       "        vertical-align: middle;\n",
       "    }\n",
       "\n",
       "    .dataframe tbody tr th {\n",
       "        vertical-align: top;\n",
       "    }\n",
       "\n",
       "    .dataframe thead th {\n",
       "        text-align: right;\n",
       "    }\n",
       "</style>\n",
       "<table border=\"1\" class=\"dataframe\">\n",
       "  <thead>\n",
       "    <tr style=\"text-align: right;\">\n",
       "      <th></th>\n",
       "      <th>Age</th>\n",
       "      <th>Income</th>\n",
       "      <th>SpendingScore</th>\n",
       "      <th>Savings</th>\n",
       "    </tr>\n",
       "  </thead>\n",
       "  <tbody>\n",
       "    <tr>\n",
       "      <th>0</th>\n",
       "      <td>58</td>\n",
       "      <td>77769</td>\n",
       "      <td>0.791329</td>\n",
       "      <td>6559.829923</td>\n",
       "    </tr>\n",
       "    <tr>\n",
       "      <th>1</th>\n",
       "      <td>59</td>\n",
       "      <td>81799</td>\n",
       "      <td>0.791082</td>\n",
       "      <td>5417.661426</td>\n",
       "    </tr>\n",
       "    <tr>\n",
       "      <th>2</th>\n",
       "      <td>62</td>\n",
       "      <td>74751</td>\n",
       "      <td>0.702657</td>\n",
       "      <td>9258.992965</td>\n",
       "    </tr>\n",
       "    <tr>\n",
       "      <th>3</th>\n",
       "      <td>59</td>\n",
       "      <td>74373</td>\n",
       "      <td>0.765680</td>\n",
       "      <td>7346.334504</td>\n",
       "    </tr>\n",
       "    <tr>\n",
       "      <th>4</th>\n",
       "      <td>87</td>\n",
       "      <td>17760</td>\n",
       "      <td>0.348778</td>\n",
       "      <td>16869.507130</td>\n",
       "    </tr>\n",
       "  </tbody>\n",
       "</table>\n",
       "</div>"
      ],
      "text/plain": [
       "   Age  Income  SpendingScore       Savings\n",
       "0   58   77769       0.791329   6559.829923\n",
       "1   59   81799       0.791082   5417.661426\n",
       "2   62   74751       0.702657   9258.992965\n",
       "3   59   74373       0.765680   7346.334504\n",
       "4   87   17760       0.348778  16869.507130"
      ]
     },
     "metadata": {},
     "output_type": "display_data"
    }
   ],
   "source": [
    "jewellery=get_data('jewellery')"
   ]
  },
  {
   "cell_type": "code",
   "execution_count": 35,
   "metadata": {},
   "outputs": [
    {
     "name": "stdout",
     "output_type": "stream",
     "text": [
      "\n",
      "Setup Succesfully Completed!\n"
     ]
    },
    {
     "data": {
      "text/html": [
       "<style  type=\"text/css\" >\n",
       "</style><table id=\"T_e25cd870_cfb6_11ea_a343_b808cf1506d0\" ><thead>    <tr>        <th class=\"blank level0\" ></th>        <th class=\"col_heading level0 col0\" >Description</th>        <th class=\"col_heading level0 col1\" >Value</th>    </tr></thead><tbody>\n",
       "                <tr>\n",
       "                        <th id=\"T_e25cd870_cfb6_11ea_a343_b808cf1506d0level0_row0\" class=\"row_heading level0 row0\" >0</th>\n",
       "                        <td id=\"T_e25cd870_cfb6_11ea_a343_b808cf1506d0row0_col0\" class=\"data row0 col0\" >session_id </td>\n",
       "                        <td id=\"T_e25cd870_cfb6_11ea_a343_b808cf1506d0row0_col1\" class=\"data row0 col1\" >1212</td>\n",
       "            </tr>\n",
       "            <tr>\n",
       "                        <th id=\"T_e25cd870_cfb6_11ea_a343_b808cf1506d0level0_row1\" class=\"row_heading level0 row1\" >1</th>\n",
       "                        <td id=\"T_e25cd870_cfb6_11ea_a343_b808cf1506d0row1_col0\" class=\"data row1 col0\" >Original Data </td>\n",
       "                        <td id=\"T_e25cd870_cfb6_11ea_a343_b808cf1506d0row1_col1\" class=\"data row1 col1\" >(505, 4)</td>\n",
       "            </tr>\n",
       "            <tr>\n",
       "                        <th id=\"T_e25cd870_cfb6_11ea_a343_b808cf1506d0level0_row2\" class=\"row_heading level0 row2\" >2</th>\n",
       "                        <td id=\"T_e25cd870_cfb6_11ea_a343_b808cf1506d0row2_col0\" class=\"data row2 col0\" >Missing Values </td>\n",
       "                        <td id=\"T_e25cd870_cfb6_11ea_a343_b808cf1506d0row2_col1\" class=\"data row2 col1\" >False</td>\n",
       "            </tr>\n",
       "            <tr>\n",
       "                        <th id=\"T_e25cd870_cfb6_11ea_a343_b808cf1506d0level0_row3\" class=\"row_heading level0 row3\" >3</th>\n",
       "                        <td id=\"T_e25cd870_cfb6_11ea_a343_b808cf1506d0row3_col0\" class=\"data row3 col0\" >Numeric Features </td>\n",
       "                        <td id=\"T_e25cd870_cfb6_11ea_a343_b808cf1506d0row3_col1\" class=\"data row3 col1\" >4</td>\n",
       "            </tr>\n",
       "            <tr>\n",
       "                        <th id=\"T_e25cd870_cfb6_11ea_a343_b808cf1506d0level0_row4\" class=\"row_heading level0 row4\" >4</th>\n",
       "                        <td id=\"T_e25cd870_cfb6_11ea_a343_b808cf1506d0row4_col0\" class=\"data row4 col0\" >Categorical Features </td>\n",
       "                        <td id=\"T_e25cd870_cfb6_11ea_a343_b808cf1506d0row4_col1\" class=\"data row4 col1\" >0</td>\n",
       "            </tr>\n",
       "            <tr>\n",
       "                        <th id=\"T_e25cd870_cfb6_11ea_a343_b808cf1506d0level0_row5\" class=\"row_heading level0 row5\" >5</th>\n",
       "                        <td id=\"T_e25cd870_cfb6_11ea_a343_b808cf1506d0row5_col0\" class=\"data row5 col0\" >Ordinal Features </td>\n",
       "                        <td id=\"T_e25cd870_cfb6_11ea_a343_b808cf1506d0row5_col1\" class=\"data row5 col1\" >False</td>\n",
       "            </tr>\n",
       "            <tr>\n",
       "                        <th id=\"T_e25cd870_cfb6_11ea_a343_b808cf1506d0level0_row6\" class=\"row_heading level0 row6\" >6</th>\n",
       "                        <td id=\"T_e25cd870_cfb6_11ea_a343_b808cf1506d0row6_col0\" class=\"data row6 col0\" >High Cardinality Features </td>\n",
       "                        <td id=\"T_e25cd870_cfb6_11ea_a343_b808cf1506d0row6_col1\" class=\"data row6 col1\" >False</td>\n",
       "            </tr>\n",
       "            <tr>\n",
       "                        <th id=\"T_e25cd870_cfb6_11ea_a343_b808cf1506d0level0_row7\" class=\"row_heading level0 row7\" >7</th>\n",
       "                        <td id=\"T_e25cd870_cfb6_11ea_a343_b808cf1506d0row7_col0\" class=\"data row7 col0\" >Transformed Data </td>\n",
       "                        <td id=\"T_e25cd870_cfb6_11ea_a343_b808cf1506d0row7_col1\" class=\"data row7 col1\" >(505, 4)</td>\n",
       "            </tr>\n",
       "            <tr>\n",
       "                        <th id=\"T_e25cd870_cfb6_11ea_a343_b808cf1506d0level0_row8\" class=\"row_heading level0 row8\" >8</th>\n",
       "                        <td id=\"T_e25cd870_cfb6_11ea_a343_b808cf1506d0row8_col0\" class=\"data row8 col0\" >Numeric Imputer </td>\n",
       "                        <td id=\"T_e25cd870_cfb6_11ea_a343_b808cf1506d0row8_col1\" class=\"data row8 col1\" >mean</td>\n",
       "            </tr>\n",
       "            <tr>\n",
       "                        <th id=\"T_e25cd870_cfb6_11ea_a343_b808cf1506d0level0_row9\" class=\"row_heading level0 row9\" >9</th>\n",
       "                        <td id=\"T_e25cd870_cfb6_11ea_a343_b808cf1506d0row9_col0\" class=\"data row9 col0\" >Categorical Imputer </td>\n",
       "                        <td id=\"T_e25cd870_cfb6_11ea_a343_b808cf1506d0row9_col1\" class=\"data row9 col1\" >constant</td>\n",
       "            </tr>\n",
       "            <tr>\n",
       "                        <th id=\"T_e25cd870_cfb6_11ea_a343_b808cf1506d0level0_row10\" class=\"row_heading level0 row10\" >10</th>\n",
       "                        <td id=\"T_e25cd870_cfb6_11ea_a343_b808cf1506d0row10_col0\" class=\"data row10 col0\" >Normalize </td>\n",
       "                        <td id=\"T_e25cd870_cfb6_11ea_a343_b808cf1506d0row10_col1\" class=\"data row10 col1\" >False</td>\n",
       "            </tr>\n",
       "            <tr>\n",
       "                        <th id=\"T_e25cd870_cfb6_11ea_a343_b808cf1506d0level0_row11\" class=\"row_heading level0 row11\" >11</th>\n",
       "                        <td id=\"T_e25cd870_cfb6_11ea_a343_b808cf1506d0row11_col0\" class=\"data row11 col0\" >Normalize Method </td>\n",
       "                        <td id=\"T_e25cd870_cfb6_11ea_a343_b808cf1506d0row11_col1\" class=\"data row11 col1\" >None</td>\n",
       "            </tr>\n",
       "            <tr>\n",
       "                        <th id=\"T_e25cd870_cfb6_11ea_a343_b808cf1506d0level0_row12\" class=\"row_heading level0 row12\" >12</th>\n",
       "                        <td id=\"T_e25cd870_cfb6_11ea_a343_b808cf1506d0row12_col0\" class=\"data row12 col0\" >Transformation </td>\n",
       "                        <td id=\"T_e25cd870_cfb6_11ea_a343_b808cf1506d0row12_col1\" class=\"data row12 col1\" >False</td>\n",
       "            </tr>\n",
       "            <tr>\n",
       "                        <th id=\"T_e25cd870_cfb6_11ea_a343_b808cf1506d0level0_row13\" class=\"row_heading level0 row13\" >13</th>\n",
       "                        <td id=\"T_e25cd870_cfb6_11ea_a343_b808cf1506d0row13_col0\" class=\"data row13 col0\" >Transformation Method </td>\n",
       "                        <td id=\"T_e25cd870_cfb6_11ea_a343_b808cf1506d0row13_col1\" class=\"data row13 col1\" >None</td>\n",
       "            </tr>\n",
       "            <tr>\n",
       "                        <th id=\"T_e25cd870_cfb6_11ea_a343_b808cf1506d0level0_row14\" class=\"row_heading level0 row14\" >14</th>\n",
       "                        <td id=\"T_e25cd870_cfb6_11ea_a343_b808cf1506d0row14_col0\" class=\"data row14 col0\" >PCA </td>\n",
       "                        <td id=\"T_e25cd870_cfb6_11ea_a343_b808cf1506d0row14_col1\" class=\"data row14 col1\" >False</td>\n",
       "            </tr>\n",
       "            <tr>\n",
       "                        <th id=\"T_e25cd870_cfb6_11ea_a343_b808cf1506d0level0_row15\" class=\"row_heading level0 row15\" >15</th>\n",
       "                        <td id=\"T_e25cd870_cfb6_11ea_a343_b808cf1506d0row15_col0\" class=\"data row15 col0\" >PCA Method </td>\n",
       "                        <td id=\"T_e25cd870_cfb6_11ea_a343_b808cf1506d0row15_col1\" class=\"data row15 col1\" >None</td>\n",
       "            </tr>\n",
       "            <tr>\n",
       "                        <th id=\"T_e25cd870_cfb6_11ea_a343_b808cf1506d0level0_row16\" class=\"row_heading level0 row16\" >16</th>\n",
       "                        <td id=\"T_e25cd870_cfb6_11ea_a343_b808cf1506d0row16_col0\" class=\"data row16 col0\" >PCA components </td>\n",
       "                        <td id=\"T_e25cd870_cfb6_11ea_a343_b808cf1506d0row16_col1\" class=\"data row16 col1\" >None</td>\n",
       "            </tr>\n",
       "            <tr>\n",
       "                        <th id=\"T_e25cd870_cfb6_11ea_a343_b808cf1506d0level0_row17\" class=\"row_heading level0 row17\" >17</th>\n",
       "                        <td id=\"T_e25cd870_cfb6_11ea_a343_b808cf1506d0row17_col0\" class=\"data row17 col0\" >Ignore Low Variance </td>\n",
       "                        <td id=\"T_e25cd870_cfb6_11ea_a343_b808cf1506d0row17_col1\" class=\"data row17 col1\" >False</td>\n",
       "            </tr>\n",
       "            <tr>\n",
       "                        <th id=\"T_e25cd870_cfb6_11ea_a343_b808cf1506d0level0_row18\" class=\"row_heading level0 row18\" >18</th>\n",
       "                        <td id=\"T_e25cd870_cfb6_11ea_a343_b808cf1506d0row18_col0\" class=\"data row18 col0\" >Combine Rare Levels </td>\n",
       "                        <td id=\"T_e25cd870_cfb6_11ea_a343_b808cf1506d0row18_col1\" class=\"data row18 col1\" >False</td>\n",
       "            </tr>\n",
       "            <tr>\n",
       "                        <th id=\"T_e25cd870_cfb6_11ea_a343_b808cf1506d0level0_row19\" class=\"row_heading level0 row19\" >19</th>\n",
       "                        <td id=\"T_e25cd870_cfb6_11ea_a343_b808cf1506d0row19_col0\" class=\"data row19 col0\" >Rare Level Threshold </td>\n",
       "                        <td id=\"T_e25cd870_cfb6_11ea_a343_b808cf1506d0row19_col1\" class=\"data row19 col1\" >None</td>\n",
       "            </tr>\n",
       "            <tr>\n",
       "                        <th id=\"T_e25cd870_cfb6_11ea_a343_b808cf1506d0level0_row20\" class=\"row_heading level0 row20\" >20</th>\n",
       "                        <td id=\"T_e25cd870_cfb6_11ea_a343_b808cf1506d0row20_col0\" class=\"data row20 col0\" >Numeric Binning </td>\n",
       "                        <td id=\"T_e25cd870_cfb6_11ea_a343_b808cf1506d0row20_col1\" class=\"data row20 col1\" >False</td>\n",
       "            </tr>\n",
       "            <tr>\n",
       "                        <th id=\"T_e25cd870_cfb6_11ea_a343_b808cf1506d0level0_row21\" class=\"row_heading level0 row21\" >21</th>\n",
       "                        <td id=\"T_e25cd870_cfb6_11ea_a343_b808cf1506d0row21_col0\" class=\"data row21 col0\" >Remove Multicollinearity </td>\n",
       "                        <td id=\"T_e25cd870_cfb6_11ea_a343_b808cf1506d0row21_col1\" class=\"data row21 col1\" >False</td>\n",
       "            </tr>\n",
       "            <tr>\n",
       "                        <th id=\"T_e25cd870_cfb6_11ea_a343_b808cf1506d0level0_row22\" class=\"row_heading level0 row22\" >22</th>\n",
       "                        <td id=\"T_e25cd870_cfb6_11ea_a343_b808cf1506d0row22_col0\" class=\"data row22 col0\" >Multicollinearity Threshold </td>\n",
       "                        <td id=\"T_e25cd870_cfb6_11ea_a343_b808cf1506d0row22_col1\" class=\"data row22 col1\" >None</td>\n",
       "            </tr>\n",
       "            <tr>\n",
       "                        <th id=\"T_e25cd870_cfb6_11ea_a343_b808cf1506d0level0_row23\" class=\"row_heading level0 row23\" >23</th>\n",
       "                        <td id=\"T_e25cd870_cfb6_11ea_a343_b808cf1506d0row23_col0\" class=\"data row23 col0\" >Group Features </td>\n",
       "                        <td id=\"T_e25cd870_cfb6_11ea_a343_b808cf1506d0row23_col1\" class=\"data row23 col1\" >False</td>\n",
       "            </tr>\n",
       "    </tbody></table>"
      ],
      "text/plain": [
       "<pandas.io.formats.style.Styler at 0x1d5ba0aee08>"
      ]
     },
     "metadata": {},
     "output_type": "display_data"
    }
   ],
   "source": [
    "from pycaret.clustering import *\n",
    "clust_algo=setup(jewellery)"
   ]
  },
  {
   "cell_type": "code",
   "execution_count": 39,
   "metadata": {},
   "outputs": [],
   "source": [
    "kmeans= create_model('kmeans')"
   ]
  },
  {
   "cell_type": "code",
   "execution_count": 50,
   "metadata": {},
   "outputs": [
    {
     "data": {
      "text/plain": [
       "KMeans(algorithm='auto', copy_x=True, init='k-means++', max_iter=300,\n",
       "       n_clusters=4, n_init=10, n_jobs=None, precompute_distances='auto',\n",
       "       random_state=1212, tol=0.0001, verbose=0)"
      ]
     },
     "execution_count": 50,
     "metadata": {},
     "output_type": "execute_result"
    }
   ],
   "source": [
    "kmeans"
   ]
  },
  {
   "cell_type": "code",
   "execution_count": 51,
   "metadata": {},
   "outputs": [
    {
     "data": {
      "text/html": [
       "<div>\n",
       "<style scoped>\n",
       "    .dataframe tbody tr th:only-of-type {\n",
       "        vertical-align: middle;\n",
       "    }\n",
       "\n",
       "    .dataframe tbody tr th {\n",
       "        vertical-align: top;\n",
       "    }\n",
       "\n",
       "    .dataframe thead th {\n",
       "        text-align: right;\n",
       "    }\n",
       "</style>\n",
       "<table border=\"1\" class=\"dataframe\">\n",
       "  <thead>\n",
       "    <tr style=\"text-align: right;\">\n",
       "      <th></th>\n",
       "      <th>Age</th>\n",
       "      <th>Income</th>\n",
       "      <th>SpendingScore</th>\n",
       "      <th>Savings</th>\n",
       "      <th>Cluster</th>\n",
       "    </tr>\n",
       "  </thead>\n",
       "  <tbody>\n",
       "    <tr>\n",
       "      <th>0</th>\n",
       "      <td>58</td>\n",
       "      <td>77769</td>\n",
       "      <td>0.791329</td>\n",
       "      <td>6559.829923</td>\n",
       "      <td>Cluster 2</td>\n",
       "    </tr>\n",
       "    <tr>\n",
       "      <th>1</th>\n",
       "      <td>59</td>\n",
       "      <td>81799</td>\n",
       "      <td>0.791082</td>\n",
       "      <td>5417.661426</td>\n",
       "      <td>Cluster 2</td>\n",
       "    </tr>\n",
       "    <tr>\n",
       "      <th>2</th>\n",
       "      <td>62</td>\n",
       "      <td>74751</td>\n",
       "      <td>0.702657</td>\n",
       "      <td>9258.992965</td>\n",
       "      <td>Cluster 2</td>\n",
       "    </tr>\n",
       "    <tr>\n",
       "      <th>3</th>\n",
       "      <td>59</td>\n",
       "      <td>74373</td>\n",
       "      <td>0.765680</td>\n",
       "      <td>7346.334504</td>\n",
       "      <td>Cluster 2</td>\n",
       "    </tr>\n",
       "    <tr>\n",
       "      <th>4</th>\n",
       "      <td>87</td>\n",
       "      <td>17760</td>\n",
       "      <td>0.348778</td>\n",
       "      <td>16869.507130</td>\n",
       "      <td>Cluster 1</td>\n",
       "    </tr>\n",
       "    <tr>\n",
       "      <th>...</th>\n",
       "      <td>...</td>\n",
       "      <td>...</td>\n",
       "      <td>...</td>\n",
       "      <td>...</td>\n",
       "      <td>...</td>\n",
       "    </tr>\n",
       "    <tr>\n",
       "      <th>500</th>\n",
       "      <td>28</td>\n",
       "      <td>101206</td>\n",
       "      <td>0.387441</td>\n",
       "      <td>14936.775389</td>\n",
       "      <td>Cluster 0</td>\n",
       "    </tr>\n",
       "    <tr>\n",
       "      <th>501</th>\n",
       "      <td>93</td>\n",
       "      <td>19934</td>\n",
       "      <td>0.203140</td>\n",
       "      <td>17969.693769</td>\n",
       "      <td>Cluster 1</td>\n",
       "    </tr>\n",
       "    <tr>\n",
       "      <th>502</th>\n",
       "      <td>90</td>\n",
       "      <td>35297</td>\n",
       "      <td>0.355149</td>\n",
       "      <td>16091.401954</td>\n",
       "      <td>Cluster 1</td>\n",
       "    </tr>\n",
       "    <tr>\n",
       "      <th>503</th>\n",
       "      <td>91</td>\n",
       "      <td>20681</td>\n",
       "      <td>0.354679</td>\n",
       "      <td>18401.088445</td>\n",
       "      <td>Cluster 1</td>\n",
       "    </tr>\n",
       "    <tr>\n",
       "      <th>504</th>\n",
       "      <td>89</td>\n",
       "      <td>30267</td>\n",
       "      <td>0.289310</td>\n",
       "      <td>14386.351880</td>\n",
       "      <td>Cluster 1</td>\n",
       "    </tr>\n",
       "  </tbody>\n",
       "</table>\n",
       "<p>505 rows × 5 columns</p>\n",
       "</div>"
      ],
      "text/plain": [
       "     Age  Income  SpendingScore       Savings    Cluster\n",
       "0     58   77769       0.791329   6559.829923  Cluster 2\n",
       "1     59   81799       0.791082   5417.661426  Cluster 2\n",
       "2     62   74751       0.702657   9258.992965  Cluster 2\n",
       "3     59   74373       0.765680   7346.334504  Cluster 2\n",
       "4     87   17760       0.348778  16869.507130  Cluster 1\n",
       "..   ...     ...            ...           ...        ...\n",
       "500   28  101206       0.387441  14936.775389  Cluster 0\n",
       "501   93   19934       0.203140  17969.693769  Cluster 1\n",
       "502   90   35297       0.355149  16091.401954  Cluster 1\n",
       "503   91   20681       0.354679  18401.088445  Cluster 1\n",
       "504   89   30267       0.289310  14386.351880  Cluster 1\n",
       "\n",
       "[505 rows x 5 columns]"
      ]
     },
     "execution_count": 51,
     "metadata": {},
     "output_type": "execute_result"
    }
   ],
   "source": [
    "kmeans_df"
   ]
  },
  {
   "cell_type": "code",
   "execution_count": 52,
   "metadata": {},
   "outputs": [],
   "source": [
    "heir_df=assign_model(kmeans)"
   ]
  },
  {
   "cell_type": "code",
   "execution_count": 53,
   "metadata": {},
   "outputs": [
    {
     "data": {
      "text/html": [
       "<div>\n",
       "<style scoped>\n",
       "    .dataframe tbody tr th:only-of-type {\n",
       "        vertical-align: middle;\n",
       "    }\n",
       "\n",
       "    .dataframe tbody tr th {\n",
       "        vertical-align: top;\n",
       "    }\n",
       "\n",
       "    .dataframe thead th {\n",
       "        text-align: right;\n",
       "    }\n",
       "</style>\n",
       "<table border=\"1\" class=\"dataframe\">\n",
       "  <thead>\n",
       "    <tr style=\"text-align: right;\">\n",
       "      <th></th>\n",
       "      <th>Age</th>\n",
       "      <th>Income</th>\n",
       "      <th>SpendingScore</th>\n",
       "      <th>Savings</th>\n",
       "      <th>Cluster</th>\n",
       "    </tr>\n",
       "  </thead>\n",
       "  <tbody>\n",
       "    <tr>\n",
       "      <th>0</th>\n",
       "      <td>58</td>\n",
       "      <td>77769</td>\n",
       "      <td>0.791329</td>\n",
       "      <td>6559.829923</td>\n",
       "      <td>Cluster 2</td>\n",
       "    </tr>\n",
       "    <tr>\n",
       "      <th>1</th>\n",
       "      <td>59</td>\n",
       "      <td>81799</td>\n",
       "      <td>0.791082</td>\n",
       "      <td>5417.661426</td>\n",
       "      <td>Cluster 2</td>\n",
       "    </tr>\n",
       "    <tr>\n",
       "      <th>2</th>\n",
       "      <td>62</td>\n",
       "      <td>74751</td>\n",
       "      <td>0.702657</td>\n",
       "      <td>9258.992965</td>\n",
       "      <td>Cluster 2</td>\n",
       "    </tr>\n",
       "    <tr>\n",
       "      <th>3</th>\n",
       "      <td>59</td>\n",
       "      <td>74373</td>\n",
       "      <td>0.765680</td>\n",
       "      <td>7346.334504</td>\n",
       "      <td>Cluster 2</td>\n",
       "    </tr>\n",
       "    <tr>\n",
       "      <th>4</th>\n",
       "      <td>87</td>\n",
       "      <td>17760</td>\n",
       "      <td>0.348778</td>\n",
       "      <td>16869.507130</td>\n",
       "      <td>Cluster 1</td>\n",
       "    </tr>\n",
       "    <tr>\n",
       "      <th>...</th>\n",
       "      <td>...</td>\n",
       "      <td>...</td>\n",
       "      <td>...</td>\n",
       "      <td>...</td>\n",
       "      <td>...</td>\n",
       "    </tr>\n",
       "    <tr>\n",
       "      <th>500</th>\n",
       "      <td>28</td>\n",
       "      <td>101206</td>\n",
       "      <td>0.387441</td>\n",
       "      <td>14936.775389</td>\n",
       "      <td>Cluster 0</td>\n",
       "    </tr>\n",
       "    <tr>\n",
       "      <th>501</th>\n",
       "      <td>93</td>\n",
       "      <td>19934</td>\n",
       "      <td>0.203140</td>\n",
       "      <td>17969.693769</td>\n",
       "      <td>Cluster 1</td>\n",
       "    </tr>\n",
       "    <tr>\n",
       "      <th>502</th>\n",
       "      <td>90</td>\n",
       "      <td>35297</td>\n",
       "      <td>0.355149</td>\n",
       "      <td>16091.401954</td>\n",
       "      <td>Cluster 1</td>\n",
       "    </tr>\n",
       "    <tr>\n",
       "      <th>503</th>\n",
       "      <td>91</td>\n",
       "      <td>20681</td>\n",
       "      <td>0.354679</td>\n",
       "      <td>18401.088445</td>\n",
       "      <td>Cluster 1</td>\n",
       "    </tr>\n",
       "    <tr>\n",
       "      <th>504</th>\n",
       "      <td>89</td>\n",
       "      <td>30267</td>\n",
       "      <td>0.289310</td>\n",
       "      <td>14386.351880</td>\n",
       "      <td>Cluster 1</td>\n",
       "    </tr>\n",
       "  </tbody>\n",
       "</table>\n",
       "<p>505 rows × 5 columns</p>\n",
       "</div>"
      ],
      "text/plain": [
       "     Age  Income  SpendingScore       Savings    Cluster\n",
       "0     58   77769       0.791329   6559.829923  Cluster 2\n",
       "1     59   81799       0.791082   5417.661426  Cluster 2\n",
       "2     62   74751       0.702657   9258.992965  Cluster 2\n",
       "3     59   74373       0.765680   7346.334504  Cluster 2\n",
       "4     87   17760       0.348778  16869.507130  Cluster 1\n",
       "..   ...     ...            ...           ...        ...\n",
       "500   28  101206       0.387441  14936.775389  Cluster 0\n",
       "501   93   19934       0.203140  17969.693769  Cluster 1\n",
       "502   90   35297       0.355149  16091.401954  Cluster 1\n",
       "503   91   20681       0.354679  18401.088445  Cluster 1\n",
       "504   89   30267       0.289310  14386.351880  Cluster 1\n",
       "\n",
       "[505 rows x 5 columns]"
      ]
     },
     "execution_count": 53,
     "metadata": {},
     "output_type": "execute_result"
    }
   ],
   "source": [
    "heir_df"
   ]
  },
  {
   "cell_type": "code",
   "execution_count": 54,
   "metadata": {},
   "outputs": [
    {
     "data": {
      "text/html": [
       "        <script type=\"text/javascript\">\n",
       "        window.PlotlyConfig = {MathJaxConfig: 'local'};\n",
       "        if (window.MathJax) {MathJax.Hub.Config({SVG: {font: \"STIX-Web\"}});}\n",
       "        if (typeof require !== 'undefined') {\n",
       "        require.undef(\"plotly\");\n",
       "        requirejs.config({\n",
       "            paths: {\n",
       "                'plotly': ['https://cdn.plot.ly/plotly-latest.min']\n",
       "            }\n",
       "        });\n",
       "        require(['plotly'], function(Plotly) {\n",
       "            window._Plotly = Plotly;\n",
       "        });\n",
       "        }\n",
       "        </script>\n",
       "        "
      ]
     },
     "metadata": {},
     "output_type": "display_data"
    },
    {
     "data": {
      "application/vnd.plotly.v1+json": {
       "config": {
        "plotlyServerURL": "https://plot.ly"
       },
       "data": [
        {
         "customdata": [
          [
           58
          ],
          [
           59
          ],
          [
           62
          ],
          [
           59
          ],
          [
           87
          ],
          [
           29
          ],
          [
           54
          ],
          [
           87
          ],
          [
           83
          ],
          [
           84
          ],
          [
           85
          ],
          [
           36
          ],
          [
           30
          ],
          [
           31
          ],
          [
           61
          ],
          [
           92
          ],
          [
           55
          ],
          [
           87
          ],
          [
           82
          ],
          [
           88
          ],
          [
           30
          ],
          [
           84
          ],
          [
           53
          ],
          [
           91
          ],
          [
           89
          ],
          [
           30
          ],
          [
           17
          ],
          [
           55
          ],
          [
           90
          ],
          [
           61
          ],
          [
           59
          ],
          [
           59
          ],
          [
           88
          ],
          [
           56
          ],
          [
           33
          ],
          [
           61
          ],
          [
           84
          ],
          [
           61
          ],
          [
           39
          ],
          [
           31
          ],
          [
           60
          ],
          [
           87
          ],
          [
           20
          ],
          [
           57
          ],
          [
           61
          ],
          [
           18
          ],
          [
           83
          ],
          [
           25
          ],
          [
           31
          ],
          [
           55
          ],
          [
           84
          ],
          [
           36
          ],
          [
           27
          ],
          [
           91
          ],
          [
           53
          ],
          [
           91
          ],
          [
           25
          ],
          [
           83
          ],
          [
           87
          ],
          [
           90
          ],
          [
           83
          ],
          [
           83
          ],
          [
           83
          ],
          [
           61
          ],
          [
           64
          ],
          [
           62
          ],
          [
           91
          ],
          [
           28
          ],
          [
           23
          ],
          [
           55
          ],
          [
           58
          ],
          [
           31
          ],
          [
           83
          ],
          [
           91
          ],
          [
           30
          ],
          [
           57
          ],
          [
           33
          ],
          [
           59
          ],
          [
           58
          ],
          [
           29
          ],
          [
           59
          ],
          [
           84
          ],
          [
           64
          ],
          [
           87
          ],
          [
           88
          ],
          [
           35
          ],
          [
           34
          ],
          [
           58
          ],
          [
           56
          ],
          [
           63
          ],
          [
           58
          ],
          [
           60
          ],
          [
           24
          ],
          [
           94
          ],
          [
           58
          ],
          [
           25
          ],
          [
           36
          ],
          [
           62
          ],
          [
           66
          ],
          [
           37
          ],
          [
           27
          ],
          [
           24
          ],
          [
           31
          ],
          [
           23
          ],
          [
           34
          ],
          [
           88
          ],
          [
           89
          ],
          [
           32
          ],
          [
           38
          ],
          [
           57
          ],
          [
           90
          ],
          [
           33
          ],
          [
           66
          ],
          [
           35
          ],
          [
           31
          ],
          [
           35
          ],
          [
           63
          ],
          [
           30
          ],
          [
           22
          ],
          [
           84
          ],
          [
           28
          ],
          [
           88
          ],
          [
           84
          ],
          [
           88
          ],
          [
           35
          ],
          [
           82
          ],
          [
           64
          ],
          [
           91
          ],
          [
           62
          ],
          [
           62
          ]
         ],
         "hoverlabel": {
          "namelength": 0
         },
         "hovertemplate": "Cluster=Cluster 0<br>PCA1=%{x}<br>PCA2=%{y}<br>Feature=%{customdata[0]}",
         "legendgroup": "Cluster=Cluster 0",
         "marker": {
          "color": "#636efa",
          "opacity": 0.5,
          "symbol": "circle"
         },
         "mode": "markers",
         "name": "Cluster=Cluster 0",
         "showlegend": true,
         "textposition": "top center",
         "type": "scatter",
         "x": [
          34815.254920538064,
          23896.36880790409,
          26578.15319626619,
          28681.549887585752,
          26003.522431925627,
          31202.41268247609,
          33217.9266109481,
          22236.169474372287,
          20592.346613007772,
          39135.37622313007,
          35036.71585548721,
          31317.29806455371,
          18943.372817813033,
          20486.14069594546,
          34834.90179465998,
          35572.71538685357,
          30806.77634195279,
          39399.40138181151,
          34753.14848573081,
          23022.218263126648,
          33379.4205846891,
          29861.546669621457,
          28912.89513619995,
          28627.259856400306,
          37228.73474520069,
          24491.38889864474,
          26507.042872359918,
          32691.86956168573,
          28639.385002450505,
          23196.213306438236,
          32289.540207166654,
          34830.86603735359,
          31016.952770667875,
          30268.705481263303,
          40419.576695104166,
          37194.90227907419,
          33345.156271231186,
          31502.36034296823,
          26343.67867390247,
          32561.0253600633,
          23858.59824002343,
          36008.72535912232,
          30155.334159636994,
          26312.372968927535,
          16918.67620110013,
          15177.319714667681,
          30950.101839682393,
          23748.677815454055,
          23392.942046850596,
          35023.21627080028,
          29240.509748648106,
          35711.079994329455,
          19785.994393274686,
          32853.06228369527,
          30836.978307627447,
          26023.56635140616,
          27412.69140542124,
          38543.6251229287,
          32149.92129268288,
          26228.3762864362,
          34060.877500473835,
          24819.360949497754,
          31330.343984524785,
          27758.38757580822,
          28960.634964946774,
          36813.76713420396,
          33203.84256888804,
          27456.913266673113,
          31960.754514207263,
          29210.556946439694,
          36260.39985707388,
          26983.046364278198,
          37939.717008912354,
          39941.237375096105,
          30614.165778553568,
          38938.118138714344,
          23470.847033328027,
          32322.908553122477,
          26071.98118135925,
          34360.48180735057,
          24294.808478346346,
          14006.000965365405,
          25765.79004232836,
          32307.936729140943,
          25328.069962281672,
          32416.93987389556,
          22105.034591078263,
          30046.489080926065,
          31911.00123936634,
          22350.769816321572,
          23967.00608797563,
          30148.682673916093,
          41298.631292835074,
          25363.91922672043,
          25732.34497219056,
          23032.68012465127,
          38847.16976776081,
          15764.49143141584,
          32345.708428700593,
          31045.220255678785,
          31361.08526779915,
          31253.468530449423,
          32210.979768642406,
          35758.275435536685,
          35579.20581580631,
          19295.267686809573,
          21973.30795044383,
          22258.6086685699,
          22393.417730180136,
          40673.859644327466,
          31614.442565419096,
          25474.402763797287,
          32912.89206331584,
          35187.91053468465,
          24827.97878054598,
          40849.480597690635,
          30584.124615113244,
          30949.636901997943,
          24613.751980326124,
          26298.148410246733,
          38869.6494526717,
          39513.273555432424,
          32572.7502723662,
          22224.55614343529,
          32797.64366935495,
          21900.78530003277,
          25938.05049675625,
          25376.693266073165,
          19017.16946491751,
          24706.12835284516
         ],
         "xaxis": "x",
         "y": [
          -5108.281670571722,
          -4653.572550884038,
          -4542.181472406768,
          -4194.112454577071,
          -3786.1336424715296,
          -4006.880782404124,
          -4387.404636496325,
          -4400.042331000773,
          -4611.587648361572,
          -4339.707016425756,
          -6415.699536226249,
          -6141.763263553495,
          -6099.926511675159,
          -4804.203700356799,
          -5079.540930731749,
          -4807.665202226775,
          -5560.204679600002,
          -5202.090344164468,
          -4008.589012753901,
          -4439.122859420632,
          -4139.053044046939,
          -4210.491742797323,
          -5224.554435670842,
          -3324.8164217780154,
          -4575.537648425252,
          -3378.5440905478686,
          -5484.6746561210975,
          -6066.457122934576,
          -3130.9505393461036,
          -5613.7149464738695,
          -3634.3413606407385,
          -5377.229021116214,
          -4865.0044073172785,
          -4917.675594824386,
          -6642.233640263948,
          -4030.4860762357507,
          -6080.299826048201,
          -5081.205331963822,
          -3863.006874934307,
          -5658.529147335396,
          -4857.997302514553,
          -6111.70517139526,
          -6491.845916302064,
          -4286.405360287333,
          -2877.194607876878,
          4253.670268811263,
          -6274.3994076764575,
          -4085.3878885407785,
          -5117.926369906292,
          -4416.577273256116,
          -5240.70987990114,
          -4543.481105344734,
          -4699.391527469763,
          -5910.595724540103,
          -4248.410998779929,
          -7172.334785619934,
          -5970.65960581778,
          -7198.063753004439,
          -5508.945169399095,
          -4266.484164687802,
          -5075.678351149005,
          -6443.1165674782,
          -5635.163544619186,
          -3524.601882041495,
          -5439.902381792008,
          -4615.462129870629,
          -6552.893169384942,
          -4868.312164441828,
          -7950.137679904538,
          -6286.356908964104,
          -3890.3447962612563,
          -2897.4181107781205,
          -4683.44028185975,
          -5237.495032301004,
          -4762.434912619337,
          -4443.1698152763865,
          -4720.2489254083885,
          -3681.290385681804,
          -4687.764619495448,
          -5038.816440742176,
          -3156.1748677381524,
          -1775.6050399833534,
          -4647.5150918336985,
          -3401.0815217687777,
          -4507.81885275907,
          -3316.873784519851,
          -4346.187741550609,
          -2733.109485171264,
          -2672.9112969661533,
          -5405.192380070511,
          -5918.696393593376,
          -3727.641222685246,
          -6422.065006311352,
          -6518.877743618621,
          -4846.280009746118,
          -5461.1790445209535,
          -8209.639308093874,
          -2149.1522120766244,
          -2201.720436215355,
          -4354.880673536975,
          -4837.589604607754,
          -4792.8201724446635,
          -5806.362366658897,
          -4122.472097486013,
          -6195.256515402728,
          -3266.6501002799137,
          -5227.97230615995,
          -5195.925409188554,
          -5150.746928288214,
          -5771.827716588529,
          -3948.4131537015073,
          -4541.161711915865,
          -4588.664684244311,
          -4164.858385743972,
          -5088.608312301609,
          -5591.4308623525085,
          -5198.651743783722,
          -4397.197322284792,
          -3288.464289351834,
          -5023.038755192273,
          -4117.836047019013,
          -4805.682520520941,
          -6711.005814772026,
          -5737.014216399171,
          -5654.546848389321,
          -5234.914435436245,
          -4054.252841897085,
          -3922.3292073945418,
          -4587.056600403996,
          -6304.2868715779405
         ],
         "yaxis": "y"
        },
        {
         "customdata": [
          [
           34
          ],
          [
           60
          ],
          [
           32
          ],
          [
           65
          ],
          [
           24
          ],
          [
           88
          ],
          [
           82
          ],
          [
           26
          ],
          [
           60
          ],
          [
           31
          ],
          [
           85
          ],
          [
           63
          ],
          [
           56
          ],
          [
           28
          ],
          [
           58
          ],
          [
           26
          ],
          [
           62
          ],
          [
           86
          ],
          [
           56
          ],
          [
           91
          ],
          [
           59
          ],
          [
           28
          ],
          [
           85
          ],
          [
           65
          ],
          [
           94
          ],
          [
           86
          ],
          [
           30
          ],
          [
           62
          ],
          [
           85
          ],
          [
           59
          ],
          [
           30
          ],
          [
           83
          ],
          [
           66
          ],
          [
           31
          ],
          [
           88
          ],
          [
           28
          ],
          [
           85
          ],
          [
           64
          ],
          [
           33
          ],
          [
           62
          ],
          [
           89
          ],
          [
           61
          ],
          [
           29
          ],
          [
           56
          ],
          [
           92
          ],
          [
           62
          ],
          [
           60
          ],
          [
           85
          ],
          [
           88
          ],
          [
           94
          ],
          [
           62
          ],
          [
           64
          ],
          [
           29
          ],
          [
           27
          ],
          [
           31
          ],
          [
           87
          ],
          [
           32
          ],
          [
           63
          ],
          [
           58
          ],
          [
           62
          ],
          [
           32
          ],
          [
           93
          ],
          [
           59
          ],
          [
           61
          ],
          [
           53
          ],
          [
           82
          ],
          [
           28
          ],
          [
           32
          ],
          [
           89
          ],
          [
           84
          ],
          [
           87
          ],
          [
           29
          ],
          [
           58
          ],
          [
           29
          ],
          [
           55
          ],
          [
           25
          ],
          [
           60
          ],
          [
           88
          ],
          [
           24
          ],
          [
           56
          ],
          [
           95
          ],
          [
           89
          ],
          [
           86
          ],
          [
           85
          ],
          [
           60
          ],
          [
           87
          ],
          [
           29
          ],
          [
           23
          ],
          [
           31
          ],
          [
           89
          ],
          [
           58
          ],
          [
           56
          ],
          [
           37
          ],
          [
           89
          ],
          [
           29
          ],
          [
           23
          ],
          [
           34
          ],
          [
           64
          ],
          [
           63
          ],
          [
           85
          ],
          [
           62
          ],
          [
           59
          ],
          [
           92
          ],
          [
           67
          ],
          [
           58
          ],
          [
           58
          ],
          [
           38
          ],
          [
           57
          ],
          [
           31
          ],
          [
           36
          ],
          [
           25
          ],
          [
           66
          ],
          [
           64
          ],
          [
           59
          ],
          [
           90
          ],
          [
           68
          ],
          [
           35
          ],
          [
           84
          ],
          [
           24
          ],
          [
           29
          ],
          [
           28
          ],
          [
           81
          ],
          [
           57
          ],
          [
           37
          ],
          [
           91
          ],
          [
           82
          ],
          [
           36
          ],
          [
           31
          ],
          [
           61
          ],
          [
           64
          ],
          [
           83
          ],
          [
           63
          ],
          [
           55
          ],
          [
           86
          ],
          [
           57
          ],
          [
           94
          ],
          [
           37
          ],
          [
           26
          ],
          [
           57
          ],
          [
           37
          ],
          [
           88
          ],
          [
           61
          ],
          [
           91
          ],
          [
           84
          ],
          [
           43
          ],
          [
           59
          ],
          [
           90
          ]
         ],
         "hoverlabel": {
          "namelength": 0
         },
         "hovertemplate": "Cluster=Cluster 1<br>PCA1=%{x}<br>PCA2=%{y}<br>Feature=%{customdata[0]}",
         "legendgroup": "Cluster=Cluster 1",
         "marker": {
          "color": "#EF553B",
          "opacity": 0.5,
          "symbol": "circle"
         },
         "mode": "markers",
         "name": "Cluster=Cluster 1",
         "showlegend": true,
         "textposition": "top center",
         "type": "scatter",
         "x": [
          -49206.07297923621,
          -54413.15855352475,
          -48754.55322293147,
          -50446.6872585056,
          -43231.4779087988,
          -63656.34758998013,
          -55368.984275680115,
          -48469.75822555577,
          -51191.18311026796,
          -39063.28667619092,
          -63634.72200273956,
          -49952.56386424756,
          -43811.47262039389,
          -36822.88272990107,
          -42594.243001932984,
          -53514.36608306824,
          -49610.6750101597,
          -28705.21282676982,
          -47927.75615335326,
          -45504.928216643864,
          -46897.28720484185,
          -56491.726161601444,
          -53103.84791289731,
          -50055.787564293576,
          -56854.24491468409,
          -48459.57885316466,
          -50029.04867348442,
          -53329.088908637925,
          -53484.99044797622,
          -49274.44239615931,
          -41272.8953398618,
          -48254.00622992488,
          -55116.83601816838,
          -58771.33010043619,
          -51459.513505463445,
          -57750.75774612389,
          -48448.189821393404,
          -39916.59061152691,
          -56820.087553604266,
          -42172.091423728154,
          -37510.588011321175,
          -42253.872877958245,
          -48890.16204283166,
          -43012.76978349141,
          -44821.27195537095,
          -46206.76070917288,
          -42432.64509966228,
          -48329.37521986343,
          -47000.171708792914,
          -48496.84792497305,
          -46522.919419751175,
          -39882.02333138303,
          -28723.99191956601,
          -37730.76934060819,
          -48762.3646682712,
          -50504.82314273771,
          -45508.35388587767,
          -46108.564418073125,
          -45148.06214608792,
          -58127.50387027003,
          -57495.82751822279,
          -56178.67327005177,
          -39708.64698966348,
          -45316.58140609556,
          -55300.43835611649,
          -51304.42079121019,
          -48867.33422412476,
          -47072.8327082788,
          -52350.13688160768,
          -42485.19893050839,
          -42546.30928703385,
          -52508.30353343575,
          -45053.50115134018,
          -53120.54070874581,
          -48031.60033869835,
          -57516.273183636426,
          -49855.36023906118,
          -38870.672641380355,
          -51858.952852259754,
          -49618.564251583906,
          -42334.04767150635,
          -53905.33080870668,
          -49083.98904448349,
          -47366.649393097134,
          -40276.448131089564,
          -44316.39097613652,
          -46888.405898773766,
          -41183.65207165712,
          -51006.6259671718,
          -46621.675189920876,
          -55003.11473536295,
          -40392.52353813577,
          -55837.896212559084,
          -57945.294009393794,
          -44891.72694017817,
          -33223.78792758691,
          -41229.08532646792,
          -48086.47161506782,
          -45889.161245283954,
          -39730.75492373198,
          -44207.36919669005,
          -52745.27199507384,
          -42152.502819378766,
          -52957.61629178098,
          -48338.70466261933,
          -56895.33602609464,
          -47591.22511122,
          -52877.38164603336,
          -38257.012522678706,
          -45243.33599570981,
          -51590.972058113024,
          -57888.98693798617,
          -52219.78891026325,
          -39255.473865513464,
          -51240.794674902085,
          -47148.049506652605,
          -45489.12002421864,
          -60035.35573518632,
          -44680.89350931925,
          -47339.94733410826,
          -59885.18345080088,
          -41090.43271162366,
          -51335.69636219804,
          -53680.72058527791,
          -43219.57063079797,
          -58306.89374121133,
          -47490.05337363707,
          -42382.69883203621,
          -40724.15688509666,
          -44945.69901444301,
          -47271.41327624213,
          -40907.251477988095,
          -46752.1718911491,
          -42805.17469366229,
          -49640.51633393591,
          -47211.30921897941,
          -42194.79873495243,
          -57176.86780610605,
          -41047.376366850316,
          -47975.629894303696,
          -46294.69652581509,
          -45592.66271459647,
          -33685.823037835005,
          -41654.285370916725,
          -54957.490989172344,
          -47129.84416342062,
          -49427.52413702613
         ],
         "xaxis": "x",
         "y": [
          646.5438723752029,
          -1055.9968931753695,
          -3476.7575329414058,
          -1789.8310613735055,
          -2464.3665067293477,
          -672.1303645870998,
          -990.6075970316544,
          -975.011019926938,
          -2999.048136853006,
          -2178.951260878268,
          -958.536564511077,
          -1016.3628176053369,
          -3844.050642994283,
          -3004.135925035732,
          -4573.135949676129,
          -3511.650542757559,
          -2494.3460158547705,
          -2125.516573296833,
          1139.0677249894068,
          -1656.4250558163055,
          -1500.599753550347,
          -1529.9495201383836,
          -1838.6646455566608,
          -458.73293797346935,
          -1039.8869670204506,
          -623.0248233972361,
          -2907.798180135492,
          -3704.1152030668823,
          -2964.871161538943,
          -1819.1411133435672,
          -2039.051945091479,
          -3586.392912339362,
          -3386.6313874278358,
          -1946.4256348815331,
          -1443.6312210611675,
          -1546.7860227984654,
          -424.49445160247166,
          -5860.406970913431,
          -2626.4947601230415,
          -3482.950924420315,
          -2385.9306735999726,
          -2813.4088657561024,
          -3117.043572435124,
          -2388.397515567187,
          -809.2478504066146,
          -3972.4372911141973,
          -2804.317598781817,
          -2106.956548531857,
          -3258.5927312494296,
          -1255.0231217175208,
          -2395.150620327911,
          -3145.838811669632,
          -1283.2493416842208,
          -3447.522865699352,
          -1902.3037525718125,
          -2541.1040744024212,
          -1716.0957515179957,
          -4704.9007181400775,
          -918.4435413744579,
          -3329.424155750389,
          -874.593832039625,
          -1450.7318688866628,
          -2812.640832274528,
          72.34189620852388,
          -2379.445392952535,
          -1341.6421504993382,
          -3330.095089314262,
          -3652.1430220775046,
          -1271.8366968001826,
          -1573.1293339464705,
          -2323.9550250667426,
          -2003.3795586148942,
          -3267.8530880659678,
          -2373.9068521136164,
          -2520.879670925899,
          -2662.237917413058,
          -2551.6409458673,
          -4966.632983631629,
          -1998.3145148841265,
          -1200.4987085747016,
          -946.4427010468278,
          776.721355182879,
          -2706.954245859542,
          -2226.5238835946834,
          -3159.403065288739,
          -1681.1078093986168,
          -1747.2845158743758,
          -2299.177576458252,
          1229.6342021037985,
          -1061.392829700629,
          -1806.3716349634756,
          -1918.0706539765363,
          -2913.151326193393,
          -1690.2235244245405,
          -1059.5099705589173,
          -4327.599800404027,
          -559.8887343311571,
          -3267.6645334787445,
          -3656.86004052312,
          -3215.3117531036187,
          -1788.5950192551397,
          -3270.250012030126,
          -3595.426499455153,
          -512.1681616652367,
          -296.9479102201372,
          -219.8356734403219,
          -2876.016821854163,
          -1034.0462861180692,
          -3209.705699855122,
          -2386.7446703879705,
          -1709.6809922654036,
          -2297.4104284560153,
          -361.82287722906113,
          -2456.0624695072065,
          -337.58311029945975,
          -948.1700320034148,
          -857.2365574199126,
          -2067.7852022028583,
          -3320.238109106743,
          -2756.2104567652163,
          968.182184170174,
          -2507.468037848858,
          -2253.324954790314,
          -1523.1531827794768,
          -982.6374045457438,
          -1498.307062590401,
          -1025.6556377131592,
          -1026.217828121943,
          -3403.3549980948774,
          -2663.4363034143594,
          -1422.2632521531468,
          -2247.72309806976,
          -4260.667936777423,
          -2383.9235864924353,
          -2403.4526565005276,
          -497.02873214681574,
          -2831.244972649777,
          -500.38222602903636,
          163.0086019424052,
          -2697.4806496368724,
          -3445.140762666877,
          -1858.7415428672748,
          -2359.981060852438,
          -1284.2763352326028,
          -1273.034090967155,
          -2166.945526513025,
          -3282.4967836895175
         ],
         "yaxis": "y"
        },
        {
         "customdata": [
          [
           88
          ],
          [
           59
          ],
          [
           59
          ],
          [
           88
          ],
          [
           37
          ],
          [
           33
          ],
          [
           90
          ],
          [
           31
          ],
          [
           90
          ],
          [
           91
          ],
          [
           29
          ],
          [
           83
          ],
          [
           84
          ],
          [
           87
          ],
          [
           22
          ],
          [
           58
          ],
          [
           31
          ],
          [
           33
          ],
          [
           56
          ],
          [
           30
          ],
          [
           85
          ],
          [
           87
          ],
          [
           34
          ],
          [
           61
          ],
          [
           30
          ],
          [
           88
          ],
          [
           56
          ],
          [
           30
          ],
          [
           25
          ],
          [
           61
          ],
          [
           88
          ],
          [
           37
          ],
          [
           35
          ],
          [
           85
          ],
          [
           85
          ],
          [
           88
          ],
          [
           59
          ],
          [
           90
          ],
          [
           33
          ],
          [
           62
          ],
          [
           59
          ],
          [
           91
          ],
          [
           33
          ],
          [
           87
          ],
          [
           26
          ],
          [
           88
          ],
          [
           24
          ],
          [
           91
          ],
          [
           86
          ],
          [
           36
          ],
          [
           87
          ],
          [
           33
          ],
          [
           59
          ],
          [
           29
          ],
          [
           59
          ],
          [
           57
          ],
          [
           40
          ],
          [
           42
          ],
          [
           89
          ],
          [
           93
          ],
          [
           17
          ],
          [
           24
          ],
          [
           34
          ],
          [
           90
          ],
          [
           20
          ],
          [
           92
          ],
          [
           84
          ],
          [
           59
          ],
          [
           61
          ],
          [
           67
          ],
          [
           82
          ],
          [
           94
          ],
          [
           28
          ],
          [
           36
          ],
          [
           91
          ],
          [
           34
          ],
          [
           77
          ],
          [
           63
          ],
          [
           35
          ],
          [
           21
          ],
          [
           86
          ],
          [
           56
          ],
          [
           83
          ],
          [
           28
          ],
          [
           59
          ],
          [
           83
          ],
          [
           83
          ],
          [
           58
          ],
          [
           91
          ],
          [
           29
          ],
          [
           61
          ],
          [
           84
          ],
          [
           34
          ],
          [
           33
          ],
          [
           55
          ],
          [
           88
          ],
          [
           91
          ],
          [
           91
          ],
          [
           84
          ],
          [
           87
          ],
          [
           39
          ],
          [
           38
          ],
          [
           89
          ],
          [
           59
          ],
          [
           35
          ],
          [
           59
          ],
          [
           87
          ],
          [
           94
          ],
          [
           86
          ],
          [
           60
          ],
          [
           79
          ],
          [
           86
          ],
          [
           60
          ],
          [
           85
          ],
          [
           92
          ],
          [
           37
          ],
          [
           89
          ],
          [
           67
          ],
          [
           31
          ],
          [
           20
          ],
          [
           37
          ],
          [
           57
          ],
          [
           87
          ],
          [
           33
          ],
          [
           56
          ],
          [
           67
          ],
          [
           58
          ],
          [
           89
          ],
          [
           34
          ],
          [
           25
          ],
          [
           44
          ],
          [
           68
          ],
          [
           31
          ],
          [
           58
          ],
          [
           55
          ],
          [
           21
          ],
          [
           36
          ],
          [
           88
          ],
          [
           26
          ],
          [
           29
          ],
          [
           38
          ],
          [
           79
          ],
          [
           51
          ],
          [
           82
          ],
          [
           39
          ],
          [
           87
          ],
          [
           36
          ],
          [
           57
          ],
          [
           61
          ],
          [
           86
          ],
          [
           86
          ],
          [
           35
          ],
          [
           89
          ],
          [
           30
          ],
          [
           60
          ],
          [
           64
          ]
         ],
         "hoverlabel": {
          "namelength": 0
         },
         "hovertemplate": "Cluster=Cluster 2<br>PCA1=%{x}<br>PCA2=%{y}<br>Feature=%{customdata[0]}",
         "legendgroup": "Cluster=Cluster 2",
         "marker": {
          "color": "#00cc96",
          "opacity": 0.5,
          "symbol": "circle"
         },
         "mode": "markers",
         "name": "Cluster=Cluster 2",
         "showlegend": true,
         "textposition": "top center",
         "type": "scatter",
         "x": [
          3574.867628285129,
          -1709.0067116984417,
          -6075.723945911874,
          5619.125538763625,
          -2220.635450610069,
          -1755.366356398994,
          5679.935032255552,
          -4114.665812502668,
          -4883.720561797818,
          -10371.487057071718,
          -5149.414552966313,
          4615.604589783889,
          1855.0479869186813,
          -967.134529229484,
          7017.407229806945,
          -4794.73018597246,
          -811.2733012583066,
          5122.282562298915,
          -12402.61400603574,
          -7981.746810683438,
          2868.675335891807,
          4968.7646458745685,
          7034.56699184687,
          -9176.939917160447,
          -805.5182840466975,
          -6214.3549177563755,
          -7827.504392605748,
          -7225.656651496557,
          -6586.375015596345,
          -9270.983246113972,
          -1864.5940590614457,
          -9823.292971418654,
          3607.6218475354435,
          1547.9124395594222,
          -3147.9716901024017,
          -3197.7706749317113,
          -3127.7464754071875,
          -10419.650727093274,
          -4661.643199436447,
          3333.037008198886,
          -4588.8456828873295,
          -1424.296852785253,
          -11770.096221904694,
          -7431.1699465929505,
          -6270.13005770464,
          -5787.584457334292,
          -7793.2115089141635,
          2555.7842351602103,
          -5898.7444796811515,
          -5327.512619806886,
          -1710.0091006297775,
          -2630.794135208185,
          1381.2925438038915,
          -10238.837928743034,
          -2329.6167597527697,
          -3536.624899618869,
          -11570.013629472292,
          -12594.175242128533,
          -3881.279223544835,
          -9447.566957019662,
          -4595.725467462926,
          5567.478117111802,
          9121.208329826173,
          4848.442764387976,
          499.4966180961311,
          -4176.7226317043105,
          -6529.597912750257,
          -7423.928769536232,
          -9153.992100917843,
          4864.683651412994,
          -7249.028129796932,
          7325.2561894926885,
          1198.215527285722,
          -6945.490220855902,
          -5628.98377140921,
          -6874.4473005837835,
          3175.730100887676,
          -10072.875118803535,
          -5806.077052611823,
          -6051.798027149638,
          11039.026942031704,
          -4972.9221411299695,
          11129.424149229604,
          6644.597612798226,
          -611.8920766835481,
          -879.6961231840219,
          1270.5926186365084,
          -3354.409395492054,
          -3652.0516272195196,
          1535.3200349238616,
          3442.067865401042,
          1691.1469990054984,
          -9514.742122293768,
          -5495.930030665687,
          -11393.264281389042,
          -1006.7942808926979,
          -11385.807297750884,
          10499.407295945573,
          -5228.7735481431,
          -2009.7086141751752,
          -847.3002227743419,
          -13124.391604038403,
          -6112.701966838938,
          -14757.626854505608,
          -5414.451723823098,
          -4197.995995572507,
          -907.6690876091201,
          4241.775895153042,
          -2601.869628345949,
          1797.8692846207493,
          -860.4354477953847,
          13091.374153516676,
          -4333.353171495316,
          106.44730782999585,
          -5414.849621380298,
          -1148.5927138363177,
          834.6063416853509,
          -182.8750970629018,
          -12401.01261442263,
          384.4886537787828,
          -15876.014194933869,
          2392.9514000132285,
          -4856.160277619083,
          -9604.9761012314,
          -3578.6411667637362,
          3594.0424216908277,
          -5713.3044750317185,
          -7793.454352086527,
          -18832.323089995098,
          277.319454718033,
          2456.114942910879,
          3385.822049131316,
          -1867.5011952055172,
          -4025.534586861496,
          -5506.504775277302,
          1380.9095854822554,
          -1254.79610508228,
          1223.3332842063526,
          -10817.514881421737,
          375.6120252474113,
          -18377.080919160893,
          -7740.904879089722,
          -9600.00952571689,
          -284.93461613175197,
          -15159.90191624567,
          -4335.1212236682495,
          -3902.650760127407,
          -9955.59900050197,
          8122.080380415538,
          5073.48735652234,
          871.0561448640398,
          3735.2223001205393,
          -8175.944783841653,
          -7927.279393999563,
          -3222.02849711765,
          2663.8141427242567
         ],
         "xaxis": "x",
         "y": [
          6638.189488143047,
          3684.6952959403593,
          3500.5964543132527,
          4314.803908984968,
          4177.140129281849,
          4273.2053018476345,
          4711.285967238692,
          3078.8964384945925,
          4688.370746949259,
          6211.274488459199,
          5556.666139133818,
          5713.442041909502,
          5468.743274286696,
          4638.724240674151,
          5588.800602998204,
          5174.470545977292,
          4771.515153180693,
          3424.0736039052867,
          4277.420432790429,
          3467.5659749114184,
          5223.642330390356,
          3943.117073633912,
          3374.287134293426,
          7146.662858252779,
          4348.095679784136,
          8154.200533863807,
          5701.697575023512,
          4564.617621855316,
          4795.659622307598,
          5996.549152653394,
          5267.352553209776,
          6862.247572080609,
          4852.444518767338,
          3973.906997486513,
          5506.99662291386,
          5127.949261280455,
          5318.281993622226,
          5982.858221439131,
          4875.412034392041,
          4012.2154933423153,
          4468.268102563843,
          7267.328542397003,
          5001.420783196851,
          6342.036901878027,
          5401.8216969671685,
          5711.628393266969,
          6334.243251982045,
          5164.690387393576,
          5205.840154213878,
          5507.674538617933,
          5692.0917043594,
          5512.8098884721,
          5207.221097509009,
          7423.315368546435,
          6502.207882775591,
          5070.4130984363255,
          6393.584927460237,
          5058.593507665866,
          3532.7508016456372,
          6026.370137728771,
          4575.315245883313,
          6399.679457928578,
          4076.1888638584987,
          6716.389270082329,
          4450.5724650858,
          5121.948177991019,
          5174.060016070751,
          5595.425208078429,
          6237.455006749798,
          4834.953991865887,
          5030.101509904846,
          5245.750156657962,
          6031.597780098117,
          5240.283697626604,
          3413.4609900340324,
          3266.4701832643786,
          4727.0798130553485,
          7033.832306225473,
          5686.132349951808,
          6221.683453940019,
          4384.687289531572,
          5053.974394482308,
          2451.3956456354917,
          6074.10882194004,
          2642.8564628733093,
          4574.029852480233,
          4918.861099714736,
          4039.0497082186084,
          4298.147934215797,
          6617.143404468857,
          3293.925709825786,
          4305.605513370138,
          5484.06221013075,
          5033.927181148623,
          4760.726683836121,
          6827.736752280867,
          5239.834486252132,
          4092.5868105824957,
          4906.8213691170085,
          4571.311601888513,
          5435.293808150464,
          5122.298575466133,
          7150.2656862042095,
          5008.012103778606,
          6401.496850378555,
          4646.423038232094,
          4662.571801362162,
          4854.373611538006,
          5720.063910631848,
          3616.906622264862,
          1366.2175061913902,
          3878.0740056043546,
          6791.12172798713,
          5019.54507186586,
          4509.37894804773,
          6154.518606181514,
          5141.101367432591,
          4411.324353776285,
          6731.622371228144,
          6845.14181437128,
          7337.462584330767,
          5992.684094109708,
          6861.841710581506,
          5517.456998799792,
          4687.331305792245,
          5244.223767536205,
          6098.407171499208,
          5788.853893383747,
          6823.253328040567,
          5152.077722121314,
          5539.978254276126,
          4513.159427781256,
          2685.6626854367955,
          5644.55219961427,
          6298.430178867734,
          5567.112673818731,
          6380.915494292793,
          5666.3679547527,
          6677.482101590937,
          5049.606296947775,
          5086.374324713103,
          5133.639471687387,
          4923.281603355223,
          4064.008336080809,
          5573.243592768729,
          2658.297518890413,
          5499.3393327217655,
          4085.3122504461207,
          4731.01205876093,
          5244.4368093489165,
          5689.0004530919105,
          4370.467828822717,
          5599.274828311293,
          5673.527728610804,
          4129.1811894163575,
          3399.1203547303226
         ],
         "yaxis": "y"
        },
        {
         "customdata": [
          [
           37
          ],
          [
           65
          ],
          [
           90
          ],
          [
           59
          ],
          [
           29
          ],
          [
           58
          ],
          [
           88
          ],
          [
           63
          ],
          [
           92
          ],
          [
           17
          ],
          [
           34
          ],
          [
           22
          ],
          [
           24
          ],
          [
           36
          ],
          [
           34
          ],
          [
           87
          ],
          [
           85
          ],
          [
           61
          ],
          [
           27
          ],
          [
           59
          ],
          [
           31
          ],
          [
           31
          ],
          [
           93
          ],
          [
           17
          ],
          [
           35
          ],
          [
           28
          ],
          [
           94
          ],
          [
           28
          ],
          [
           33
          ],
          [
           56
          ],
          [
           28
          ],
          [
           86
          ],
          [
           92
          ],
          [
           18
          ],
          [
           61
          ],
          [
           32
          ],
          [
           63
          ],
          [
           58
          ],
          [
           31
          ],
          [
           62
          ],
          [
           60
          ],
          [
           62
          ],
          [
           90
          ],
          [
           33
          ],
          [
           33
          ],
          [
           65
          ],
          [
           59
          ],
          [
           65
          ],
          [
           86
          ],
          [
           32
          ],
          [
           84
          ],
          [
           84
          ],
          [
           90
          ],
          [
           91
          ],
          [
           26
          ],
          [
           92
          ],
          [
           97
          ],
          [
           84
          ],
          [
           58
          ],
          [
           61
          ],
          [
           92
          ],
          [
           87
          ],
          [
           66
          ],
          [
           22
          ],
          [
           91
          ],
          [
           30
          ],
          [
           25
          ],
          [
           28
          ],
          [
           93
          ],
          [
           90
          ],
          [
           91
          ],
          [
           89
          ]
         ],
         "hoverlabel": {
          "namelength": 0
         },
         "hovertemplate": "Cluster=Cluster 3<br>PCA1=%{x}<br>PCA2=%{y}<br>Feature=%{customdata[0]}",
         "legendgroup": "Cluster=Cluster 3",
         "marker": {
          "color": "#ab63fa",
          "opacity": 0.5,
          "symbol": "circle"
         },
         "mode": "markers",
         "name": "Cluster=Cluster 3",
         "showlegend": true,
         "textposition": "top center",
         "type": "scatter",
         "x": [
          48551.897791192656,
          42414.13984409394,
          46271.749990668126,
          48029.23598296092,
          62912.4570978057,
          43629.01273923755,
          55587.35173073359,
          56651.455483747486,
          41328.25266331,
          43861.74709102551,
          53899.23405997961,
          44952.90203538895,
          47549.76254622709,
          47842.883679066515,
          59798.17482849974,
          47182.06858155581,
          51395.22435599952,
          57857.28905692232,
          47415.38916240534,
          58984.55027496727,
          48410.009290472306,
          55168.45154506191,
          59803.04557919302,
          53976.79000263131,
          56449.67813828142,
          46993.64108790839,
          53422.55248570126,
          41580.27174463822,
          47836.44839182686,
          48602.57111184022,
          52465.03358665992,
          52263.49410874448,
          50433.851384533344,
          51532.47005840452,
          46000.80248469956,
          63317.06653244292,
          52086.38065892723,
          50397.08389773137,
          43600.216180309784,
          54542.5602609113,
          52679.13742245062,
          54778.91990969145,
          45728.40114434413,
          59239.853528398155,
          41859.1543699756,
          48281.96476402191,
          54230.31142047663,
          49923.23240258633,
          48577.24594456369,
          45920.3038460076,
          45302.57090416744,
          55809.60825993983,
          43084.431301068376,
          48697.328544409975,
          50874.59373315185,
          44074.7443226795,
          47210.61128412962,
          52844.21454083213,
          47518.88131856793,
          53924.59703955878,
          42157.80542870099,
          66750.62108457656,
          45280.296457487646,
          61617.256021857225,
          61085.16181542693,
          41933.87634909211,
          55783.42885801494,
          42045.7957025714,
          55795.99791496396,
          45049.7130377485,
          59196.59308633913,
          47964.552261386925
         ],
         "xaxis": "x",
         "y": [
          4668.214697412172,
          -5432.281819509646,
          4207.414796612182,
          5422.323757682562,
          5261.355213266388,
          -6254.840941209126,
          3427.135195258811,
          4271.292185091135,
          -4823.645899335598,
          -6877.035883382069,
          3176.7468854090916,
          -4985.514801220399,
          3437.896482394781,
          4758.188729714915,
          4315.7517925590655,
          -4557.71660179188,
          5657.241494980818,
          5717.501137167641,
          4709.388807631826,
          3350.7116179336463,
          -5693.66544115745,
          4016.9816222016157,
          8450.307562492611,
          5488.389984582107,
          5101.398697367521,
          -4647.129088588652,
          3894.2354791277485,
          -5615.560772408642,
          6059.983323374549,
          6249.537360930082,
          3371.533065013099,
          5916.358054129831,
          -6854.206134077957,
          6006.733833662531,
          3884.452851319084,
          4946.1775101205085,
          3388.4270346813746,
          2890.550968564705,
          -5657.478831520008,
          4193.8829993723075,
          -4749.057025715367,
          4629.791365281098,
          3658.306501252222,
          4745.144589124808,
          -4543.326267067198,
          8499.966944599806,
          3238.4287703236855,
          6048.724079227707,
          -6305.307759672733,
          -4953.921129423365,
          3778.1814213096077,
          3879.1497332626554,
          -4660.85562244451,
          5282.497809754307,
          -5178.052813440074,
          -6307.669140625979,
          6674.234677495919,
          -5677.667475551913,
          4941.99936297327,
          5765.842845736465,
          -5954.454601851145,
          2693.008186621751,
          4437.356566167739,
          6726.313750520614,
          4243.721728508765,
          4717.997205237609,
          4732.087714707706,
          -3106.1034758683604,
          4252.897540706997,
          4590.872583456105,
          3903.9749268153687,
          -4397.186114919681
         ],
         "yaxis": "y"
        }
       ],
       "layout": {
        "height": 600,
        "legend": {
         "tracegroupgap": 0
        },
        "margin": {
         "t": 60
        },
        "plot_bgcolor": "rgb(240,240,240)",
        "template": {
         "data": {
          "bar": [
           {
            "error_x": {
             "color": "#2a3f5f"
            },
            "error_y": {
             "color": "#2a3f5f"
            },
            "marker": {
             "line": {
              "color": "#E5ECF6",
              "width": 0.5
             }
            },
            "type": "bar"
           }
          ],
          "barpolar": [
           {
            "marker": {
             "line": {
              "color": "#E5ECF6",
              "width": 0.5
             }
            },
            "type": "barpolar"
           }
          ],
          "carpet": [
           {
            "aaxis": {
             "endlinecolor": "#2a3f5f",
             "gridcolor": "white",
             "linecolor": "white",
             "minorgridcolor": "white",
             "startlinecolor": "#2a3f5f"
            },
            "baxis": {
             "endlinecolor": "#2a3f5f",
             "gridcolor": "white",
             "linecolor": "white",
             "minorgridcolor": "white",
             "startlinecolor": "#2a3f5f"
            },
            "type": "carpet"
           }
          ],
          "choropleth": [
           {
            "colorbar": {
             "outlinewidth": 0,
             "ticks": ""
            },
            "type": "choropleth"
           }
          ],
          "contour": [
           {
            "colorbar": {
             "outlinewidth": 0,
             "ticks": ""
            },
            "colorscale": [
             [
              0,
              "#0d0887"
             ],
             [
              0.1111111111111111,
              "#46039f"
             ],
             [
              0.2222222222222222,
              "#7201a8"
             ],
             [
              0.3333333333333333,
              "#9c179e"
             ],
             [
              0.4444444444444444,
              "#bd3786"
             ],
             [
              0.5555555555555556,
              "#d8576b"
             ],
             [
              0.6666666666666666,
              "#ed7953"
             ],
             [
              0.7777777777777778,
              "#fb9f3a"
             ],
             [
              0.8888888888888888,
              "#fdca26"
             ],
             [
              1,
              "#f0f921"
             ]
            ],
            "type": "contour"
           }
          ],
          "contourcarpet": [
           {
            "colorbar": {
             "outlinewidth": 0,
             "ticks": ""
            },
            "type": "contourcarpet"
           }
          ],
          "heatmap": [
           {
            "colorbar": {
             "outlinewidth": 0,
             "ticks": ""
            },
            "colorscale": [
             [
              0,
              "#0d0887"
             ],
             [
              0.1111111111111111,
              "#46039f"
             ],
             [
              0.2222222222222222,
              "#7201a8"
             ],
             [
              0.3333333333333333,
              "#9c179e"
             ],
             [
              0.4444444444444444,
              "#bd3786"
             ],
             [
              0.5555555555555556,
              "#d8576b"
             ],
             [
              0.6666666666666666,
              "#ed7953"
             ],
             [
              0.7777777777777778,
              "#fb9f3a"
             ],
             [
              0.8888888888888888,
              "#fdca26"
             ],
             [
              1,
              "#f0f921"
             ]
            ],
            "type": "heatmap"
           }
          ],
          "heatmapgl": [
           {
            "colorbar": {
             "outlinewidth": 0,
             "ticks": ""
            },
            "colorscale": [
             [
              0,
              "#0d0887"
             ],
             [
              0.1111111111111111,
              "#46039f"
             ],
             [
              0.2222222222222222,
              "#7201a8"
             ],
             [
              0.3333333333333333,
              "#9c179e"
             ],
             [
              0.4444444444444444,
              "#bd3786"
             ],
             [
              0.5555555555555556,
              "#d8576b"
             ],
             [
              0.6666666666666666,
              "#ed7953"
             ],
             [
              0.7777777777777778,
              "#fb9f3a"
             ],
             [
              0.8888888888888888,
              "#fdca26"
             ],
             [
              1,
              "#f0f921"
             ]
            ],
            "type": "heatmapgl"
           }
          ],
          "histogram": [
           {
            "marker": {
             "colorbar": {
              "outlinewidth": 0,
              "ticks": ""
             }
            },
            "type": "histogram"
           }
          ],
          "histogram2d": [
           {
            "colorbar": {
             "outlinewidth": 0,
             "ticks": ""
            },
            "colorscale": [
             [
              0,
              "#0d0887"
             ],
             [
              0.1111111111111111,
              "#46039f"
             ],
             [
              0.2222222222222222,
              "#7201a8"
             ],
             [
              0.3333333333333333,
              "#9c179e"
             ],
             [
              0.4444444444444444,
              "#bd3786"
             ],
             [
              0.5555555555555556,
              "#d8576b"
             ],
             [
              0.6666666666666666,
              "#ed7953"
             ],
             [
              0.7777777777777778,
              "#fb9f3a"
             ],
             [
              0.8888888888888888,
              "#fdca26"
             ],
             [
              1,
              "#f0f921"
             ]
            ],
            "type": "histogram2d"
           }
          ],
          "histogram2dcontour": [
           {
            "colorbar": {
             "outlinewidth": 0,
             "ticks": ""
            },
            "colorscale": [
             [
              0,
              "#0d0887"
             ],
             [
              0.1111111111111111,
              "#46039f"
             ],
             [
              0.2222222222222222,
              "#7201a8"
             ],
             [
              0.3333333333333333,
              "#9c179e"
             ],
             [
              0.4444444444444444,
              "#bd3786"
             ],
             [
              0.5555555555555556,
              "#d8576b"
             ],
             [
              0.6666666666666666,
              "#ed7953"
             ],
             [
              0.7777777777777778,
              "#fb9f3a"
             ],
             [
              0.8888888888888888,
              "#fdca26"
             ],
             [
              1,
              "#f0f921"
             ]
            ],
            "type": "histogram2dcontour"
           }
          ],
          "mesh3d": [
           {
            "colorbar": {
             "outlinewidth": 0,
             "ticks": ""
            },
            "type": "mesh3d"
           }
          ],
          "parcoords": [
           {
            "line": {
             "colorbar": {
              "outlinewidth": 0,
              "ticks": ""
             }
            },
            "type": "parcoords"
           }
          ],
          "pie": [
           {
            "automargin": true,
            "type": "pie"
           }
          ],
          "scatter": [
           {
            "marker": {
             "colorbar": {
              "outlinewidth": 0,
              "ticks": ""
             }
            },
            "type": "scatter"
           }
          ],
          "scatter3d": [
           {
            "line": {
             "colorbar": {
              "outlinewidth": 0,
              "ticks": ""
             }
            },
            "marker": {
             "colorbar": {
              "outlinewidth": 0,
              "ticks": ""
             }
            },
            "type": "scatter3d"
           }
          ],
          "scattercarpet": [
           {
            "marker": {
             "colorbar": {
              "outlinewidth": 0,
              "ticks": ""
             }
            },
            "type": "scattercarpet"
           }
          ],
          "scattergeo": [
           {
            "marker": {
             "colorbar": {
              "outlinewidth": 0,
              "ticks": ""
             }
            },
            "type": "scattergeo"
           }
          ],
          "scattergl": [
           {
            "marker": {
             "colorbar": {
              "outlinewidth": 0,
              "ticks": ""
             }
            },
            "type": "scattergl"
           }
          ],
          "scattermapbox": [
           {
            "marker": {
             "colorbar": {
              "outlinewidth": 0,
              "ticks": ""
             }
            },
            "type": "scattermapbox"
           }
          ],
          "scatterpolar": [
           {
            "marker": {
             "colorbar": {
              "outlinewidth": 0,
              "ticks": ""
             }
            },
            "type": "scatterpolar"
           }
          ],
          "scatterpolargl": [
           {
            "marker": {
             "colorbar": {
              "outlinewidth": 0,
              "ticks": ""
             }
            },
            "type": "scatterpolargl"
           }
          ],
          "scatterternary": [
           {
            "marker": {
             "colorbar": {
              "outlinewidth": 0,
              "ticks": ""
             }
            },
            "type": "scatterternary"
           }
          ],
          "surface": [
           {
            "colorbar": {
             "outlinewidth": 0,
             "ticks": ""
            },
            "colorscale": [
             [
              0,
              "#0d0887"
             ],
             [
              0.1111111111111111,
              "#46039f"
             ],
             [
              0.2222222222222222,
              "#7201a8"
             ],
             [
              0.3333333333333333,
              "#9c179e"
             ],
             [
              0.4444444444444444,
              "#bd3786"
             ],
             [
              0.5555555555555556,
              "#d8576b"
             ],
             [
              0.6666666666666666,
              "#ed7953"
             ],
             [
              0.7777777777777778,
              "#fb9f3a"
             ],
             [
              0.8888888888888888,
              "#fdca26"
             ],
             [
              1,
              "#f0f921"
             ]
            ],
            "type": "surface"
           }
          ],
          "table": [
           {
            "cells": {
             "fill": {
              "color": "#EBF0F8"
             },
             "line": {
              "color": "white"
             }
            },
            "header": {
             "fill": {
              "color": "#C8D4E3"
             },
             "line": {
              "color": "white"
             }
            },
            "type": "table"
           }
          ]
         },
         "layout": {
          "annotationdefaults": {
           "arrowcolor": "#2a3f5f",
           "arrowhead": 0,
           "arrowwidth": 1
          },
          "coloraxis": {
           "colorbar": {
            "outlinewidth": 0,
            "ticks": ""
           }
          },
          "colorscale": {
           "diverging": [
            [
             0,
             "#8e0152"
            ],
            [
             0.1,
             "#c51b7d"
            ],
            [
             0.2,
             "#de77ae"
            ],
            [
             0.3,
             "#f1b6da"
            ],
            [
             0.4,
             "#fde0ef"
            ],
            [
             0.5,
             "#f7f7f7"
            ],
            [
             0.6,
             "#e6f5d0"
            ],
            [
             0.7,
             "#b8e186"
            ],
            [
             0.8,
             "#7fbc41"
            ],
            [
             0.9,
             "#4d9221"
            ],
            [
             1,
             "#276419"
            ]
           ],
           "sequential": [
            [
             0,
             "#0d0887"
            ],
            [
             0.1111111111111111,
             "#46039f"
            ],
            [
             0.2222222222222222,
             "#7201a8"
            ],
            [
             0.3333333333333333,
             "#9c179e"
            ],
            [
             0.4444444444444444,
             "#bd3786"
            ],
            [
             0.5555555555555556,
             "#d8576b"
            ],
            [
             0.6666666666666666,
             "#ed7953"
            ],
            [
             0.7777777777777778,
             "#fb9f3a"
            ],
            [
             0.8888888888888888,
             "#fdca26"
            ],
            [
             1,
             "#f0f921"
            ]
           ],
           "sequentialminus": [
            [
             0,
             "#0d0887"
            ],
            [
             0.1111111111111111,
             "#46039f"
            ],
            [
             0.2222222222222222,
             "#7201a8"
            ],
            [
             0.3333333333333333,
             "#9c179e"
            ],
            [
             0.4444444444444444,
             "#bd3786"
            ],
            [
             0.5555555555555556,
             "#d8576b"
            ],
            [
             0.6666666666666666,
             "#ed7953"
            ],
            [
             0.7777777777777778,
             "#fb9f3a"
            ],
            [
             0.8888888888888888,
             "#fdca26"
            ],
            [
             1,
             "#f0f921"
            ]
           ]
          },
          "colorway": [
           "#636efa",
           "#EF553B",
           "#00cc96",
           "#ab63fa",
           "#FFA15A",
           "#19d3f3",
           "#FF6692",
           "#B6E880",
           "#FF97FF",
           "#FECB52"
          ],
          "font": {
           "color": "#2a3f5f"
          },
          "geo": {
           "bgcolor": "white",
           "lakecolor": "white",
           "landcolor": "#E5ECF6",
           "showlakes": true,
           "showland": true,
           "subunitcolor": "white"
          },
          "hoverlabel": {
           "align": "left"
          },
          "hovermode": "closest",
          "mapbox": {
           "style": "light"
          },
          "paper_bgcolor": "white",
          "plot_bgcolor": "#E5ECF6",
          "polar": {
           "angularaxis": {
            "gridcolor": "white",
            "linecolor": "white",
            "ticks": ""
           },
           "bgcolor": "#E5ECF6",
           "radialaxis": {
            "gridcolor": "white",
            "linecolor": "white",
            "ticks": ""
           }
          },
          "scene": {
           "xaxis": {
            "backgroundcolor": "#E5ECF6",
            "gridcolor": "white",
            "gridwidth": 2,
            "linecolor": "white",
            "showbackground": true,
            "ticks": "",
            "zerolinecolor": "white"
           },
           "yaxis": {
            "backgroundcolor": "#E5ECF6",
            "gridcolor": "white",
            "gridwidth": 2,
            "linecolor": "white",
            "showbackground": true,
            "ticks": "",
            "zerolinecolor": "white"
           },
           "zaxis": {
            "backgroundcolor": "#E5ECF6",
            "gridcolor": "white",
            "gridwidth": 2,
            "linecolor": "white",
            "showbackground": true,
            "ticks": "",
            "zerolinecolor": "white"
           }
          },
          "shapedefaults": {
           "line": {
            "color": "#2a3f5f"
           }
          },
          "ternary": {
           "aaxis": {
            "gridcolor": "white",
            "linecolor": "white",
            "ticks": ""
           },
           "baxis": {
            "gridcolor": "white",
            "linecolor": "white",
            "ticks": ""
           },
           "bgcolor": "#E5ECF6",
           "caxis": {
            "gridcolor": "white",
            "linecolor": "white",
            "ticks": ""
           }
          },
          "title": {
           "x": 0.05
          },
          "xaxis": {
           "automargin": true,
           "gridcolor": "white",
           "linecolor": "white",
           "ticks": "",
           "title": {
            "standoff": 15
           },
           "zerolinecolor": "white",
           "zerolinewidth": 2
          },
          "yaxis": {
           "automargin": true,
           "gridcolor": "white",
           "linecolor": "white",
           "ticks": "",
           "title": {
            "standoff": 15
           },
           "zerolinecolor": "white",
           "zerolinewidth": 2
          }
         }
        },
        "title": {
         "text": "2D Cluster PCA Plot"
        },
        "xaxis": {
         "anchor": "y",
         "domain": [
          0,
          1
         ],
         "title": {
          "text": "PCA1"
         }
        },
        "yaxis": {
         "anchor": "x",
         "domain": [
          0,
          1
         ],
         "title": {
          "text": "PCA2"
         }
        }
       }
      },
      "text/html": [
       "<div>\n",
       "        \n",
       "        \n",
       "            <div id=\"a93021d8-e77f-47aa-aa20-3030af789d29\" class=\"plotly-graph-div\" style=\"height:600px; width:100%;\"></div>\n",
       "            <script type=\"text/javascript\">\n",
       "                require([\"plotly\"], function(Plotly) {\n",
       "                    window.PLOTLYENV=window.PLOTLYENV || {};\n",
       "                    \n",
       "                if (document.getElementById(\"a93021d8-e77f-47aa-aa20-3030af789d29\")) {\n",
       "                    Plotly.newPlot(\n",
       "                        'a93021d8-e77f-47aa-aa20-3030af789d29',\n",
       "                        [{\"customdata\": [[58], [59], [62], [59], [87], [29], [54], [87], [83], [84], [85], [36], [30], [31], [61], [92], [55], [87], [82], [88], [30], [84], [53], [91], [89], [30], [17], [55], [90], [61], [59], [59], [88], [56], [33], [61], [84], [61], [39], [31], [60], [87], [20], [57], [61], [18], [83], [25], [31], [55], [84], [36], [27], [91], [53], [91], [25], [83], [87], [90], [83], [83], [83], [61], [64], [62], [91], [28], [23], [55], [58], [31], [83], [91], [30], [57], [33], [59], [58], [29], [59], [84], [64], [87], [88], [35], [34], [58], [56], [63], [58], [60], [24], [94], [58], [25], [36], [62], [66], [37], [27], [24], [31], [23], [34], [88], [89], [32], [38], [57], [90], [33], [66], [35], [31], [35], [63], [30], [22], [84], [28], [88], [84], [88], [35], [82], [64], [91], [62], [62]], \"hoverlabel\": {\"namelength\": 0}, \"hovertemplate\": \"Cluster=Cluster 0<br>PCA1=%{x}<br>PCA2=%{y}<br>Feature=%{customdata[0]}\", \"legendgroup\": \"Cluster=Cluster 0\", \"marker\": {\"color\": \"#636efa\", \"opacity\": 0.5, \"symbol\": \"circle\"}, \"mode\": \"markers\", \"name\": \"Cluster=Cluster 0\", \"showlegend\": true, \"textposition\": \"top center\", \"type\": \"scatter\", \"x\": [34815.254920538064, 23896.36880790409, 26578.15319626619, 28681.549887585752, 26003.522431925627, 31202.41268247609, 33217.9266109481, 22236.169474372287, 20592.346613007772, 39135.37622313007, 35036.71585548721, 31317.29806455371, 18943.372817813033, 20486.14069594546, 34834.90179465998, 35572.71538685357, 30806.77634195279, 39399.40138181151, 34753.14848573081, 23022.218263126648, 33379.4205846891, 29861.546669621457, 28912.89513619995, 28627.259856400306, 37228.73474520069, 24491.38889864474, 26507.042872359918, 32691.86956168573, 28639.385002450505, 23196.213306438236, 32289.540207166654, 34830.86603735359, 31016.952770667875, 30268.705481263303, 40419.576695104166, 37194.90227907419, 33345.156271231186, 31502.36034296823, 26343.67867390247, 32561.0253600633, 23858.59824002343, 36008.72535912232, 30155.334159636994, 26312.372968927535, 16918.67620110013, 15177.319714667681, 30950.101839682393, 23748.677815454055, 23392.942046850596, 35023.21627080028, 29240.509748648106, 35711.079994329455, 19785.994393274686, 32853.06228369527, 30836.978307627447, 26023.56635140616, 27412.69140542124, 38543.6251229287, 32149.92129268288, 26228.3762864362, 34060.877500473835, 24819.360949497754, 31330.343984524785, 27758.38757580822, 28960.634964946774, 36813.76713420396, 33203.84256888804, 27456.913266673113, 31960.754514207263, 29210.556946439694, 36260.39985707388, 26983.046364278198, 37939.717008912354, 39941.237375096105, 30614.165778553568, 38938.118138714344, 23470.847033328027, 32322.908553122477, 26071.98118135925, 34360.48180735057, 24294.808478346346, 14006.000965365405, 25765.79004232836, 32307.936729140943, 25328.069962281672, 32416.93987389556, 22105.034591078263, 30046.489080926065, 31911.00123936634, 22350.769816321572, 23967.00608797563, 30148.682673916093, 41298.631292835074, 25363.91922672043, 25732.34497219056, 23032.68012465127, 38847.16976776081, 15764.49143141584, 32345.708428700593, 31045.220255678785, 31361.08526779915, 31253.468530449423, 32210.979768642406, 35758.275435536685, 35579.20581580631, 19295.267686809573, 21973.30795044383, 22258.6086685699, 22393.417730180136, 40673.859644327466, 31614.442565419096, 25474.402763797287, 32912.89206331584, 35187.91053468465, 24827.97878054598, 40849.480597690635, 30584.124615113244, 30949.636901997943, 24613.751980326124, 26298.148410246733, 38869.6494526717, 39513.273555432424, 32572.7502723662, 22224.55614343529, 32797.64366935495, 21900.78530003277, 25938.05049675625, 25376.693266073165, 19017.16946491751, 24706.12835284516], \"xaxis\": \"x\", \"y\": [-5108.281670571722, -4653.572550884038, -4542.181472406768, -4194.112454577071, -3786.1336424715296, -4006.880782404124, -4387.404636496325, -4400.042331000773, -4611.587648361572, -4339.707016425756, -6415.699536226249, -6141.763263553495, -6099.926511675159, -4804.203700356799, -5079.540930731749, -4807.665202226775, -5560.204679600002, -5202.090344164468, -4008.589012753901, -4439.122859420632, -4139.053044046939, -4210.491742797323, -5224.554435670842, -3324.8164217780154, -4575.537648425252, -3378.5440905478686, -5484.6746561210975, -6066.457122934576, -3130.9505393461036, -5613.7149464738695, -3634.3413606407385, -5377.229021116214, -4865.0044073172785, -4917.675594824386, -6642.233640263948, -4030.4860762357507, -6080.299826048201, -5081.205331963822, -3863.006874934307, -5658.529147335396, -4857.997302514553, -6111.70517139526, -6491.845916302064, -4286.405360287333, -2877.194607876878, 4253.670268811263, -6274.3994076764575, -4085.3878885407785, -5117.926369906292, -4416.577273256116, -5240.70987990114, -4543.481105344734, -4699.391527469763, -5910.595724540103, -4248.410998779929, -7172.334785619934, -5970.65960581778, -7198.063753004439, -5508.945169399095, -4266.484164687802, -5075.678351149005, -6443.1165674782, -5635.163544619186, -3524.601882041495, -5439.902381792008, -4615.462129870629, -6552.893169384942, -4868.312164441828, -7950.137679904538, -6286.356908964104, -3890.3447962612563, -2897.4181107781205, -4683.44028185975, -5237.495032301004, -4762.434912619337, -4443.1698152763865, -4720.2489254083885, -3681.290385681804, -4687.764619495448, -5038.816440742176, -3156.1748677381524, -1775.6050399833534, -4647.5150918336985, -3401.0815217687777, -4507.81885275907, -3316.873784519851, -4346.187741550609, -2733.109485171264, -2672.9112969661533, -5405.192380070511, -5918.696393593376, -3727.641222685246, -6422.065006311352, -6518.877743618621, -4846.280009746118, -5461.1790445209535, -8209.639308093874, -2149.1522120766244, -2201.720436215355, -4354.880673536975, -4837.589604607754, -4792.8201724446635, -5806.362366658897, -4122.472097486013, -6195.256515402728, -3266.6501002799137, -5227.97230615995, -5195.925409188554, -5150.746928288214, -5771.827716588529, -3948.4131537015073, -4541.161711915865, -4588.664684244311, -4164.858385743972, -5088.608312301609, -5591.4308623525085, -5198.651743783722, -4397.197322284792, -3288.464289351834, -5023.038755192273, -4117.836047019013, -4805.682520520941, -6711.005814772026, -5737.014216399171, -5654.546848389321, -5234.914435436245, -4054.252841897085, -3922.3292073945418, -4587.056600403996, -6304.2868715779405], \"yaxis\": \"y\"}, {\"customdata\": [[34], [60], [32], [65], [24], [88], [82], [26], [60], [31], [85], [63], [56], [28], [58], [26], [62], [86], [56], [91], [59], [28], [85], [65], [94], [86], [30], [62], [85], [59], [30], [83], [66], [31], [88], [28], [85], [64], [33], [62], [89], [61], [29], [56], [92], [62], [60], [85], [88], [94], [62], [64], [29], [27], [31], [87], [32], [63], [58], [62], [32], [93], [59], [61], [53], [82], [28], [32], [89], [84], [87], [29], [58], [29], [55], [25], [60], [88], [24], [56], [95], [89], [86], [85], [60], [87], [29], [23], [31], [89], [58], [56], [37], [89], [29], [23], [34], [64], [63], [85], [62], [59], [92], [67], [58], [58], [38], [57], [31], [36], [25], [66], [64], [59], [90], [68], [35], [84], [24], [29], [28], [81], [57], [37], [91], [82], [36], [31], [61], [64], [83], [63], [55], [86], [57], [94], [37], [26], [57], [37], [88], [61], [91], [84], [43], [59], [90]], \"hoverlabel\": {\"namelength\": 0}, \"hovertemplate\": \"Cluster=Cluster 1<br>PCA1=%{x}<br>PCA2=%{y}<br>Feature=%{customdata[0]}\", \"legendgroup\": \"Cluster=Cluster 1\", \"marker\": {\"color\": \"#EF553B\", \"opacity\": 0.5, \"symbol\": \"circle\"}, \"mode\": \"markers\", \"name\": \"Cluster=Cluster 1\", \"showlegend\": true, \"textposition\": \"top center\", \"type\": \"scatter\", \"x\": [-49206.07297923621, -54413.15855352475, -48754.55322293147, -50446.6872585056, -43231.4779087988, -63656.34758998013, -55368.984275680115, -48469.75822555577, -51191.18311026796, -39063.28667619092, -63634.72200273956, -49952.56386424756, -43811.47262039389, -36822.88272990107, -42594.243001932984, -53514.36608306824, -49610.6750101597, -28705.21282676982, -47927.75615335326, -45504.928216643864, -46897.28720484185, -56491.726161601444, -53103.84791289731, -50055.787564293576, -56854.24491468409, -48459.57885316466, -50029.04867348442, -53329.088908637925, -53484.99044797622, -49274.44239615931, -41272.8953398618, -48254.00622992488, -55116.83601816838, -58771.33010043619, -51459.513505463445, -57750.75774612389, -48448.189821393404, -39916.59061152691, -56820.087553604266, -42172.091423728154, -37510.588011321175, -42253.872877958245, -48890.16204283166, -43012.76978349141, -44821.27195537095, -46206.76070917288, -42432.64509966228, -48329.37521986343, -47000.171708792914, -48496.84792497305, -46522.919419751175, -39882.02333138303, -28723.99191956601, -37730.76934060819, -48762.3646682712, -50504.82314273771, -45508.35388587767, -46108.564418073125, -45148.06214608792, -58127.50387027003, -57495.82751822279, -56178.67327005177, -39708.64698966348, -45316.58140609556, -55300.43835611649, -51304.42079121019, -48867.33422412476, -47072.8327082788, -52350.13688160768, -42485.19893050839, -42546.30928703385, -52508.30353343575, -45053.50115134018, -53120.54070874581, -48031.60033869835, -57516.273183636426, -49855.36023906118, -38870.672641380355, -51858.952852259754, -49618.564251583906, -42334.04767150635, -53905.33080870668, -49083.98904448349, -47366.649393097134, -40276.448131089564, -44316.39097613652, -46888.405898773766, -41183.65207165712, -51006.6259671718, -46621.675189920876, -55003.11473536295, -40392.52353813577, -55837.896212559084, -57945.294009393794, -44891.72694017817, -33223.78792758691, -41229.08532646792, -48086.47161506782, -45889.161245283954, -39730.75492373198, -44207.36919669005, -52745.27199507384, -42152.502819378766, -52957.61629178098, -48338.70466261933, -56895.33602609464, -47591.22511122, -52877.38164603336, -38257.012522678706, -45243.33599570981, -51590.972058113024, -57888.98693798617, -52219.78891026325, -39255.473865513464, -51240.794674902085, -47148.049506652605, -45489.12002421864, -60035.35573518632, -44680.89350931925, -47339.94733410826, -59885.18345080088, -41090.43271162366, -51335.69636219804, -53680.72058527791, -43219.57063079797, -58306.89374121133, -47490.05337363707, -42382.69883203621, -40724.15688509666, -44945.69901444301, -47271.41327624213, -40907.251477988095, -46752.1718911491, -42805.17469366229, -49640.51633393591, -47211.30921897941, -42194.79873495243, -57176.86780610605, -41047.376366850316, -47975.629894303696, -46294.69652581509, -45592.66271459647, -33685.823037835005, -41654.285370916725, -54957.490989172344, -47129.84416342062, -49427.52413702613], \"xaxis\": \"x\", \"y\": [646.5438723752029, -1055.9968931753695, -3476.7575329414058, -1789.8310613735055, -2464.3665067293477, -672.1303645870998, -990.6075970316544, -975.011019926938, -2999.048136853006, -2178.951260878268, -958.536564511077, -1016.3628176053369, -3844.050642994283, -3004.135925035732, -4573.135949676129, -3511.650542757559, -2494.3460158547705, -2125.516573296833, 1139.0677249894068, -1656.4250558163055, -1500.599753550347, -1529.9495201383836, -1838.6646455566608, -458.73293797346935, -1039.8869670204506, -623.0248233972361, -2907.798180135492, -3704.1152030668823, -2964.871161538943, -1819.1411133435672, -2039.051945091479, -3586.392912339362, -3386.6313874278358, -1946.4256348815331, -1443.6312210611675, -1546.7860227984654, -424.49445160247166, -5860.406970913431, -2626.4947601230415, -3482.950924420315, -2385.9306735999726, -2813.4088657561024, -3117.043572435124, -2388.397515567187, -809.2478504066146, -3972.4372911141973, -2804.317598781817, -2106.956548531857, -3258.5927312494296, -1255.0231217175208, -2395.150620327911, -3145.838811669632, -1283.2493416842208, -3447.522865699352, -1902.3037525718125, -2541.1040744024212, -1716.0957515179957, -4704.9007181400775, -918.4435413744579, -3329.424155750389, -874.593832039625, -1450.7318688866628, -2812.640832274528, 72.34189620852388, -2379.445392952535, -1341.6421504993382, -3330.095089314262, -3652.1430220775046, -1271.8366968001826, -1573.1293339464705, -2323.9550250667426, -2003.3795586148942, -3267.8530880659678, -2373.9068521136164, -2520.879670925899, -2662.237917413058, -2551.6409458673, -4966.632983631629, -1998.3145148841265, -1200.4987085747016, -946.4427010468278, 776.721355182879, -2706.954245859542, -2226.5238835946834, -3159.403065288739, -1681.1078093986168, -1747.2845158743758, -2299.177576458252, 1229.6342021037985, -1061.392829700629, -1806.3716349634756, -1918.0706539765363, -2913.151326193393, -1690.2235244245405, -1059.5099705589173, -4327.599800404027, -559.8887343311571, -3267.6645334787445, -3656.86004052312, -3215.3117531036187, -1788.5950192551397, -3270.250012030126, -3595.426499455153, -512.1681616652367, -296.9479102201372, -219.8356734403219, -2876.016821854163, -1034.0462861180692, -3209.705699855122, -2386.7446703879705, -1709.6809922654036, -2297.4104284560153, -361.82287722906113, -2456.0624695072065, -337.58311029945975, -948.1700320034148, -857.2365574199126, -2067.7852022028583, -3320.238109106743, -2756.2104567652163, 968.182184170174, -2507.468037848858, -2253.324954790314, -1523.1531827794768, -982.6374045457438, -1498.307062590401, -1025.6556377131592, -1026.217828121943, -3403.3549980948774, -2663.4363034143594, -1422.2632521531468, -2247.72309806976, -4260.667936777423, -2383.9235864924353, -2403.4526565005276, -497.02873214681574, -2831.244972649777, -500.38222602903636, 163.0086019424052, -2697.4806496368724, -3445.140762666877, -1858.7415428672748, -2359.981060852438, -1284.2763352326028, -1273.034090967155, -2166.945526513025, -3282.4967836895175], \"yaxis\": \"y\"}, {\"customdata\": [[88], [59], [59], [88], [37], [33], [90], [31], [90], [91], [29], [83], [84], [87], [22], [58], [31], [33], [56], [30], [85], [87], [34], [61], [30], [88], [56], [30], [25], [61], [88], [37], [35], [85], [85], [88], [59], [90], [33], [62], [59], [91], [33], [87], [26], [88], [24], [91], [86], [36], [87], [33], [59], [29], [59], [57], [40], [42], [89], [93], [17], [24], [34], [90], [20], [92], [84], [59], [61], [67], [82], [94], [28], [36], [91], [34], [77], [63], [35], [21], [86], [56], [83], [28], [59], [83], [83], [58], [91], [29], [61], [84], [34], [33], [55], [88], [91], [91], [84], [87], [39], [38], [89], [59], [35], [59], [87], [94], [86], [60], [79], [86], [60], [85], [92], [37], [89], [67], [31], [20], [37], [57], [87], [33], [56], [67], [58], [89], [34], [25], [44], [68], [31], [58], [55], [21], [36], [88], [26], [29], [38], [79], [51], [82], [39], [87], [36], [57], [61], [86], [86], [35], [89], [30], [60], [64]], \"hoverlabel\": {\"namelength\": 0}, \"hovertemplate\": \"Cluster=Cluster 2<br>PCA1=%{x}<br>PCA2=%{y}<br>Feature=%{customdata[0]}\", \"legendgroup\": \"Cluster=Cluster 2\", \"marker\": {\"color\": \"#00cc96\", \"opacity\": 0.5, \"symbol\": \"circle\"}, \"mode\": \"markers\", \"name\": \"Cluster=Cluster 2\", \"showlegend\": true, \"textposition\": \"top center\", \"type\": \"scatter\", \"x\": [3574.867628285129, -1709.0067116984417, -6075.723945911874, 5619.125538763625, -2220.635450610069, -1755.366356398994, 5679.935032255552, -4114.665812502668, -4883.720561797818, -10371.487057071718, -5149.414552966313, 4615.604589783889, 1855.0479869186813, -967.134529229484, 7017.407229806945, -4794.73018597246, -811.2733012583066, 5122.282562298915, -12402.61400603574, -7981.746810683438, 2868.675335891807, 4968.7646458745685, 7034.56699184687, -9176.939917160447, -805.5182840466975, -6214.3549177563755, -7827.504392605748, -7225.656651496557, -6586.375015596345, -9270.983246113972, -1864.5940590614457, -9823.292971418654, 3607.6218475354435, 1547.9124395594222, -3147.9716901024017, -3197.7706749317113, -3127.7464754071875, -10419.650727093274, -4661.643199436447, 3333.037008198886, -4588.8456828873295, -1424.296852785253, -11770.096221904694, -7431.1699465929505, -6270.13005770464, -5787.584457334292, -7793.2115089141635, 2555.7842351602103, -5898.7444796811515, -5327.512619806886, -1710.0091006297775, -2630.794135208185, 1381.2925438038915, -10238.837928743034, -2329.6167597527697, -3536.624899618869, -11570.013629472292, -12594.175242128533, -3881.279223544835, -9447.566957019662, -4595.725467462926, 5567.478117111802, 9121.208329826173, 4848.442764387976, 499.4966180961311, -4176.7226317043105, -6529.597912750257, -7423.928769536232, -9153.992100917843, 4864.683651412994, -7249.028129796932, 7325.2561894926885, 1198.215527285722, -6945.490220855902, -5628.98377140921, -6874.4473005837835, 3175.730100887676, -10072.875118803535, -5806.077052611823, -6051.798027149638, 11039.026942031704, -4972.9221411299695, 11129.424149229604, 6644.597612798226, -611.8920766835481, -879.6961231840219, 1270.5926186365084, -3354.409395492054, -3652.0516272195196, 1535.3200349238616, 3442.067865401042, 1691.1469990054984, -9514.742122293768, -5495.930030665687, -11393.264281389042, -1006.7942808926979, -11385.807297750884, 10499.407295945573, -5228.7735481431, -2009.7086141751752, -847.3002227743419, -13124.391604038403, -6112.701966838938, -14757.626854505608, -5414.451723823098, -4197.995995572507, -907.6690876091201, 4241.775895153042, -2601.869628345949, 1797.8692846207493, -860.4354477953847, 13091.374153516676, -4333.353171495316, 106.44730782999585, -5414.849621380298, -1148.5927138363177, 834.6063416853509, -182.8750970629018, -12401.01261442263, 384.4886537787828, -15876.014194933869, 2392.9514000132285, -4856.160277619083, -9604.9761012314, -3578.6411667637362, 3594.0424216908277, -5713.3044750317185, -7793.454352086527, -18832.323089995098, 277.319454718033, 2456.114942910879, 3385.822049131316, -1867.5011952055172, -4025.534586861496, -5506.504775277302, 1380.9095854822554, -1254.79610508228, 1223.3332842063526, -10817.514881421737, 375.6120252474113, -18377.080919160893, -7740.904879089722, -9600.00952571689, -284.93461613175197, -15159.90191624567, -4335.1212236682495, -3902.650760127407, -9955.59900050197, 8122.080380415538, 5073.48735652234, 871.0561448640398, 3735.2223001205393, -8175.944783841653, -7927.279393999563, -3222.02849711765, 2663.8141427242567], \"xaxis\": \"x\", \"y\": [6638.189488143047, 3684.6952959403593, 3500.5964543132527, 4314.803908984968, 4177.140129281849, 4273.2053018476345, 4711.285967238692, 3078.8964384945925, 4688.370746949259, 6211.274488459199, 5556.666139133818, 5713.442041909502, 5468.743274286696, 4638.724240674151, 5588.800602998204, 5174.470545977292, 4771.515153180693, 3424.0736039052867, 4277.420432790429, 3467.5659749114184, 5223.642330390356, 3943.117073633912, 3374.287134293426, 7146.662858252779, 4348.095679784136, 8154.200533863807, 5701.697575023512, 4564.617621855316, 4795.659622307598, 5996.549152653394, 5267.352553209776, 6862.247572080609, 4852.444518767338, 3973.906997486513, 5506.99662291386, 5127.949261280455, 5318.281993622226, 5982.858221439131, 4875.412034392041, 4012.2154933423153, 4468.268102563843, 7267.328542397003, 5001.420783196851, 6342.036901878027, 5401.8216969671685, 5711.628393266969, 6334.243251982045, 5164.690387393576, 5205.840154213878, 5507.674538617933, 5692.0917043594, 5512.8098884721, 5207.221097509009, 7423.315368546435, 6502.207882775591, 5070.4130984363255, 6393.584927460237, 5058.593507665866, 3532.7508016456372, 6026.370137728771, 4575.315245883313, 6399.679457928578, 4076.1888638584987, 6716.389270082329, 4450.5724650858, 5121.948177991019, 5174.060016070751, 5595.425208078429, 6237.455006749798, 4834.953991865887, 5030.101509904846, 5245.750156657962, 6031.597780098117, 5240.283697626604, 3413.4609900340324, 3266.4701832643786, 4727.0798130553485, 7033.832306225473, 5686.132349951808, 6221.683453940019, 4384.687289531572, 5053.974394482308, 2451.3956456354917, 6074.10882194004, 2642.8564628733093, 4574.029852480233, 4918.861099714736, 4039.0497082186084, 4298.147934215797, 6617.143404468857, 3293.925709825786, 4305.605513370138, 5484.06221013075, 5033.927181148623, 4760.726683836121, 6827.736752280867, 5239.834486252132, 4092.5868105824957, 4906.8213691170085, 4571.311601888513, 5435.293808150464, 5122.298575466133, 7150.2656862042095, 5008.012103778606, 6401.496850378555, 4646.423038232094, 4662.571801362162, 4854.373611538006, 5720.063910631848, 3616.906622264862, 1366.2175061913902, 3878.0740056043546, 6791.12172798713, 5019.54507186586, 4509.37894804773, 6154.518606181514, 5141.101367432591, 4411.324353776285, 6731.622371228144, 6845.14181437128, 7337.462584330767, 5992.684094109708, 6861.841710581506, 5517.456998799792, 4687.331305792245, 5244.223767536205, 6098.407171499208, 5788.853893383747, 6823.253328040567, 5152.077722121314, 5539.978254276126, 4513.159427781256, 2685.6626854367955, 5644.55219961427, 6298.430178867734, 5567.112673818731, 6380.915494292793, 5666.3679547527, 6677.482101590937, 5049.606296947775, 5086.374324713103, 5133.639471687387, 4923.281603355223, 4064.008336080809, 5573.243592768729, 2658.297518890413, 5499.3393327217655, 4085.3122504461207, 4731.01205876093, 5244.4368093489165, 5689.0004530919105, 4370.467828822717, 5599.274828311293, 5673.527728610804, 4129.1811894163575, 3399.1203547303226], \"yaxis\": \"y\"}, {\"customdata\": [[37], [65], [90], [59], [29], [58], [88], [63], [92], [17], [34], [22], [24], [36], [34], [87], [85], [61], [27], [59], [31], [31], [93], [17], [35], [28], [94], [28], [33], [56], [28], [86], [92], [18], [61], [32], [63], [58], [31], [62], [60], [62], [90], [33], [33], [65], [59], [65], [86], [32], [84], [84], [90], [91], [26], [92], [97], [84], [58], [61], [92], [87], [66], [22], [91], [30], [25], [28], [93], [90], [91], [89]], \"hoverlabel\": {\"namelength\": 0}, \"hovertemplate\": \"Cluster=Cluster 3<br>PCA1=%{x}<br>PCA2=%{y}<br>Feature=%{customdata[0]}\", \"legendgroup\": \"Cluster=Cluster 3\", \"marker\": {\"color\": \"#ab63fa\", \"opacity\": 0.5, \"symbol\": \"circle\"}, \"mode\": \"markers\", \"name\": \"Cluster=Cluster 3\", \"showlegend\": true, \"textposition\": \"top center\", \"type\": \"scatter\", \"x\": [48551.897791192656, 42414.13984409394, 46271.749990668126, 48029.23598296092, 62912.4570978057, 43629.01273923755, 55587.35173073359, 56651.455483747486, 41328.25266331, 43861.74709102551, 53899.23405997961, 44952.90203538895, 47549.76254622709, 47842.883679066515, 59798.17482849974, 47182.06858155581, 51395.22435599952, 57857.28905692232, 47415.38916240534, 58984.55027496727, 48410.009290472306, 55168.45154506191, 59803.04557919302, 53976.79000263131, 56449.67813828142, 46993.64108790839, 53422.55248570126, 41580.27174463822, 47836.44839182686, 48602.57111184022, 52465.03358665992, 52263.49410874448, 50433.851384533344, 51532.47005840452, 46000.80248469956, 63317.06653244292, 52086.38065892723, 50397.08389773137, 43600.216180309784, 54542.5602609113, 52679.13742245062, 54778.91990969145, 45728.40114434413, 59239.853528398155, 41859.1543699756, 48281.96476402191, 54230.31142047663, 49923.23240258633, 48577.24594456369, 45920.3038460076, 45302.57090416744, 55809.60825993983, 43084.431301068376, 48697.328544409975, 50874.59373315185, 44074.7443226795, 47210.61128412962, 52844.21454083213, 47518.88131856793, 53924.59703955878, 42157.80542870099, 66750.62108457656, 45280.296457487646, 61617.256021857225, 61085.16181542693, 41933.87634909211, 55783.42885801494, 42045.7957025714, 55795.99791496396, 45049.7130377485, 59196.59308633913, 47964.552261386925], \"xaxis\": \"x\", \"y\": [4668.214697412172, -5432.281819509646, 4207.414796612182, 5422.323757682562, 5261.355213266388, -6254.840941209126, 3427.135195258811, 4271.292185091135, -4823.645899335598, -6877.035883382069, 3176.7468854090916, -4985.514801220399, 3437.896482394781, 4758.188729714915, 4315.7517925590655, -4557.71660179188, 5657.241494980818, 5717.501137167641, 4709.388807631826, 3350.7116179336463, -5693.66544115745, 4016.9816222016157, 8450.307562492611, 5488.389984582107, 5101.398697367521, -4647.129088588652, 3894.2354791277485, -5615.560772408642, 6059.983323374549, 6249.537360930082, 3371.533065013099, 5916.358054129831, -6854.206134077957, 6006.733833662531, 3884.452851319084, 4946.1775101205085, 3388.4270346813746, 2890.550968564705, -5657.478831520008, 4193.8829993723075, -4749.057025715367, 4629.791365281098, 3658.306501252222, 4745.144589124808, -4543.326267067198, 8499.966944599806, 3238.4287703236855, 6048.724079227707, -6305.307759672733, -4953.921129423365, 3778.1814213096077, 3879.1497332626554, -4660.85562244451, 5282.497809754307, -5178.052813440074, -6307.669140625979, 6674.234677495919, -5677.667475551913, 4941.99936297327, 5765.842845736465, -5954.454601851145, 2693.008186621751, 4437.356566167739, 6726.313750520614, 4243.721728508765, 4717.997205237609, 4732.087714707706, -3106.1034758683604, 4252.897540706997, 4590.872583456105, 3903.9749268153687, -4397.186114919681], \"yaxis\": \"y\"}],\n",
       "                        {\"height\": 600, \"legend\": {\"tracegroupgap\": 0}, \"margin\": {\"t\": 60}, \"plot_bgcolor\": \"rgb(240,240,240)\", \"template\": {\"data\": {\"bar\": [{\"error_x\": {\"color\": \"#2a3f5f\"}, \"error_y\": {\"color\": \"#2a3f5f\"}, \"marker\": {\"line\": {\"color\": \"#E5ECF6\", \"width\": 0.5}}, \"type\": \"bar\"}], \"barpolar\": [{\"marker\": {\"line\": {\"color\": \"#E5ECF6\", \"width\": 0.5}}, \"type\": \"barpolar\"}], \"carpet\": [{\"aaxis\": {\"endlinecolor\": \"#2a3f5f\", \"gridcolor\": \"white\", \"linecolor\": \"white\", \"minorgridcolor\": \"white\", \"startlinecolor\": \"#2a3f5f\"}, \"baxis\": {\"endlinecolor\": \"#2a3f5f\", \"gridcolor\": \"white\", \"linecolor\": \"white\", \"minorgridcolor\": \"white\", \"startlinecolor\": \"#2a3f5f\"}, \"type\": \"carpet\"}], \"choropleth\": [{\"colorbar\": {\"outlinewidth\": 0, \"ticks\": \"\"}, \"type\": \"choropleth\"}], \"contour\": [{\"colorbar\": {\"outlinewidth\": 0, \"ticks\": \"\"}, \"colorscale\": [[0.0, \"#0d0887\"], [0.1111111111111111, \"#46039f\"], [0.2222222222222222, \"#7201a8\"], [0.3333333333333333, \"#9c179e\"], [0.4444444444444444, \"#bd3786\"], [0.5555555555555556, \"#d8576b\"], [0.6666666666666666, \"#ed7953\"], [0.7777777777777778, \"#fb9f3a\"], [0.8888888888888888, \"#fdca26\"], [1.0, \"#f0f921\"]], \"type\": \"contour\"}], \"contourcarpet\": [{\"colorbar\": {\"outlinewidth\": 0, \"ticks\": \"\"}, \"type\": \"contourcarpet\"}], \"heatmap\": [{\"colorbar\": {\"outlinewidth\": 0, \"ticks\": \"\"}, \"colorscale\": [[0.0, \"#0d0887\"], [0.1111111111111111, \"#46039f\"], [0.2222222222222222, \"#7201a8\"], [0.3333333333333333, \"#9c179e\"], [0.4444444444444444, \"#bd3786\"], [0.5555555555555556, \"#d8576b\"], [0.6666666666666666, \"#ed7953\"], [0.7777777777777778, \"#fb9f3a\"], [0.8888888888888888, \"#fdca26\"], [1.0, \"#f0f921\"]], \"type\": \"heatmap\"}], \"heatmapgl\": [{\"colorbar\": {\"outlinewidth\": 0, \"ticks\": \"\"}, \"colorscale\": [[0.0, \"#0d0887\"], [0.1111111111111111, \"#46039f\"], [0.2222222222222222, \"#7201a8\"], [0.3333333333333333, \"#9c179e\"], [0.4444444444444444, \"#bd3786\"], [0.5555555555555556, \"#d8576b\"], [0.6666666666666666, \"#ed7953\"], [0.7777777777777778, \"#fb9f3a\"], [0.8888888888888888, \"#fdca26\"], [1.0, \"#f0f921\"]], \"type\": \"heatmapgl\"}], \"histogram\": [{\"marker\": {\"colorbar\": {\"outlinewidth\": 0, \"ticks\": \"\"}}, \"type\": \"histogram\"}], \"histogram2d\": [{\"colorbar\": {\"outlinewidth\": 0, \"ticks\": \"\"}, \"colorscale\": [[0.0, \"#0d0887\"], [0.1111111111111111, \"#46039f\"], [0.2222222222222222, \"#7201a8\"], [0.3333333333333333, \"#9c179e\"], [0.4444444444444444, \"#bd3786\"], [0.5555555555555556, \"#d8576b\"], [0.6666666666666666, \"#ed7953\"], [0.7777777777777778, \"#fb9f3a\"], [0.8888888888888888, \"#fdca26\"], [1.0, \"#f0f921\"]], \"type\": \"histogram2d\"}], \"histogram2dcontour\": [{\"colorbar\": {\"outlinewidth\": 0, \"ticks\": \"\"}, \"colorscale\": [[0.0, \"#0d0887\"], [0.1111111111111111, \"#46039f\"], [0.2222222222222222, \"#7201a8\"], [0.3333333333333333, \"#9c179e\"], [0.4444444444444444, \"#bd3786\"], [0.5555555555555556, \"#d8576b\"], [0.6666666666666666, \"#ed7953\"], [0.7777777777777778, \"#fb9f3a\"], [0.8888888888888888, \"#fdca26\"], [1.0, \"#f0f921\"]], \"type\": \"histogram2dcontour\"}], \"mesh3d\": [{\"colorbar\": {\"outlinewidth\": 0, \"ticks\": \"\"}, \"type\": \"mesh3d\"}], \"parcoords\": [{\"line\": {\"colorbar\": {\"outlinewidth\": 0, \"ticks\": \"\"}}, \"type\": \"parcoords\"}], \"pie\": [{\"automargin\": true, \"type\": \"pie\"}], \"scatter\": [{\"marker\": {\"colorbar\": {\"outlinewidth\": 0, \"ticks\": \"\"}}, \"type\": \"scatter\"}], \"scatter3d\": [{\"line\": {\"colorbar\": {\"outlinewidth\": 0, \"ticks\": \"\"}}, \"marker\": {\"colorbar\": {\"outlinewidth\": 0, \"ticks\": \"\"}}, \"type\": \"scatter3d\"}], \"scattercarpet\": [{\"marker\": {\"colorbar\": {\"outlinewidth\": 0, \"ticks\": \"\"}}, \"type\": \"scattercarpet\"}], \"scattergeo\": [{\"marker\": {\"colorbar\": {\"outlinewidth\": 0, \"ticks\": \"\"}}, \"type\": \"scattergeo\"}], \"scattergl\": [{\"marker\": {\"colorbar\": {\"outlinewidth\": 0, \"ticks\": \"\"}}, \"type\": \"scattergl\"}], \"scattermapbox\": [{\"marker\": {\"colorbar\": {\"outlinewidth\": 0, \"ticks\": \"\"}}, \"type\": \"scattermapbox\"}], \"scatterpolar\": [{\"marker\": {\"colorbar\": {\"outlinewidth\": 0, \"ticks\": \"\"}}, \"type\": \"scatterpolar\"}], \"scatterpolargl\": [{\"marker\": {\"colorbar\": {\"outlinewidth\": 0, \"ticks\": \"\"}}, \"type\": \"scatterpolargl\"}], \"scatterternary\": [{\"marker\": {\"colorbar\": {\"outlinewidth\": 0, \"ticks\": \"\"}}, \"type\": \"scatterternary\"}], \"surface\": [{\"colorbar\": {\"outlinewidth\": 0, \"ticks\": \"\"}, \"colorscale\": [[0.0, \"#0d0887\"], [0.1111111111111111, \"#46039f\"], [0.2222222222222222, \"#7201a8\"], [0.3333333333333333, \"#9c179e\"], [0.4444444444444444, \"#bd3786\"], [0.5555555555555556, \"#d8576b\"], [0.6666666666666666, \"#ed7953\"], [0.7777777777777778, \"#fb9f3a\"], [0.8888888888888888, \"#fdca26\"], [1.0, \"#f0f921\"]], \"type\": \"surface\"}], \"table\": [{\"cells\": {\"fill\": {\"color\": \"#EBF0F8\"}, \"line\": {\"color\": \"white\"}}, \"header\": {\"fill\": {\"color\": \"#C8D4E3\"}, \"line\": {\"color\": \"white\"}}, \"type\": \"table\"}]}, \"layout\": {\"annotationdefaults\": {\"arrowcolor\": \"#2a3f5f\", \"arrowhead\": 0, \"arrowwidth\": 1}, \"coloraxis\": {\"colorbar\": {\"outlinewidth\": 0, \"ticks\": \"\"}}, \"colorscale\": {\"diverging\": [[0, \"#8e0152\"], [0.1, \"#c51b7d\"], [0.2, \"#de77ae\"], [0.3, \"#f1b6da\"], [0.4, \"#fde0ef\"], [0.5, \"#f7f7f7\"], [0.6, \"#e6f5d0\"], [0.7, \"#b8e186\"], [0.8, \"#7fbc41\"], [0.9, \"#4d9221\"], [1, \"#276419\"]], \"sequential\": [[0.0, \"#0d0887\"], [0.1111111111111111, \"#46039f\"], [0.2222222222222222, \"#7201a8\"], [0.3333333333333333, \"#9c179e\"], [0.4444444444444444, \"#bd3786\"], [0.5555555555555556, \"#d8576b\"], [0.6666666666666666, \"#ed7953\"], [0.7777777777777778, \"#fb9f3a\"], [0.8888888888888888, \"#fdca26\"], [1.0, \"#f0f921\"]], \"sequentialminus\": [[0.0, \"#0d0887\"], [0.1111111111111111, \"#46039f\"], [0.2222222222222222, \"#7201a8\"], [0.3333333333333333, \"#9c179e\"], [0.4444444444444444, \"#bd3786\"], [0.5555555555555556, \"#d8576b\"], [0.6666666666666666, \"#ed7953\"], [0.7777777777777778, \"#fb9f3a\"], [0.8888888888888888, \"#fdca26\"], [1.0, \"#f0f921\"]]}, \"colorway\": [\"#636efa\", \"#EF553B\", \"#00cc96\", \"#ab63fa\", \"#FFA15A\", \"#19d3f3\", \"#FF6692\", \"#B6E880\", \"#FF97FF\", \"#FECB52\"], \"font\": {\"color\": \"#2a3f5f\"}, \"geo\": {\"bgcolor\": \"white\", \"lakecolor\": \"white\", \"landcolor\": \"#E5ECF6\", \"showlakes\": true, \"showland\": true, \"subunitcolor\": \"white\"}, \"hoverlabel\": {\"align\": \"left\"}, \"hovermode\": \"closest\", \"mapbox\": {\"style\": \"light\"}, \"paper_bgcolor\": \"white\", \"plot_bgcolor\": \"#E5ECF6\", \"polar\": {\"angularaxis\": {\"gridcolor\": \"white\", \"linecolor\": \"white\", \"ticks\": \"\"}, \"bgcolor\": \"#E5ECF6\", \"radialaxis\": {\"gridcolor\": \"white\", \"linecolor\": \"white\", \"ticks\": \"\"}}, \"scene\": {\"xaxis\": {\"backgroundcolor\": \"#E5ECF6\", \"gridcolor\": \"white\", \"gridwidth\": 2, \"linecolor\": \"white\", \"showbackground\": true, \"ticks\": \"\", \"zerolinecolor\": \"white\"}, \"yaxis\": {\"backgroundcolor\": \"#E5ECF6\", \"gridcolor\": \"white\", \"gridwidth\": 2, \"linecolor\": \"white\", \"showbackground\": true, \"ticks\": \"\", \"zerolinecolor\": \"white\"}, \"zaxis\": {\"backgroundcolor\": \"#E5ECF6\", \"gridcolor\": \"white\", \"gridwidth\": 2, \"linecolor\": \"white\", \"showbackground\": true, \"ticks\": \"\", \"zerolinecolor\": \"white\"}}, \"shapedefaults\": {\"line\": {\"color\": \"#2a3f5f\"}}, \"ternary\": {\"aaxis\": {\"gridcolor\": \"white\", \"linecolor\": \"white\", \"ticks\": \"\"}, \"baxis\": {\"gridcolor\": \"white\", \"linecolor\": \"white\", \"ticks\": \"\"}, \"bgcolor\": \"#E5ECF6\", \"caxis\": {\"gridcolor\": \"white\", \"linecolor\": \"white\", \"ticks\": \"\"}}, \"title\": {\"x\": 0.05}, \"xaxis\": {\"automargin\": true, \"gridcolor\": \"white\", \"linecolor\": \"white\", \"ticks\": \"\", \"title\": {\"standoff\": 15}, \"zerolinecolor\": \"white\", \"zerolinewidth\": 2}, \"yaxis\": {\"automargin\": true, \"gridcolor\": \"white\", \"linecolor\": \"white\", \"ticks\": \"\", \"title\": {\"standoff\": 15}, \"zerolinecolor\": \"white\", \"zerolinewidth\": 2}}}, \"title\": {\"text\": \"2D Cluster PCA Plot\"}, \"xaxis\": {\"anchor\": \"y\", \"domain\": [0.0, 1.0], \"title\": {\"text\": \"PCA1\"}}, \"yaxis\": {\"anchor\": \"x\", \"domain\": [0.0, 1.0], \"title\": {\"text\": \"PCA2\"}}},\n",
       "                        {\"responsive\": true}\n",
       "                    ).then(function(){\n",
       "                            \n",
       "var gd = document.getElementById('a93021d8-e77f-47aa-aa20-3030af789d29');\n",
       "var x = new MutationObserver(function (mutations, observer) {{\n",
       "        var display = window.getComputedStyle(gd).display;\n",
       "        if (!display || display === 'none') {{\n",
       "            console.log([gd, 'removed!']);\n",
       "            Plotly.purge(gd);\n",
       "            observer.disconnect();\n",
       "        }}\n",
       "}});\n",
       "\n",
       "// Listen for the removal of the full notebook cells\n",
       "var notebookContainer = gd.closest('#notebook-container');\n",
       "if (notebookContainer) {{\n",
       "    x.observe(notebookContainer, {childList: true});\n",
       "}}\n",
       "\n",
       "// Listen for the clearing of the current output cell\n",
       "var outputEl = gd.closest('.output');\n",
       "if (outputEl) {{\n",
       "    x.observe(outputEl, {childList: true});\n",
       "}}\n",
       "\n",
       "                        })\n",
       "                };\n",
       "                });\n",
       "            </script>\n",
       "        </div>"
      ]
     },
     "metadata": {},
     "output_type": "display_data"
    }
   ],
   "source": [
    "plot_model(kmeans)"
   ]
  },
  {
   "cell_type": "code",
   "execution_count": null,
   "metadata": {},
   "outputs": [],
   "source": []
  }
 ],
 "metadata": {
  "kernelspec": {
   "display_name": "Python 3",
   "language": "python",
   "name": "python3"
  },
  "language_info": {
   "codemirror_mode": {
    "name": "ipython",
    "version": 3
   },
   "file_extension": ".py",
   "mimetype": "text/x-python",
   "name": "python",
   "nbconvert_exporter": "python",
   "pygments_lexer": "ipython3",
   "version": "3.7.7"
  }
 },
 "nbformat": 4,
 "nbformat_minor": 4
}
